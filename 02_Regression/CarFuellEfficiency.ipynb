{
 "cells": [
  {
   "cell_type": "code",
   "execution_count": 1,
   "id": "cb90d3d9",
   "metadata": {},
   "outputs": [],
   "source": [
    "import pandas as pd\n",
    "import numpy as np\n",
    "import matplotlib.pyplot as plt \n",
    "import seaborn as sns\n",
    "\n",
    "%matplotlib inline"
   ]
  },
  {
   "cell_type": "code",
   "execution_count": 2,
   "id": "729980ab",
   "metadata": {},
   "outputs": [
    {
     "data": {
      "application/vnd.microsoft.datawrangler.viewer.v0+json": {
       "columns": [
        {
         "name": "index",
         "rawType": "int64",
         "type": "integer"
        },
        {
         "name": "engine_displacement",
         "rawType": "int64",
         "type": "integer"
        },
        {
         "name": "num_cylinders",
         "rawType": "float64",
         "type": "float"
        },
        {
         "name": "horsepower",
         "rawType": "float64",
         "type": "float"
        },
        {
         "name": "vehicle_weight",
         "rawType": "float64",
         "type": "float"
        },
        {
         "name": "acceleration",
         "rawType": "float64",
         "type": "float"
        },
        {
         "name": "model_year",
         "rawType": "int64",
         "type": "integer"
        },
        {
         "name": "origin",
         "rawType": "object",
         "type": "string"
        },
        {
         "name": "fuel_type",
         "rawType": "object",
         "type": "string"
        },
        {
         "name": "drivetrain",
         "rawType": "object",
         "type": "string"
        },
        {
         "name": "num_doors",
         "rawType": "float64",
         "type": "float"
        },
        {
         "name": "fuel_efficiency_mpg",
         "rawType": "float64",
         "type": "float"
        }
       ],
       "ref": "227464b6-4211-4aec-b8ff-95d9b156cc98",
       "rows": [
        [
         "0",
         "170",
         "3.0",
         "159.0",
         "3413.433758606219",
         "17.7",
         "2003",
         "Europe",
         "Gasoline",
         "All-wheel drive",
         "0.0",
         "13.231728906241411"
        ],
        [
         "1",
         "130",
         "5.0",
         "97.0",
         "3149.664934220036",
         "17.8",
         "2007",
         "USA",
         "Gasoline",
         "Front-wheel drive",
         "0.0",
         "13.688217435463793"
        ],
        [
         "2",
         "170",
         null,
         "78.0",
         "3079.03899736884",
         "15.1",
         "2018",
         "Europe",
         "Gasoline",
         "Front-wheel drive",
         "0.0",
         "14.246340998160866"
        ],
        [
         "3",
         "220",
         "4.0",
         null,
         "2542.392401828378",
         "20.2",
         "2009",
         "USA",
         "Diesel",
         "All-wheel drive",
         "2.0",
         "16.91273559598635"
        ],
        [
         "4",
         "210",
         "1.0",
         "140.0",
         "3460.870989989018",
         "14.4",
         "2009",
         "Europe",
         "Gasoline",
         "All-wheel drive",
         "2.0",
         "12.488369121964562"
        ],
        [
         "5",
         "190",
         "3.0",
         null,
         "2484.883986036068",
         "14.7",
         "2008",
         "Europe",
         "Gasoline",
         "All-wheel drive",
         "-1.0",
         "17.271818372724237"
        ],
        [
         "6",
         "240",
         "7.0",
         "127.0",
         "3006.5422872171457",
         "22.2",
         "2012",
         "USA",
         "Gasoline",
         "Front-wheel drive",
         "1.0",
         "13.210412112385608"
        ],
        [
         "7",
         "150",
         "4.0",
         "239.0",
         "3638.6577802809",
         "17.3",
         "2020",
         "USA",
         "Diesel",
         "All-wheel drive",
         "1.0",
         "12.848883861524026"
        ],
        [
         "8",
         "250",
         "1.0",
         "174.0",
         "2714.219309645285",
         "10.3",
         "2016",
         "Asia",
         "Diesel",
         "Front-wheel drive",
         "-1.0",
         "16.823553726916543"
        ],
        [
         "9",
         "150",
         "4.0",
         "123.0",
         "3509.036569100613",
         "10.2",
         "2005",
         "USA",
         "Gasoline",
         "Front-wheel drive",
         "-1.0",
         "12.298354983681604"
        ],
        [
         "10",
         "230",
         "5.0",
         "100.0",
         "3111.810181389172",
         "15.4",
         "2014",
         "Europe",
         "Diesel",
         "All-wheel drive",
         "0.0",
         "13.386605047290962"
        ],
        [
         "11",
         "150",
         "5.0",
         null,
         "1967.2004212521003",
         "12.6",
         "2014",
         "USA",
         "Diesel",
         "Front-wheel drive",
         "2.0",
         "20.50444671989053"
        ],
        [
         "12",
         "320",
         "5.0",
         "145.0",
         "2783.8689742437728",
         "15.1",
         "2010",
         "Asia",
         "Diesel",
         "All-wheel drive",
         "1.0",
         "16.17581958009284"
        ],
        [
         "13",
         "170",
         "1.0",
         "193.0",
         "2274.7351905647565",
         "17.5",
         "2000",
         "Europe",
         "Diesel",
         "Front-wheel drive",
         "0.0",
         "18.792742345719034"
        ],
        [
         "14",
         "200",
         "6.0",
         "160.0",
         "3582.687367715132",
         "14.9",
         "2007",
         "Asia",
         "Diesel",
         "All-wheel drive",
         "0.0",
         "11.871091010445811"
        ],
        [
         "15",
         "220",
         "4.0",
         "179.0",
         "2631.0652035914763",
         "16.0",
         "2006",
         "USA",
         "Gasoline",
         "All-wheel drive",
         "1.0",
         "16.756081170464494"
        ],
        [
         "16",
         "160",
         "3.0",
         "180.0",
         "2673.5529409560954",
         "8.5",
         "2013",
         "Europe",
         "Diesel",
         "All-wheel drive",
         "-1.0",
         "17.516175727210882"
        ],
        [
         "17",
         "190",
         "6.0",
         "132.0",
         "2427.3118562098525",
         "17.8",
         "2011",
         "USA",
         "Diesel",
         "Front-wheel drive",
         "-1.0",
         "17.65868533963579"
        ],
        [
         "18",
         "250",
         "2.0",
         "110.0",
         "2971.2145745989487",
         null,
         "2003",
         "Europe",
         "Gasoline",
         "Front-wheel drive",
         "1.0",
         "14.735962194497768"
        ],
        [
         "19",
         "180",
         "1.0",
         "126.0",
         "2986.958657420011",
         "17.9",
         "2004",
         "Europe",
         "Gasoline",
         "All-wheel drive",
         "-1.0",
         "15.097137105104313"
        ],
        [
         "20",
         "150",
         "3.0",
         "197.0",
         "2231.8081416029345",
         "18.7",
         "2011",
         "Asia",
         "Gasoline",
         "Front-wheel drive",
         "1.0",
         "18.88908257097108"
        ],
        [
         "21",
         "160",
         "4.0",
         "133.0",
         "2659.431450757995",
         null,
         "2016",
         "Asia",
         "Gasoline",
         "Front-wheel drive",
         "-1.0",
         "16.077730214491176"
        ],
        [
         "22",
         "190",
         "1.0",
         "144.0",
         "2438.842125555246",
         "16.4",
         "2016",
         "Europe",
         "Diesel",
         "Front-wheel drive",
         "1.0",
         "17.08040493384839"
        ],
        [
         "23",
         "230",
         "2.0",
         "160.0",
         "3342.6060274901347",
         "12.9",
         "2009",
         "Europe",
         "Gasoline",
         "All-wheel drive",
         "0.0",
         "13.7383805846665"
        ],
        [
         "24",
         "260",
         "3.0",
         "156.0",
         "4267.390497388771",
         "20.0",
         "2004",
         "USA",
         "Diesel",
         "Front-wheel drive",
         "1.0",
         "7.853194329416397"
        ],
        [
         "25",
         "210",
         "6.0",
         "157.0",
         "2860.206191293806",
         "12.6",
         "2013",
         "USA",
         "Gasoline",
         "All-wheel drive",
         null,
         "15.906421807842523"
        ],
        [
         "26",
         "180",
         "8.0",
         "160.0",
         "3080.170161717871",
         "10.6",
         "2002",
         "USA",
         "Diesel",
         "All-wheel drive",
         "2.0",
         "15.089880004688071"
        ],
        [
         "27",
         "120",
         "6.0",
         "206.0",
         "3467.355490131792",
         "18.3",
         "2016",
         "USA",
         "Gasoline",
         "Front-wheel drive",
         "-1.0",
         "13.04899290040456"
        ],
        [
         "28",
         "220",
         "4.0",
         "154.0",
         "3335.0681874881448",
         "14.8",
         "2005",
         "USA",
         "Diesel",
         "All-wheel drive",
         "-1.0",
         "13.411265956371402"
        ],
        [
         "29",
         "230",
         "4.0",
         "132.0",
         "2479.7829741497544",
         "15.6",
         "2014",
         "Europe",
         "Diesel",
         "All-wheel drive",
         "0.0",
         "17.34901126810939"
        ],
        [
         "30",
         "280",
         "5.0",
         "140.0",
         "2598.598215530185",
         "17.1",
         "2022",
         "USA",
         "Gasoline",
         "Front-wheel drive",
         "0.0",
         "16.852517863788954"
        ],
        [
         "31",
         "160",
         "4.0",
         "153.0",
         "3106.306111675653",
         "15.8",
         "2000",
         "Europe",
         "Gasoline",
         "All-wheel drive",
         "-1.0",
         "14.04564452468013"
        ],
        [
         "32",
         "40",
         "5.0",
         "136.0",
         "3619.370730176663",
         "19.5",
         "2017",
         "Europe",
         "Gasoline",
         "All-wheel drive",
         "-1.0",
         "11.02937073424243"
        ],
        [
         "33",
         "200",
         "4.0",
         "168.0",
         "2946.9791685788814",
         "18.6",
         "2001",
         "USA",
         "Diesel",
         "Front-wheel drive",
         "0.0",
         "15.76758556294088"
        ],
        [
         "34",
         "150",
         "2.0",
         "149.0",
         "2844.2275338857653",
         "17.3",
         "2014",
         "Asia",
         "Diesel",
         "Front-wheel drive",
         "0.0",
         "15.353788201522017"
        ],
        [
         "35",
         "160",
         "3.0",
         "127.0",
         "2961.158679125447",
         "14.8",
         "2004",
         "USA",
         "Gasoline",
         "Front-wheel drive",
         "0.0",
         "14.671771671571785"
        ],
        [
         "36",
         "200",
         "5.0",
         "143.0",
         "3040.2365213942894",
         "14.2",
         "2006",
         "USA",
         "Diesel",
         "All-wheel drive",
         "-1.0",
         "15.01132504011616"
        ],
        [
         "37",
         "80",
         "3.0",
         "132.0",
         "3444.8921095893515",
         "17.2",
         "2023",
         "Europe",
         "Gasoline",
         "Front-wheel drive",
         "-1.0",
         "11.704658142342613"
        ],
        [
         "38",
         "190",
         "5.0",
         "158.0",
         "3761.9940381922206",
         null,
         "2019",
         "Asia",
         "Gasoline",
         "Front-wheel drive",
         "1.0",
         "11.645724047561528"
        ],
        [
         "39",
         "240",
         "6.0",
         "176.0",
         "2676.886843633655",
         "14.5",
         "2002",
         "Europe",
         "Gasoline",
         "Front-wheel drive",
         "-1.0",
         "17.322851581349216"
        ],
        [
         "40",
         "110",
         "1.0",
         "108.0",
         "2292.675257052191",
         "14.5",
         "2015",
         "Europe",
         "Gasoline",
         "Front-wheel drive",
         "0.0",
         "18.63000885913826"
        ],
        [
         "41",
         "230",
         "2.0",
         "125.0",
         "2563.9027023821623",
         "18.1",
         "2008",
         "Europe",
         "Gasoline",
         "All-wheel drive",
         "0.0",
         "16.890273538222665"
        ],
        [
         "42",
         "240",
         "4.0",
         "123.0",
         "2612.0154112627533",
         "10.5",
         "2013",
         "USA",
         "Diesel",
         "Front-wheel drive",
         "-1.0",
         "16.416020840488873"
        ],
        [
         "43",
         "170",
         "4.0",
         "123.0",
         "2957.6811098887447",
         "14.4",
         "2012",
         "Asia",
         "Diesel",
         "All-wheel drive",
         "-1.0",
         "15.039796931634644"
        ],
        [
         "44",
         "240",
         "2.0",
         "142.0",
         "2544.516801769428",
         "12.9",
         "2016",
         "Asia",
         "Gasoline",
         "All-wheel drive",
         "0.0",
         "17.600327865900464"
        ],
        [
         "45",
         "380",
         null,
         "139.0",
         "1833.1964030710933",
         "16.7",
         "2022",
         "USA",
         "Gasoline",
         "Front-wheel drive",
         "-1.0",
         "20.728616942029674"
        ],
        [
         "46",
         "190",
         "4.0",
         "170.0",
         "2607.6950038058926",
         "20.8",
         "2019",
         "USA",
         "Diesel",
         "Front-wheel drive",
         "1.0",
         "15.932777017483826"
        ],
        [
         "47",
         "270",
         "1.0",
         "135.0",
         "3858.9146336751146",
         null,
         "2006",
         "Europe",
         "Gasoline",
         "Front-wheel drive",
         "2.0",
         "10.0898180828745"
        ],
        [
         "48",
         "190",
         "5.0",
         "202.0",
         "2531.185247040718",
         "16.2",
         "2016",
         "Asia",
         "Gasoline",
         "All-wheel drive",
         "0.0",
         "17.983505227568678"
        ],
        [
         "49",
         "140",
         "7.0",
         "99.0",
         "3602.664482911108",
         "17.0",
         "2015",
         "Europe",
         "Gasoline",
         "All-wheel drive",
         "1.0",
         "11.25726765887053"
        ]
       ],
       "shape": {
        "columns": 11,
        "rows": 9704
       }
      },
      "text/html": [
       "<div>\n",
       "<style scoped>\n",
       "    .dataframe tbody tr th:only-of-type {\n",
       "        vertical-align: middle;\n",
       "    }\n",
       "\n",
       "    .dataframe tbody tr th {\n",
       "        vertical-align: top;\n",
       "    }\n",
       "\n",
       "    .dataframe thead th {\n",
       "        text-align: right;\n",
       "    }\n",
       "</style>\n",
       "<table border=\"1\" class=\"dataframe\">\n",
       "  <thead>\n",
       "    <tr style=\"text-align: right;\">\n",
       "      <th></th>\n",
       "      <th>engine_displacement</th>\n",
       "      <th>num_cylinders</th>\n",
       "      <th>horsepower</th>\n",
       "      <th>vehicle_weight</th>\n",
       "      <th>acceleration</th>\n",
       "      <th>model_year</th>\n",
       "      <th>origin</th>\n",
       "      <th>fuel_type</th>\n",
       "      <th>drivetrain</th>\n",
       "      <th>num_doors</th>\n",
       "      <th>fuel_efficiency_mpg</th>\n",
       "    </tr>\n",
       "  </thead>\n",
       "  <tbody>\n",
       "    <tr>\n",
       "      <th>0</th>\n",
       "      <td>170</td>\n",
       "      <td>3.0</td>\n",
       "      <td>159.0</td>\n",
       "      <td>3413.433759</td>\n",
       "      <td>17.7</td>\n",
       "      <td>2003</td>\n",
       "      <td>Europe</td>\n",
       "      <td>Gasoline</td>\n",
       "      <td>All-wheel drive</td>\n",
       "      <td>0.0</td>\n",
       "      <td>13.231729</td>\n",
       "    </tr>\n",
       "    <tr>\n",
       "      <th>1</th>\n",
       "      <td>130</td>\n",
       "      <td>5.0</td>\n",
       "      <td>97.0</td>\n",
       "      <td>3149.664934</td>\n",
       "      <td>17.8</td>\n",
       "      <td>2007</td>\n",
       "      <td>USA</td>\n",
       "      <td>Gasoline</td>\n",
       "      <td>Front-wheel drive</td>\n",
       "      <td>0.0</td>\n",
       "      <td>13.688217</td>\n",
       "    </tr>\n",
       "    <tr>\n",
       "      <th>2</th>\n",
       "      <td>170</td>\n",
       "      <td>NaN</td>\n",
       "      <td>78.0</td>\n",
       "      <td>3079.038997</td>\n",
       "      <td>15.1</td>\n",
       "      <td>2018</td>\n",
       "      <td>Europe</td>\n",
       "      <td>Gasoline</td>\n",
       "      <td>Front-wheel drive</td>\n",
       "      <td>0.0</td>\n",
       "      <td>14.246341</td>\n",
       "    </tr>\n",
       "    <tr>\n",
       "      <th>3</th>\n",
       "      <td>220</td>\n",
       "      <td>4.0</td>\n",
       "      <td>NaN</td>\n",
       "      <td>2542.392402</td>\n",
       "      <td>20.2</td>\n",
       "      <td>2009</td>\n",
       "      <td>USA</td>\n",
       "      <td>Diesel</td>\n",
       "      <td>All-wheel drive</td>\n",
       "      <td>2.0</td>\n",
       "      <td>16.912736</td>\n",
       "    </tr>\n",
       "    <tr>\n",
       "      <th>4</th>\n",
       "      <td>210</td>\n",
       "      <td>1.0</td>\n",
       "      <td>140.0</td>\n",
       "      <td>3460.870990</td>\n",
       "      <td>14.4</td>\n",
       "      <td>2009</td>\n",
       "      <td>Europe</td>\n",
       "      <td>Gasoline</td>\n",
       "      <td>All-wheel drive</td>\n",
       "      <td>2.0</td>\n",
       "      <td>12.488369</td>\n",
       "    </tr>\n",
       "    <tr>\n",
       "      <th>...</th>\n",
       "      <td>...</td>\n",
       "      <td>...</td>\n",
       "      <td>...</td>\n",
       "      <td>...</td>\n",
       "      <td>...</td>\n",
       "      <td>...</td>\n",
       "      <td>...</td>\n",
       "      <td>...</td>\n",
       "      <td>...</td>\n",
       "      <td>...</td>\n",
       "      <td>...</td>\n",
       "    </tr>\n",
       "    <tr>\n",
       "      <th>9699</th>\n",
       "      <td>140</td>\n",
       "      <td>5.0</td>\n",
       "      <td>164.0</td>\n",
       "      <td>2981.107371</td>\n",
       "      <td>17.3</td>\n",
       "      <td>2013</td>\n",
       "      <td>Europe</td>\n",
       "      <td>Diesel</td>\n",
       "      <td>Front-wheel drive</td>\n",
       "      <td>NaN</td>\n",
       "      <td>15.101802</td>\n",
       "    </tr>\n",
       "    <tr>\n",
       "      <th>9700</th>\n",
       "      <td>180</td>\n",
       "      <td>NaN</td>\n",
       "      <td>154.0</td>\n",
       "      <td>2439.525729</td>\n",
       "      <td>15.0</td>\n",
       "      <td>2004</td>\n",
       "      <td>USA</td>\n",
       "      <td>Gasoline</td>\n",
       "      <td>All-wheel drive</td>\n",
       "      <td>0.0</td>\n",
       "      <td>17.962326</td>\n",
       "    </tr>\n",
       "    <tr>\n",
       "      <th>9701</th>\n",
       "      <td>220</td>\n",
       "      <td>2.0</td>\n",
       "      <td>138.0</td>\n",
       "      <td>2583.471318</td>\n",
       "      <td>15.1</td>\n",
       "      <td>2008</td>\n",
       "      <td>USA</td>\n",
       "      <td>Diesel</td>\n",
       "      <td>All-wheel drive</td>\n",
       "      <td>-1.0</td>\n",
       "      <td>17.186587</td>\n",
       "    </tr>\n",
       "    <tr>\n",
       "      <th>9702</th>\n",
       "      <td>230</td>\n",
       "      <td>4.0</td>\n",
       "      <td>177.0</td>\n",
       "      <td>2905.527390</td>\n",
       "      <td>19.4</td>\n",
       "      <td>2011</td>\n",
       "      <td>USA</td>\n",
       "      <td>Diesel</td>\n",
       "      <td>Front-wheel drive</td>\n",
       "      <td>1.0</td>\n",
       "      <td>15.331551</td>\n",
       "    </tr>\n",
       "    <tr>\n",
       "      <th>9703</th>\n",
       "      <td>270</td>\n",
       "      <td>3.0</td>\n",
       "      <td>140.0</td>\n",
       "      <td>2908.043477</td>\n",
       "      <td>14.7</td>\n",
       "      <td>2005</td>\n",
       "      <td>Asia</td>\n",
       "      <td>Diesel</td>\n",
       "      <td>All-wheel drive</td>\n",
       "      <td>-1.0</td>\n",
       "      <td>14.884467</td>\n",
       "    </tr>\n",
       "  </tbody>\n",
       "</table>\n",
       "<p>9704 rows × 11 columns</p>\n",
       "</div>"
      ],
      "text/plain": [
       "      engine_displacement  num_cylinders  horsepower  vehicle_weight  \\\n",
       "0                     170            3.0       159.0     3413.433759   \n",
       "1                     130            5.0        97.0     3149.664934   \n",
       "2                     170            NaN        78.0     3079.038997   \n",
       "3                     220            4.0         NaN     2542.392402   \n",
       "4                     210            1.0       140.0     3460.870990   \n",
       "...                   ...            ...         ...             ...   \n",
       "9699                  140            5.0       164.0     2981.107371   \n",
       "9700                  180            NaN       154.0     2439.525729   \n",
       "9701                  220            2.0       138.0     2583.471318   \n",
       "9702                  230            4.0       177.0     2905.527390   \n",
       "9703                  270            3.0       140.0     2908.043477   \n",
       "\n",
       "      acceleration  model_year  origin fuel_type         drivetrain  \\\n",
       "0             17.7        2003  Europe  Gasoline    All-wheel drive   \n",
       "1             17.8        2007     USA  Gasoline  Front-wheel drive   \n",
       "2             15.1        2018  Europe  Gasoline  Front-wheel drive   \n",
       "3             20.2        2009     USA    Diesel    All-wheel drive   \n",
       "4             14.4        2009  Europe  Gasoline    All-wheel drive   \n",
       "...            ...         ...     ...       ...                ...   \n",
       "9699          17.3        2013  Europe    Diesel  Front-wheel drive   \n",
       "9700          15.0        2004     USA  Gasoline    All-wheel drive   \n",
       "9701          15.1        2008     USA    Diesel    All-wheel drive   \n",
       "9702          19.4        2011     USA    Diesel  Front-wheel drive   \n",
       "9703          14.7        2005    Asia    Diesel    All-wheel drive   \n",
       "\n",
       "      num_doors  fuel_efficiency_mpg  \n",
       "0           0.0            13.231729  \n",
       "1           0.0            13.688217  \n",
       "2           0.0            14.246341  \n",
       "3           2.0            16.912736  \n",
       "4           2.0            12.488369  \n",
       "...         ...                  ...  \n",
       "9699        NaN            15.101802  \n",
       "9700        0.0            17.962326  \n",
       "9701       -1.0            17.186587  \n",
       "9702        1.0            15.331551  \n",
       "9703       -1.0            14.884467  \n",
       "\n",
       "[9704 rows x 11 columns]"
      ]
     },
     "execution_count": 2,
     "metadata": {},
     "output_type": "execute_result"
    }
   ],
   "source": [
    "df = pd.read_csv('car_fuel_efficiency.csv')\n",
    "df"
   ]
  },
  {
   "cell_type": "code",
   "execution_count": 3,
   "id": "7bd75896",
   "metadata": {},
   "outputs": [
    {
     "data": {
      "text/plain": [
       "Index(['engine_displacement', 'num_cylinders', 'horsepower', 'vehicle_weight',\n",
       "       'acceleration', 'model_year', 'origin', 'fuel_type', 'drivetrain',\n",
       "       'num_doors', 'fuel_efficiency_mpg'],\n",
       "      dtype='object')"
      ]
     },
     "execution_count": 3,
     "metadata": {},
     "output_type": "execute_result"
    }
   ],
   "source": [
    "df.columns"
   ]
  },
  {
   "cell_type": "code",
   "execution_count": 4,
   "id": "649333bc",
   "metadata": {},
   "outputs": [],
   "source": [
    "df = df[['engine_displacement', 'horsepower', 'vehicle_weight', 'model_year', 'fuel_efficiency_mpg']]\n",
    "    "
   ]
  },
  {
   "cell_type": "code",
   "execution_count": 5,
   "id": "c73740c1",
   "metadata": {},
   "outputs": [
    {
     "name": "stdout",
     "output_type": "stream",
     "text": [
      "<class 'pandas.core.frame.DataFrame'>\n",
      "RangeIndex: 9704 entries, 0 to 9703\n",
      "Data columns (total 5 columns):\n",
      " #   Column               Non-Null Count  Dtype  \n",
      "---  ------               --------------  -----  \n",
      " 0   engine_displacement  9704 non-null   int64  \n",
      " 1   horsepower           8996 non-null   float64\n",
      " 2   vehicle_weight       9704 non-null   float64\n",
      " 3   model_year           9704 non-null   int64  \n",
      " 4   fuel_efficiency_mpg  9704 non-null   float64\n",
      "dtypes: float64(3), int64(2)\n",
      "memory usage: 379.2 KB\n"
     ]
    }
   ],
   "source": [
    "df.info()"
   ]
  },
  {
   "cell_type": "code",
   "execution_count": 6,
   "id": "8222143f",
   "metadata": {},
   "outputs": [
    {
     "data": {
      "application/vnd.microsoft.datawrangler.viewer.v0+json": {
       "columns": [
        {
         "name": "index",
         "rawType": "object",
         "type": "string"
        },
        {
         "name": "0",
         "rawType": "int64",
         "type": "integer"
        }
       ],
       "ref": "24090dea-83b6-41db-b418-03a15dfc40cc",
       "rows": [
        [
         "engine_displacement",
         "0"
        ],
        [
         "horsepower",
         "708"
        ],
        [
         "vehicle_weight",
         "0"
        ],
        [
         "model_year",
         "0"
        ],
        [
         "fuel_efficiency_mpg",
         "0"
        ]
       ],
       "shape": {
        "columns": 1,
        "rows": 5
       }
      },
      "text/plain": [
       "engine_displacement      0\n",
       "horsepower             708\n",
       "vehicle_weight           0\n",
       "model_year               0\n",
       "fuel_efficiency_mpg      0\n",
       "dtype: int64"
      ]
     },
     "execution_count": 6,
     "metadata": {},
     "output_type": "execute_result"
    }
   ],
   "source": [
    "df.isnull().sum()"
   ]
  },
  {
   "cell_type": "code",
   "execution_count": 7,
   "id": "8d347a4c",
   "metadata": {},
   "outputs": [
    {
     "data": {
      "text/plain": [
       "<Axes: xlabel='fuel_efficiency_mpg', ylabel='Count'>"
      ]
     },
     "execution_count": 7,
     "metadata": {},
     "output_type": "execute_result"
    },
    {
     "data": {
      "image/png": "[encoded data removed]",
      "text/plain": [
       "<Figure size 640x480 with 1 Axes>"
      ]
     },
     "metadata": {},
     "output_type": "display_data"
    }
   ],
   "source": [
    "sns.histplot(df.fuel_efficiency_mpg)"
   ]
  },
  {
   "cell_type": "code",
   "execution_count": 8,
   "id": "4ccf704e",
   "metadata": {},
   "outputs": [
    {
     "data": {
      "text/plain": [
       "149.0"
      ]
     },
     "execution_count": 8,
     "metadata": {},
     "output_type": "execute_result"
    }
   ],
   "source": [
    "df.horsepower.median()\n"
   ]
  },
  {
   "cell_type": "code",
   "execution_count": 9,
   "id": "19861e9e",
   "metadata": {},
   "outputs": [
    {
     "data": {
      "text/plain": [
       "(5824, 1940, 1940)"
      ]
     },
     "execution_count": 9,
     "metadata": {},
     "output_type": "execute_result"
    }
   ],
   "source": [
    "n = len(df)\n",
    "n_val = int(n*0.2)\n",
    "n_test = int(n*0.2)\n",
    "n_train = n-n_val-n_test\n",
    "n_train, n_val, n_test"
   ]
  },
  {
   "cell_type": "code",
   "execution_count": 10,
   "id": "166ebaf7",
   "metadata": {},
   "outputs": [],
   "source": [
    "idx = np.arange(n)\n",
    "np.random.seed(42)\n",
    "np.random.shuffle(idx)\n"
   ]
  },
  {
   "cell_type": "code",
   "execution_count": 11,
   "id": "f3836440",
   "metadata": {},
   "outputs": [
    {
     "data": {
      "application/vnd.microsoft.datawrangler.viewer.v0+json": {
       "columns": [
        {
         "name": "index",
         "rawType": "int64",
         "type": "integer"
        },
        {
         "name": "engine_displacement",
         "rawType": "int64",
         "type": "integer"
        },
        {
         "name": "horsepower",
         "rawType": "float64",
         "type": "float"
        },
        {
         "name": "vehicle_weight",
         "rawType": "float64",
         "type": "float"
        },
        {
         "name": "model_year",
         "rawType": "int64",
         "type": "integer"
        },
        {
         "name": "fuel_efficiency_mpg",
         "rawType": "float64",
         "type": "float"
        }
       ],
       "ref": "c4b4cde9-c54a-45b9-a696-87426b9e8ceb",
       "rows": [
        [
         "483",
         "220",
         "144.0",
         "2535.8875912388694",
         "2009",
         "16.642943419221385"
        ],
        [
         "7506",
         "160",
         "141.0",
         "2741.1704843893167",
         "2019",
         "16.298377150953442"
        ],
        [
         "8795",
         "230",
         "155.0",
         "2471.8802372627765",
         "2017",
         "18.59182197290521"
        ],
        [
         "1688",
         "150",
         "206.0",
         "3748.1644685764895",
         "2015",
         "11.818843137349878"
        ],
        [
         "6217",
         "300",
         "111.0",
         "2135.7163589302763",
         "2006",
         "19.40220906398922"
        ],
        [
         "4562",
         "180",
         "120.0",
         "3551.3980401922204",
         "2013",
         "12.145734018334991"
        ],
        [
         "5885",
         "210",
         "118.0",
         "3620.351977047662",
         "2018",
         "11.378399168053075"
        ],
        [
         "3746",
         "150",
         "152.0",
         "2524.407793578531",
         "2012",
         "16.667293571152946"
        ],
        [
         "7109",
         "160",
         "151.0",
         "2752.9642301767863",
         "2009",
         "15.819366524974331"
        ],
        [
         "2698",
         "250",
         "147.0",
         "3202.8565667394287",
         "2020",
         "14.100997654595409"
        ],
        [
         "311",
         "240",
         "159.0",
         "2916.9879208935845",
         "2001",
         "15.06641609689505"
        ],
        [
         "8470",
         "260",
         "173.0",
         "3002.302547233944",
         "2004",
         "15.537398238645798"
        ],
        [
         "5829",
         "210",
         "87.0",
         "2294.460674799408",
         "2012",
         "18.54831901172624"
        ],
        [
         "9606",
         "210",
         "165.0",
         "3494.4583482415137",
         "2009",
         "13.080735661518306"
        ],
        [
         "568",
         "110",
         "164.0",
         "2936.038945820719",
         "2021",
         "16.348820707049825"
        ],
        [
         "4129",
         "140",
         "107.0",
         "1832.6497731247875",
         "2012",
         "20.485269672921348"
        ],
        [
         "7925",
         "240",
         "105.0",
         "3689.197182864608",
         "2007",
         "11.512208186129758"
        ],
        [
         "8936",
         "290",
         "166.0",
         "3105.849902735137",
         "2016",
         "14.294791550631883"
        ],
        [
         "6618",
         "250",
         "206.0",
         "3073.3958045207905",
         "2004",
         "15.87083938733058"
        ],
        [
         "2997",
         "300",
         null,
         "3217.664208335019",
         "2000",
         "14.07246882738959"
        ],
        [
         "5617",
         "160",
         "184.0",
         "2733.2694413319136",
         "2007",
         "16.116958787905645"
        ],
        [
         "7361",
         "200",
         "146.0",
         "3043.0361909129097",
         "2016",
         "14.756433382903449"
        ],
        [
         "5244",
         "250",
         "123.0",
         "2963.1674707649813",
         "2014",
         "15.540816021256305"
        ],
        [
         "349",
         "200",
         "145.0",
         "2837.4042846811744",
         "2022",
         "16.083240768040447"
        ],
        [
         "2122",
         "190",
         "128.0",
         "3758.8099943509305",
         "2002",
         "10.080626563714144"
        ],
        [
         "5351",
         "140",
         "130.0",
         "2657.011389361136",
         "2005",
         "16.743850177574632"
        ],
        [
         "346",
         "150",
         "167.0",
         "2583.754263653306",
         "2004",
         "16.700828973991218"
        ],
        [
         "3154",
         "160",
         "158.0",
         "2942.1034008369184",
         "2007",
         "14.895357895171204"
        ],
        [
         "8935",
         "80",
         "100.0",
         "3552.574832987632",
         "2015",
         "12.629544986141829"
        ],
        [
         "7364",
         "200",
         null,
         "3090.672180205485",
         "2007",
         "14.326763529854782"
        ],
        [
         "2894",
         "240",
         "143.0",
         "2873.7551176388884",
         "2011",
         "16.481404889875016"
        ],
        [
         "2335",
         "130",
         "184.0",
         "1802.4450159073824",
         "2008",
         "21.906908211990757"
        ],
        [
         "4241",
         "270",
         null,
         "2819.0613069539177",
         "2016",
         "16.371332404034373"
        ],
        [
         "5768",
         "140",
         "147.0",
         "2376.622007765884",
         "2018",
         "18.12941229345393"
        ],
        [
         "5552",
         "170",
         "163.0",
         "2277.0196104009324",
         "2006",
         "19.30903650985"
        ],
        [
         "7606",
         "200",
         "140.0",
         "3626.632799902613",
         "2009",
         "11.903723947499596"
        ],
        [
         "5587",
         "200",
         "183.0",
         "2463.5798220564698",
         "2009",
         "17.329506714709723"
        ],
        [
         "1864",
         "230",
         "138.0",
         "3070.41596498856",
         "2023",
         "14.807426311155872"
        ],
        [
         "6925",
         "260",
         "175.0",
         "3049.967261964372",
         "2018",
         "15.318445053973369"
        ],
        [
         "39",
         "240",
         "176.0",
         "2676.886843633655",
         "2002",
         "17.322851581349216"
        ],
        [
         "1918",
         "190",
         "187.0",
         "2768.306124853432",
         "2011",
         "16.7395753849415"
        ],
        [
         "8371",
         "170",
         "133.0",
         "2920.0603333914496",
         "2003",
         "15.42719086439622"
        ],
        [
         "932",
         "250",
         "223.0",
         "3273.1826621063365",
         "2013",
         "13.103039273769475"
        ],
        [
         "5633",
         "210",
         "120.0",
         "1864.448914765373",
         "2016",
         "20.20864062495165"
        ],
        [
         "6790",
         "150",
         "178.0",
         "2445.782142543571",
         "2016",
         "18.34159348292096"
        ],
        [
         "6463",
         "230",
         "141.0",
         "2216.81029249578",
         "2002",
         "18.87308595562625"
        ],
        [
         "7919",
         "200",
         "152.0",
         "2584.454655887415",
         "2020",
         "16.392794888691448"
        ],
        [
         "1418",
         "190",
         "199.0",
         "2970.785579699682",
         "2021",
         "15.295008726152313"
        ],
        [
         "8449",
         "220",
         "129.0",
         "3672.4104967125977",
         "2005",
         "11.730970312145551"
        ],
        [
         "5012",
         "170",
         "172.0",
         "3558.6996614378395",
         "2011",
         "12.349030268213667"
        ]
       ],
       "shape": {
        "columns": 5,
        "rows": 5824
       }
      },
      "text/html": [
       "<div>\n",
       "<style scoped>\n",
       "    .dataframe tbody tr th:only-of-type {\n",
       "        vertical-align: middle;\n",
       "    }\n",
       "\n",
       "    .dataframe tbody tr th {\n",
       "        vertical-align: top;\n",
       "    }\n",
       "\n",
       "    .dataframe thead th {\n",
       "        text-align: right;\n",
       "    }\n",
       "</style>\n",
       "<table border=\"1\" class=\"dataframe\">\n",
       "  <thead>\n",
       "    <tr style=\"text-align: right;\">\n",
       "      <th></th>\n",
       "      <th>engine_displacement</th>\n",
       "      <th>horsepower</th>\n",
       "      <th>vehicle_weight</th>\n",
       "      <th>model_year</th>\n",
       "      <th>fuel_efficiency_mpg</th>\n",
       "    </tr>\n",
       "  </thead>\n",
       "  <tbody>\n",
       "    <tr>\n",
       "      <th>483</th>\n",
       "      <td>220</td>\n",
       "      <td>144.0</td>\n",
       "      <td>2535.887591</td>\n",
       "      <td>2009</td>\n",
       "      <td>16.642943</td>\n",
       "    </tr>\n",
       "    <tr>\n",
       "      <th>7506</th>\n",
       "      <td>160</td>\n",
       "      <td>141.0</td>\n",
       "      <td>2741.170484</td>\n",
       "      <td>2019</td>\n",
       "      <td>16.298377</td>\n",
       "    </tr>\n",
       "    <tr>\n",
       "      <th>8795</th>\n",
       "      <td>230</td>\n",
       "      <td>155.0</td>\n",
       "      <td>2471.880237</td>\n",
       "      <td>2017</td>\n",
       "      <td>18.591822</td>\n",
       "    </tr>\n",
       "    <tr>\n",
       "      <th>1688</th>\n",
       "      <td>150</td>\n",
       "      <td>206.0</td>\n",
       "      <td>3748.164469</td>\n",
       "      <td>2015</td>\n",
       "      <td>11.818843</td>\n",
       "    </tr>\n",
       "    <tr>\n",
       "      <th>6217</th>\n",
       "      <td>300</td>\n",
       "      <td>111.0</td>\n",
       "      <td>2135.716359</td>\n",
       "      <td>2006</td>\n",
       "      <td>19.402209</td>\n",
       "    </tr>\n",
       "    <tr>\n",
       "      <th>...</th>\n",
       "      <td>...</td>\n",
       "      <td>...</td>\n",
       "      <td>...</td>\n",
       "      <td>...</td>\n",
       "      <td>...</td>\n",
       "    </tr>\n",
       "    <tr>\n",
       "      <th>1696</th>\n",
       "      <td>260</td>\n",
       "      <td>139.0</td>\n",
       "      <td>2606.972984</td>\n",
       "      <td>2009</td>\n",
       "      <td>16.964054</td>\n",
       "    </tr>\n",
       "    <tr>\n",
       "      <th>5685</th>\n",
       "      <td>280</td>\n",
       "      <td>132.0</td>\n",
       "      <td>4004.214323</td>\n",
       "      <td>2014</td>\n",
       "      <td>10.059094</td>\n",
       "    </tr>\n",
       "    <tr>\n",
       "      <th>6735</th>\n",
       "      <td>210</td>\n",
       "      <td>152.0</td>\n",
       "      <td>2500.175687</td>\n",
       "      <td>2020</td>\n",
       "      <td>17.593237</td>\n",
       "    </tr>\n",
       "    <tr>\n",
       "      <th>2052</th>\n",
       "      <td>250</td>\n",
       "      <td>154.0</td>\n",
       "      <td>2254.313245</td>\n",
       "      <td>2002</td>\n",
       "      <td>18.925748</td>\n",
       "    </tr>\n",
       "    <tr>\n",
       "      <th>1776</th>\n",
       "      <td>210</td>\n",
       "      <td>152.0</td>\n",
       "      <td>2435.203606</td>\n",
       "      <td>2004</td>\n",
       "      <td>17.965284</td>\n",
       "    </tr>\n",
       "  </tbody>\n",
       "</table>\n",
       "<p>5824 rows × 5 columns</p>\n",
       "</div>"
      ],
      "text/plain": [
       "      engine_displacement  horsepower  vehicle_weight  model_year  \\\n",
       "483                   220       144.0     2535.887591        2009   \n",
       "7506                  160       141.0     2741.170484        2019   \n",
       "8795                  230       155.0     2471.880237        2017   \n",
       "1688                  150       206.0     3748.164469        2015   \n",
       "6217                  300       111.0     2135.716359        2006   \n",
       "...                   ...         ...             ...         ...   \n",
       "1696                  260       139.0     2606.972984        2009   \n",
       "5685                  280       132.0     4004.214323        2014   \n",
       "6735                  210       152.0     2500.175687        2020   \n",
       "2052                  250       154.0     2254.313245        2002   \n",
       "1776                  210       152.0     2435.203606        2004   \n",
       "\n",
       "      fuel_efficiency_mpg  \n",
       "483             16.642943  \n",
       "7506            16.298377  \n",
       "8795            18.591822  \n",
       "1688            11.818843  \n",
       "6217            19.402209  \n",
       "...                   ...  \n",
       "1696            16.964054  \n",
       "5685            10.059094  \n",
       "6735            17.593237  \n",
       "2052            18.925748  \n",
       "1776            17.965284  \n",
       "\n",
       "[5824 rows x 5 columns]"
      ]
     },
     "execution_count": 11,
     "metadata": {},
     "output_type": "execute_result"
    }
   ],
   "source": [
    "df_train = df.iloc[idx[:n_train]]\n",
    "df_val = df.iloc[idx[n_train:n_train+n_val]]\n",
    "df_test = df.iloc[idx[n_train+n_val:]]\n",
    "\n",
    "df_train"
   ]
  },
  {
   "cell_type": "code",
   "execution_count": 12,
   "id": "a22c1b77",
   "metadata": {},
   "outputs": [],
   "source": [
    "df_train = df_train.reset_index(drop=True)\n",
    "df_val = df_val.reset_index(drop=True)\n",
    "df_test = df_test.reset_index(drop=True)\n"
   ]
  },
  {
   "cell_type": "code",
   "execution_count": 13,
   "id": "c2450e33",
   "metadata": {},
   "outputs": [],
   "source": [
    "y_train = df_train.fuel_efficiency_mpg.values\n",
    "y_val = df_val.fuel_efficiency_mpg.values\n",
    "y_test = df_test.fuel_efficiency_mpg.values\n",
    "\n"
   ]
  },
  {
   "cell_type": "code",
   "execution_count": 14,
   "id": "77e20231",
   "metadata": {},
   "outputs": [
    {
     "data": {
      "application/vnd.microsoft.datawrangler.viewer.v0+json": {
       "columns": [
        {
         "name": "index",
         "rawType": "int64",
         "type": "integer"
        },
        {
         "name": "engine_displacement",
         "rawType": "int64",
         "type": "integer"
        },
        {
         "name": "horsepower",
         "rawType": "float64",
         "type": "float"
        },
        {
         "name": "vehicle_weight",
         "rawType": "float64",
         "type": "float"
        },
        {
         "name": "model_year",
         "rawType": "int64",
         "type": "integer"
        },
        {
         "name": "fuel_efficiency_mpg",
         "rawType": "float64",
         "type": "float"
        }
       ],
       "ref": "36a61640-7c6f-46ae-9e63-7590d618e6d4",
       "rows": [
        [
         "0",
         "220",
         "144.0",
         "2535.8875912388694",
         "2009",
         "16.642943419221385"
        ],
        [
         "1",
         "160",
         "141.0",
         "2741.1704843893167",
         "2019",
         "16.298377150953442"
        ],
        [
         "2",
         "230",
         "155.0",
         "2471.8802372627765",
         "2017",
         "18.59182197290521"
        ],
        [
         "3",
         "150",
         "206.0",
         "3748.1644685764895",
         "2015",
         "11.818843137349878"
        ],
        [
         "4",
         "300",
         "111.0",
         "2135.7163589302763",
         "2006",
         "19.40220906398922"
        ],
        [
         "5",
         "180",
         "120.0",
         "3551.3980401922204",
         "2013",
         "12.145734018334991"
        ],
        [
         "6",
         "210",
         "118.0",
         "3620.351977047662",
         "2018",
         "11.378399168053075"
        ],
        [
         "7",
         "150",
         "152.0",
         "2524.407793578531",
         "2012",
         "16.667293571152946"
        ],
        [
         "8",
         "160",
         "151.0",
         "2752.9642301767863",
         "2009",
         "15.819366524974331"
        ],
        [
         "9",
         "250",
         "147.0",
         "3202.8565667394287",
         "2020",
         "14.100997654595409"
        ],
        [
         "10",
         "240",
         "159.0",
         "2916.9879208935845",
         "2001",
         "15.06641609689505"
        ],
        [
         "11",
         "260",
         "173.0",
         "3002.302547233944",
         "2004",
         "15.537398238645798"
        ],
        [
         "12",
         "210",
         "87.0",
         "2294.460674799408",
         "2012",
         "18.54831901172624"
        ],
        [
         "13",
         "210",
         "165.0",
         "3494.4583482415137",
         "2009",
         "13.080735661518306"
        ],
        [
         "14",
         "110",
         "164.0",
         "2936.038945820719",
         "2021",
         "16.348820707049825"
        ],
        [
         "15",
         "140",
         "107.0",
         "1832.6497731247875",
         "2012",
         "20.485269672921348"
        ],
        [
         "16",
         "240",
         "105.0",
         "3689.197182864608",
         "2007",
         "11.512208186129758"
        ],
        [
         "17",
         "290",
         "166.0",
         "3105.849902735137",
         "2016",
         "14.294791550631883"
        ],
        [
         "18",
         "250",
         "206.0",
         "3073.3958045207905",
         "2004",
         "15.87083938733058"
        ],
        [
         "19",
         "300",
         null,
         "3217.664208335019",
         "2000",
         "14.07246882738959"
        ],
        [
         "20",
         "160",
         "184.0",
         "2733.2694413319136",
         "2007",
         "16.116958787905645"
        ],
        [
         "21",
         "200",
         "146.0",
         "3043.0361909129097",
         "2016",
         "14.756433382903449"
        ],
        [
         "22",
         "250",
         "123.0",
         "2963.1674707649813",
         "2014",
         "15.540816021256305"
        ],
        [
         "23",
         "200",
         "145.0",
         "2837.4042846811744",
         "2022",
         "16.083240768040447"
        ],
        [
         "24",
         "190",
         "128.0",
         "3758.8099943509305",
         "2002",
         "10.080626563714144"
        ],
        [
         "25",
         "140",
         "130.0",
         "2657.011389361136",
         "2005",
         "16.743850177574632"
        ],
        [
         "26",
         "150",
         "167.0",
         "2583.754263653306",
         "2004",
         "16.700828973991218"
        ],
        [
         "27",
         "160",
         "158.0",
         "2942.1034008369184",
         "2007",
         "14.895357895171204"
        ],
        [
         "28",
         "80",
         "100.0",
         "3552.574832987632",
         "2015",
         "12.629544986141829"
        ],
        [
         "29",
         "200",
         null,
         "3090.672180205485",
         "2007",
         "14.326763529854782"
        ],
        [
         "30",
         "240",
         "143.0",
         "2873.7551176388884",
         "2011",
         "16.481404889875016"
        ],
        [
         "31",
         "130",
         "184.0",
         "1802.4450159073824",
         "2008",
         "21.906908211990757"
        ],
        [
         "32",
         "270",
         null,
         "2819.0613069539177",
         "2016",
         "16.371332404034373"
        ],
        [
         "33",
         "140",
         "147.0",
         "2376.622007765884",
         "2018",
         "18.12941229345393"
        ],
        [
         "34",
         "170",
         "163.0",
         "2277.0196104009324",
         "2006",
         "19.30903650985"
        ],
        [
         "35",
         "200",
         "140.0",
         "3626.632799902613",
         "2009",
         "11.903723947499596"
        ],
        [
         "36",
         "200",
         "183.0",
         "2463.5798220564698",
         "2009",
         "17.329506714709723"
        ],
        [
         "37",
         "230",
         "138.0",
         "3070.41596498856",
         "2023",
         "14.807426311155872"
        ],
        [
         "38",
         "260",
         "175.0",
         "3049.967261964372",
         "2018",
         "15.318445053973369"
        ],
        [
         "39",
         "240",
         "176.0",
         "2676.886843633655",
         "2002",
         "17.322851581349216"
        ],
        [
         "40",
         "190",
         "187.0",
         "2768.306124853432",
         "2011",
         "16.7395753849415"
        ],
        [
         "41",
         "170",
         "133.0",
         "2920.0603333914496",
         "2003",
         "15.42719086439622"
        ],
        [
         "42",
         "250",
         "223.0",
         "3273.1826621063365",
         "2013",
         "13.103039273769475"
        ],
        [
         "43",
         "210",
         "120.0",
         "1864.448914765373",
         "2016",
         "20.20864062495165"
        ],
        [
         "44",
         "150",
         "178.0",
         "2445.782142543571",
         "2016",
         "18.34159348292096"
        ],
        [
         "45",
         "230",
         "141.0",
         "2216.81029249578",
         "2002",
         "18.87308595562625"
        ],
        [
         "46",
         "200",
         "152.0",
         "2584.454655887415",
         "2020",
         "16.392794888691448"
        ],
        [
         "47",
         "190",
         "199.0",
         "2970.785579699682",
         "2021",
         "15.295008726152313"
        ],
        [
         "48",
         "220",
         "129.0",
         "3672.4104967125977",
         "2005",
         "11.730970312145551"
        ],
        [
         "49",
         "170",
         "172.0",
         "3558.6996614378395",
         "2011",
         "12.349030268213667"
        ]
       ],
       "shape": {
        "columns": 5,
        "rows": 5824
       }
      },
      "text/html": [
       "<div>\n",
       "<style scoped>\n",
       "    .dataframe tbody tr th:only-of-type {\n",
       "        vertical-align: middle;\n",
       "    }\n",
       "\n",
       "    .dataframe tbody tr th {\n",
       "        vertical-align: top;\n",
       "    }\n",
       "\n",
       "    .dataframe thead th {\n",
       "        text-align: right;\n",
       "    }\n",
       "</style>\n",
       "<table border=\"1\" class=\"dataframe\">\n",
       "  <thead>\n",
       "    <tr style=\"text-align: right;\">\n",
       "      <th></th>\n",
       "      <th>engine_displacement</th>\n",
       "      <th>horsepower</th>\n",
       "      <th>vehicle_weight</th>\n",
       "      <th>model_year</th>\n",
       "      <th>fuel_efficiency_mpg</th>\n",
       "    </tr>\n",
       "  </thead>\n",
       "  <tbody>\n",
       "    <tr>\n",
       "      <th>0</th>\n",
       "      <td>220</td>\n",
       "      <td>144.0</td>\n",
       "      <td>2535.887591</td>\n",
       "      <td>2009</td>\n",
       "      <td>16.642943</td>\n",
       "    </tr>\n",
       "    <tr>\n",
       "      <th>1</th>\n",
       "      <td>160</td>\n",
       "      <td>141.0</td>\n",
       "      <td>2741.170484</td>\n",
       "      <td>2019</td>\n",
       "      <td>16.298377</td>\n",
       "    </tr>\n",
       "    <tr>\n",
       "      <th>2</th>\n",
       "      <td>230</td>\n",
       "      <td>155.0</td>\n",
       "      <td>2471.880237</td>\n",
       "      <td>2017</td>\n",
       "      <td>18.591822</td>\n",
       "    </tr>\n",
       "    <tr>\n",
       "      <th>3</th>\n",
       "      <td>150</td>\n",
       "      <td>206.0</td>\n",
       "      <td>3748.164469</td>\n",
       "      <td>2015</td>\n",
       "      <td>11.818843</td>\n",
       "    </tr>\n",
       "    <tr>\n",
       "      <th>4</th>\n",
       "      <td>300</td>\n",
       "      <td>111.0</td>\n",
       "      <td>2135.716359</td>\n",
       "      <td>2006</td>\n",
       "      <td>19.402209</td>\n",
       "    </tr>\n",
       "    <tr>\n",
       "      <th>...</th>\n",
       "      <td>...</td>\n",
       "      <td>...</td>\n",
       "      <td>...</td>\n",
       "      <td>...</td>\n",
       "      <td>...</td>\n",
       "    </tr>\n",
       "    <tr>\n",
       "      <th>5819</th>\n",
       "      <td>260</td>\n",
       "      <td>139.0</td>\n",
       "      <td>2606.972984</td>\n",
       "      <td>2009</td>\n",
       "      <td>16.964054</td>\n",
       "    </tr>\n",
       "    <tr>\n",
       "      <th>5820</th>\n",
       "      <td>280</td>\n",
       "      <td>132.0</td>\n",
       "      <td>4004.214323</td>\n",
       "      <td>2014</td>\n",
       "      <td>10.059094</td>\n",
       "    </tr>\n",
       "    <tr>\n",
       "      <th>5821</th>\n",
       "      <td>210</td>\n",
       "      <td>152.0</td>\n",
       "      <td>2500.175687</td>\n",
       "      <td>2020</td>\n",
       "      <td>17.593237</td>\n",
       "    </tr>\n",
       "    <tr>\n",
       "      <th>5822</th>\n",
       "      <td>250</td>\n",
       "      <td>154.0</td>\n",
       "      <td>2254.313245</td>\n",
       "      <td>2002</td>\n",
       "      <td>18.925748</td>\n",
       "    </tr>\n",
       "    <tr>\n",
       "      <th>5823</th>\n",
       "      <td>210</td>\n",
       "      <td>152.0</td>\n",
       "      <td>2435.203606</td>\n",
       "      <td>2004</td>\n",
       "      <td>17.965284</td>\n",
       "    </tr>\n",
       "  </tbody>\n",
       "</table>\n",
       "<p>5824 rows × 5 columns</p>\n",
       "</div>"
      ],
      "text/plain": [
       "      engine_displacement  horsepower  vehicle_weight  model_year  \\\n",
       "0                     220       144.0     2535.887591        2009   \n",
       "1                     160       141.0     2741.170484        2019   \n",
       "2                     230       155.0     2471.880237        2017   \n",
       "3                     150       206.0     3748.164469        2015   \n",
       "4                     300       111.0     2135.716359        2006   \n",
       "...                   ...         ...             ...         ...   \n",
       "5819                  260       139.0     2606.972984        2009   \n",
       "5820                  280       132.0     4004.214323        2014   \n",
       "5821                  210       152.0     2500.175687        2020   \n",
       "5822                  250       154.0     2254.313245        2002   \n",
       "5823                  210       152.0     2435.203606        2004   \n",
       "\n",
       "      fuel_efficiency_mpg  \n",
       "0               16.642943  \n",
       "1               16.298377  \n",
       "2               18.591822  \n",
       "3               11.818843  \n",
       "4               19.402209  \n",
       "...                   ...  \n",
       "5819            16.964054  \n",
       "5820            10.059094  \n",
       "5821            17.593237  \n",
       "5822            18.925748  \n",
       "5823            17.965284  \n",
       "\n",
       "[5824 rows x 5 columns]"
      ]
     },
     "execution_count": 14,
     "metadata": {},
     "output_type": "execute_result"
    }
   ],
   "source": [
    "df_train"
   ]
  },
  {
   "cell_type": "code",
   "execution_count": 15,
   "id": "b7838d69",
   "metadata": {},
   "outputs": [],
   "source": [
    "del df_train['fuel_efficiency_mpg']\n",
    "del df_val['fuel_efficiency_mpg']\n",
    "del df_test['fuel_efficiency_mpg']"
   ]
  },
  {
   "cell_type": "markdown",
   "id": "6437452c",
   "metadata": {},
   "source": [
    "# Fillna with mean"
   ]
  },
  {
   "cell_type": "code",
   "execution_count": 16,
   "id": "80e71c25",
   "metadata": {},
   "outputs": [],
   "source": [
    "def prepare_X(df, method = df.mean()):\n",
    "    df = df.fillna(method)\n",
    "    X = df.values\n",
    "    return X"
   ]
  },
  {
   "cell_type": "code",
   "execution_count": 17,
   "id": "b15b136b",
   "metadata": {},
   "outputs": [],
   "source": [
    "def train_linear_regression(X, y):\n",
    "    X = np.column_stack([np.ones(X.shape[0]), X])\n",
    "    XTX = X.T.dot(X)\n",
    "    XTX_inv = np.linalg.inv(XTX)\n",
    "    w_full = XTX_inv.dot(X.T).dot(y)\n",
    "    return w_full[0], w_full[1:]"
   ]
  },
  {
   "cell_type": "code",
   "execution_count": 18,
   "id": "c3153289",
   "metadata": {},
   "outputs": [],
   "source": [
    "def rmse(y, y_pred):\n",
    "    error = y-y_pred\n",
    "    se = error ** 2\n",
    "    mse = se.mean()\n",
    "    return np.sqrt(mse)"
   ]
  },
  {
   "cell_type": "code",
   "execution_count": 19,
   "id": "e4b84736",
   "metadata": {},
   "outputs": [
    {
     "data": {
      "text/plain": [
       "(28.925328344990298,\n",
       " array([ 0.00012088,  0.01030315, -0.0050101 , -0.0002347 ]))"
      ]
     },
     "execution_count": 19,
     "metadata": {},
     "output_type": "execute_result"
    }
   ],
   "source": [
    "X_train = prepare_X(df_train)\n",
    "w0, w = train_linear_regression(X_train, y_train)\n",
    "w0, w"
   ]
  },
  {
   "cell_type": "code",
   "execution_count": 20,
   "id": "5ee414d5",
   "metadata": {},
   "outputs": [],
   "source": [
    "X_val = prepare_X(df_val)\n",
    "y_pred = w0+X_val.dot(w)\n",
    "\n",
    "error_with_mean = rmse(y_val, y_pred)"
   ]
  },
  {
   "cell_type": "code",
   "execution_count": 21,
   "id": "35458979",
   "metadata": {},
   "outputs": [
    {
     "data": {
      "text/plain": [
       "0.4636019612132153"
      ]
     },
     "execution_count": 21,
     "metadata": {},
     "output_type": "execute_result"
    }
   ],
   "source": [
    "error_with_mean"
   ]
  },
  {
   "cell_type": "markdown",
   "id": "1714d043",
   "metadata": {},
   "source": [
    "# Fillna with 0"
   ]
  },
  {
   "cell_type": "code",
   "execution_count": 22,
   "id": "c0fee085",
   "metadata": {},
   "outputs": [
    {
     "data": {
      "text/plain": [
       "(28.827365475106156,\n",
       " array([ 9.93613218e-05,  3.54221891e-03, -5.01328015e-03,  3.42992869e-04]))"
      ]
     },
     "execution_count": 22,
     "metadata": {},
     "output_type": "execute_result"
    }
   ],
   "source": [
    "X_train = prepare_X(df_train, method=0)\n",
    "w0, w = train_linear_regression(X_train, y_train)\n",
    "w0, w"
   ]
  },
  {
   "cell_type": "code",
   "execution_count": 23,
   "id": "974d1827",
   "metadata": {},
   "outputs": [
    {
     "data": {
      "text/plain": [
       "0.5033849489656288"
      ]
     },
     "execution_count": 23,
     "metadata": {},
     "output_type": "execute_result"
    }
   ],
   "source": [
    "X_val = prepare_X(df_val)\n",
    "y_pred = w0+X_val.dot(w)\n",
    "\n",
    "error_with_zero = rmse(y_val, y_pred)\n",
    "error_with_zero"
   ]
  },
  {
   "cell_type": "markdown",
   "id": "db270a55",
   "metadata": {},
   "source": [
    "# Regularized Linear Regression\n"
   ]
  },
  {
   "cell_type": "code",
   "execution_count": 24,
   "id": "d5abdbd8",
   "metadata": {},
   "outputs": [],
   "source": [
    "def train_linear_regression_reg(X, y, r = 0.001):\n",
    "    X = np.column_stack([np.ones(X.shape[0]), X])\n",
    "    XTX = X.T.dot(X)\n",
    "    \n",
    "    # add reuglarization term on diagonal\n",
    "    XTX = XTX + r * np.eye(XTX.shape[0])\n",
    "       \n",
    "    XTX_inv = np.linalg.inv(XTX)\n",
    "    w_full = XTX_inv.dot(X.T).dot(y)\n",
    "    return w_full[0], w_full[1:]"
   ]
  },
  {
   "cell_type": "code",
   "execution_count": 25,
   "id": "92a2d5ee",
   "metadata": {},
   "outputs": [
    {
     "name": "stdout",
     "output_type": "stream",
     "text": [
      "Score with 0: = 0.52\n",
      "Score with 0.01: = 0.52\n",
      "Score with 0.1: = 0.52\n",
      "Score with 1: = 0.52\n",
      "Score with 5: = 0.52\n",
      "Score with 10: = 0.52\n",
      "Score with 100: = 0.52\n"
     ]
    }
   ],
   "source": [
    "X_train = prepare_X(df_train, method=0)\n",
    "X_val = prepare_X(df_val, method=0)\n",
    "for r in [0, 0.01, 0.1, 1, 5, 10, 100]:\n",
    "    w0, w = train_linear_regression_reg(X_train, y_train, r=r)\n",
    "    y_pred = w0 + X_val.dot(w)\n",
    "    \n",
    "    score = round(rmse(y_val, y_pred), 2)\n",
    "    print(f'Score with {r}: = {score}')"
   ]
  },
  {
   "cell_type": "code",
   "execution_count": 26,
   "id": "1a814914",
   "metadata": {},
   "outputs": [
    {
     "name": "stdout",
     "output_type": "stream",
     "text": [
      "Score with 100: = 0.5206531296292951\n",
      "Score with 100: = 0.5213388912860217\n",
      "Score with 100: = 0.5228069974785726\n",
      "Score with 100: = 0.5159516741108942\n",
      "Score with 100: = 0.5109129460108117\n",
      "Score with 100: = 0.5283406460133415\n",
      "Score with 100: = 0.5313910658151165\n",
      "Score with 100: = 0.5090670387365963\n",
      "Score with 100: = 0.5147399129426932\n",
      "Score with 100: = 0.5131865908408015\n"
     ]
    }
   ],
   "source": [
    "scores = {}\n",
    "for i in range(10):\n",
    "    idx = np.arange(n)\n",
    "    np.random.seed(i)\n",
    "    np.random.shuffle(idx)\n",
    "\n",
    "    df_train = df.iloc[idx[:n_train]]\n",
    "    df_val = df.iloc[idx[n_train:n_train+n_val]]\n",
    "    df_test = df.iloc[idx[n_train+n_val:]]\n",
    "\n",
    "    df_train = df.iloc[idx[:n_train]]\n",
    "    df_val = df.iloc[idx[n_train:n_train+n_val]]\n",
    "    df_test = df.iloc[idx[n_train+n_val:]]\n",
    "\n",
    "    y_train = df_train.fuel_efficiency_mpg.values\n",
    "    y_val = df_val.fuel_efficiency_mpg.values\n",
    "    y_test = df_test.fuel_efficiency_mpg.values\n",
    "    \n",
    "    del(df_train['fuel_efficiency_mpg'])\n",
    "    del(df_val['fuel_efficiency_mpg'])\n",
    "    del(df_test['fuel_efficiency_mpg'])\n",
    "    \n",
    "    X_train = prepare_X(df_train, method=0)\n",
    "    w0, w = train_linear_regression_reg(X_train, y_train, r=0)\n",
    "    \n",
    "    X_val = prepare_X(df_val, method=0)\n",
    "    y_pred = w0 + X_val.dot(w)\n",
    "    \n",
    "    score = rmse(y_val, y_pred)\n",
    "    print(f'Score with {r}: = {score}')\n",
    "    scores[i] = score\n",
    "    "
   ]
  },
  {
   "cell_type": "code",
   "execution_count": 27,
   "id": "233993b7",
   "metadata": {},
   "outputs": [
    {
     "data": {
      "text/plain": [
       "[0.5206531296292951,\n",
       " 0.5213388912860217,\n",
       " 0.5228069974785726,\n",
       " 0.5159516741108942,\n",
       " 0.5109129460108117,\n",
       " 0.5283406460133415,\n",
       " 0.5313910658151165,\n",
       " 0.5090670387365963,\n",
       " 0.5147399129426932,\n",
       " 0.5131865908408015]"
      ]
     },
     "execution_count": 27,
     "metadata": {},
     "output_type": "execute_result"
    }
   ],
   "source": [
    "list(scores.values())"
   ]
  },
  {
   "cell_type": "code",
   "execution_count": 28,
   "id": "b0609e55",
   "metadata": {},
   "outputs": [
    {
     "data": {
      "text/plain": [
       "0.007"
      ]
     },
     "execution_count": 28,
     "metadata": {},
     "output_type": "execute_result"
    }
   ],
   "source": [
    "scores_std = round(np.std(list(scores.values())),3)\n",
    "scores_std"
   ]
  },
  {
   "cell_type": "markdown",
   "id": "88751065",
   "metadata": {},
   "source": [
    "# Test Model"
   ]
  },
  {
   "cell_type": "code",
   "execution_count": 29,
   "id": "8961e7a0",
   "metadata": {},
   "outputs": [
    {
     "data": {
      "text/plain": [
       "(5824, 4)"
      ]
     },
     "execution_count": 29,
     "metadata": {},
     "output_type": "execute_result"
    }
   ],
   "source": [
    "df_train.shape"
   ]
  },
  {
   "cell_type": "code",
   "execution_count": 32,
   "id": "8a91c797",
   "metadata": {},
   "outputs": [
    {
     "name": "stdout",
     "output_type": "stream",
     "text": [
      "Score with 0.01: = 0.5156261299167999\n"
     ]
    }
   ],
   "source": [
    "idx = np.arange(n)\n",
    "np.random.seed(9)\n",
    "np.random.shuffle(idx)\n",
    "\n",
    "df_train = df.iloc[idx[:n_train+n_val]]\n",
    "df_test = df.iloc[idx[n_train+n_val:]]\n",
    "\n",
    "y_train = df_train.fuel_efficiency_mpg.values\n",
    "y_test = df_test.fuel_efficiency_mpg.values\n",
    "\n",
    "del(df_train['fuel_efficiency_mpg'])\n",
    "del(df_test['fuel_efficiency_mpg'])\n",
    "\n",
    "r= 0.01\n",
    "X_train = prepare_X(df_train, method=0)\n",
    "w0, w = train_linear_regression_reg(X_train, y_train, r=0.001)\n",
    "\n",
    "X_test = prepare_X(df_test, method=0)\n",
    "y_pred = w0 + X_test.dot(w)\n",
    "score = rmse(y_test, y_pred)\n",
    "print(f'Score with {r}: = {score}')"
   ]
  },
  {
   "cell_type": "code",
   "execution_count": 31,
   "id": "cd347bc7",
   "metadata": {},
   "outputs": [
    {
     "data": {
      "text/plain": [
       "(7764, 4)"
      ]
     },
     "execution_count": 31,
     "metadata": {},
     "output_type": "execute_result"
    }
   ],
   "source": [
    "df_train.shape"
   ]
  },
  {
   "cell_type": "code",
   "execution_count": null,
   "id": "b2f5d358",
   "metadata": {},
   "outputs": [],
   "source": []
  }
 ],
 "metadata": {
  "kernelspec": {
   "display_name": "AIVenv",
   "language": "python",
   "name": "python3"
  },
  "language_info": {
   "codemirror_mode": {
    "name": "ipython",
    "version": 3
   },
   "file_extension": ".py",
   "mimetype": "text/x-python",
   "name": "python",
   "nbconvert_exporter": "python",
   "pygments_lexer": "ipython3",
   "version": "3.10.12"
  }
 },
 "nbformat": 4,
 "nbformat_minor": 5
}
