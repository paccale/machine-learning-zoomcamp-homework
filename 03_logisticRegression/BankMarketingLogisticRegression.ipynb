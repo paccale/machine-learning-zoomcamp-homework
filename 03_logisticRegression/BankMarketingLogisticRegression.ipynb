{
 "cells": [
  {
   "cell_type": "code",
   "execution_count": 117,
   "id": "bbad4951",
   "metadata": {},
   "outputs": [],
   "source": [
    "import pandas as pd\n",
    "import numpy as np\n",
    "import matplotlib.pyplot as plt\n",
    "import seaborn as sns"
   ]
  },
  {
   "cell_type": "code",
   "execution_count": 118,
   "id": "0cc7a8c6",
   "metadata": {},
   "outputs": [
    {
     "data": {
      "application/vnd.microsoft.datawrangler.viewer.v0+json": {
       "columns": [
        {
         "name": "index",
         "rawType": "int64",
         "type": "integer"
        },
        {
         "name": "lead_source",
         "rawType": "object",
         "type": "unknown"
        },
        {
         "name": "industry",
         "rawType": "object",
         "type": "unknown"
        },
        {
         "name": "number_of_courses_viewed",
         "rawType": "int64",
         "type": "integer"
        },
        {
         "name": "annual_income",
         "rawType": "float64",
         "type": "float"
        },
        {
         "name": "employment_status",
         "rawType": "object",
         "type": "unknown"
        },
        {
         "name": "location",
         "rawType": "object",
         "type": "unknown"
        },
        {
         "name": "interaction_count",
         "rawType": "int64",
         "type": "integer"
        },
        {
         "name": "lead_score",
         "rawType": "float64",
         "type": "float"
        },
        {
         "name": "converted",
         "rawType": "int64",
         "type": "integer"
        }
       ],
       "ref": "63437998-026d-4070-84c9-fdbbb81653e5",
       "rows": [
        [
         "0",
         "paid_ads",
         null,
         "1",
         "79450.0",
         "unemployed",
         "south_america",
         "4",
         "0.94",
         "1"
        ],
        [
         "1",
         "social_media",
         "retail",
         "1",
         "46992.0",
         "employed",
         "south_america",
         "1",
         "0.8",
         "0"
        ],
        [
         "2",
         "events",
         "healthcare",
         "5",
         "78796.0",
         "unemployed",
         "australia",
         "3",
         "0.69",
         "1"
        ],
        [
         "3",
         "paid_ads",
         "retail",
         "2",
         "83843.0",
         null,
         "australia",
         "1",
         "0.87",
         "0"
        ],
        [
         "4",
         "referral",
         "education",
         "3",
         "85012.0",
         "self_employed",
         "europe",
         "3",
         "0.62",
         "1"
        ],
        [
         "5",
         "events",
         "manufacturing",
         "1",
         "59904.0",
         null,
         "africa",
         "6",
         "0.83",
         "1"
        ],
        [
         "6",
         "social_media",
         "technology",
         "0",
         "51283.0",
         null,
         "middle_east",
         "2",
         "0.57",
         "0"
        ],
        [
         "7",
         "social_media",
         null,
         "5",
         "62975.0",
         "student",
         "europe",
         "4",
         "0.62",
         "1"
        ],
        [
         "8",
         "referral",
         "healthcare",
         "4",
         "38648.0",
         "unemployed",
         "south_america",
         "2",
         "0.86",
         "1"
        ],
        [
         "9",
         "paid_ads",
         "other",
         "3",
         "59866.0",
         "student",
         "australia",
         "3",
         "0.43",
         "1"
        ],
        [
         "10",
         "paid_ads",
         "retail",
         "2",
         "79276.0",
         "employed",
         "middle_east",
         "2",
         "0.92",
         "1"
        ],
        [
         "11",
         "organic_search",
         "finance",
         "4",
         "80304.0",
         "self_employed",
         null,
         "3",
         "0.97",
         "1"
        ],
        [
         "12",
         "organic_search",
         null,
         "2",
         "55615.0",
         "self_employed",
         "middle_east",
         "6",
         "0.71",
         "1"
        ],
        [
         "13",
         "social_media",
         "other",
         "3",
         "55438.0",
         null,
         "middle_east",
         "1",
         "0.69",
         "0"
        ],
        [
         "14",
         "paid_ads",
         "healthcare",
         "3",
         null,
         "unemployed",
         "middle_east",
         "4",
         "0.75",
         "1"
        ],
        [
         "15",
         "referral",
         "healthcare",
         "2",
         "56004.0",
         "student",
         "middle_east",
         "0",
         "0.64",
         "0"
        ],
        [
         "16",
         "referral",
         "retail",
         "0",
         "54612.0",
         "self_employed",
         "europe",
         "4",
         "0.86",
         "1"
        ],
        [
         "17",
         "referral",
         "other",
         "2",
         "92470.0",
         "unemployed",
         "europe",
         "4",
         "0.74",
         "1"
        ],
        [
         "18",
         "referral",
         "manufacturing",
         "2",
         "74380.0",
         "self_employed",
         null,
         "5",
         "0.51",
         "1"
        ],
        [
         "19",
         "paid_ads",
         null,
         "2",
         "62809.0",
         "self_employed",
         "europe",
         "5",
         "0.33",
         "1"
        ],
        [
         "20",
         "social_media",
         "technology",
         "4",
         "62067.0",
         "student",
         "north_america",
         "4",
         "0.43",
         "1"
        ],
        [
         "21",
         "social_media",
         "retail",
         "2",
         "56594.0",
         "student",
         "europe",
         "1",
         "0.2",
         "0"
        ],
        [
         "22",
         "referral",
         "other",
         "3",
         "72729.0",
         "student",
         "middle_east",
         "3",
         "0.6",
         "1"
        ],
        [
         "23",
         "events",
         "retail",
         "1",
         "94862.0",
         "unemployed",
         "africa",
         "5",
         "0.49",
         "1"
        ],
        [
         "24",
         "organic_search",
         "education",
         "0",
         "68182.0",
         "employed",
         "south_america",
         "4",
         "0.55",
         "1"
        ],
        [
         "25",
         "organic_search",
         "finance",
         "0",
         "51159.0",
         "employed",
         "europe",
         "1",
         "0.68",
         "0"
        ],
        [
         "26",
         "referral",
         "healthcare",
         "2",
         "46268.0",
         "employed",
         "north_america",
         "3",
         "0.63",
         "1"
        ],
        [
         "27",
         "social_media",
         "other",
         "3",
         "63133.0",
         "unemployed",
         "north_america",
         "3",
         "0.82",
         "1"
        ],
        [
         "28",
         "referral",
         "other",
         "2",
         "57767.0",
         "student",
         "europe",
         "3",
         "0.2",
         "1"
        ],
        [
         "29",
         "referral",
         "finance",
         "1",
         "73420.0",
         "unemployed",
         null,
         "3",
         "0.48",
         "1"
        ],
        [
         "30",
         "paid_ads",
         "finance",
         "4",
         "60617.0",
         "self_employed",
         "north_america",
         "0",
         "0.54",
         "1"
        ],
        [
         "31",
         "events",
         "other",
         "1",
         "66476.0",
         "self_employed",
         "africa",
         "0",
         "0.46",
         "0"
        ],
        [
         "32",
         "referral",
         null,
         "5",
         "43704.0",
         "employed",
         "australia",
         "4",
         "0.26",
         "1"
        ],
        [
         "33",
         "events",
         "healthcare",
         "3",
         "54547.0",
         "employed",
         "africa",
         "3",
         "0.9",
         "1"
        ],
        [
         "34",
         "events",
         "other",
         "3",
         "59157.0",
         "student",
         "south_america",
         "2",
         "0.79",
         "0"
        ],
        [
         "35",
         "organic_search",
         null,
         "4",
         "63220.0",
         "unemployed",
         "north_america",
         "4",
         "0.21",
         "1"
        ],
        [
         "36",
         "organic_search",
         "healthcare",
         "1",
         "54186.0",
         null,
         "north_america",
         "2",
         "0.87",
         "0"
        ],
        [
         "37",
         null,
         "other",
         "1",
         "51207.0",
         "student",
         "middle_east",
         "0",
         "0.52",
         "0"
        ],
        [
         "38",
         "social_media",
         "healthcare",
         "5",
         "85005.0",
         null,
         "asia",
         "0",
         "0.49",
         "1"
        ],
        [
         "39",
         null,
         "other",
         "5",
         "67314.0",
         null,
         "europe",
         "2",
         "0.87",
         "1"
        ],
        [
         "40",
         "social_media",
         "healthcare",
         "1",
         "78509.0",
         "student",
         "north_america",
         "5",
         "0.75",
         "1"
        ],
        [
         "41",
         null,
         "manufacturing",
         "6",
         "59886.0",
         "employed",
         "asia",
         "5",
         "0.82",
         "1"
        ],
        [
         "42",
         "paid_ads",
         "retail",
         "2",
         "65854.0",
         "employed",
         "africa",
         "3",
         "0.81",
         "1"
        ],
        [
         "43",
         "social_media",
         "healthcare",
         "1",
         "61602.0",
         "student",
         "middle_east",
         "5",
         "0.06",
         "0"
        ],
        [
         "44",
         "social_media",
         "technology",
         "3",
         "63854.0",
         "employed",
         "africa",
         "1",
         "0.1",
         "0"
        ],
        [
         "45",
         "social_media",
         "education",
         "2",
         "47767.0",
         "unemployed",
         "europe",
         "1",
         "0.02",
         "0"
        ],
        [
         "46",
         "social_media",
         "education",
         "2",
         "60886.0",
         "student",
         "asia",
         "1",
         "0.15",
         "0"
        ],
        [
         "47",
         null,
         "other",
         "2",
         "57246.0",
         "self_employed",
         "asia",
         "1",
         "0.27",
         "1"
        ],
        [
         "48",
         "events",
         null,
         "4",
         "40529.0",
         "student",
         "north_america",
         "5",
         "0.21",
         "1"
        ],
        [
         "49",
         "events",
         null,
         "3",
         "53077.0",
         "unemployed",
         "north_america",
         "4",
         "0.08",
         "1"
        ]
       ],
       "shape": {
        "columns": 9,
        "rows": 1462
       }
      },
      "text/html": [
       "<div>\n",
       "<style scoped>\n",
       "    .dataframe tbody tr th:only-of-type {\n",
       "        vertical-align: middle;\n",
       "    }\n",
       "\n",
       "    .dataframe tbody tr th {\n",
       "        vertical-align: top;\n",
       "    }\n",
       "\n",
       "    .dataframe thead th {\n",
       "        text-align: right;\n",
       "    }\n",
       "</style>\n",
       "<table border=\"1\" class=\"dataframe\">\n",
       "  <thead>\n",
       "    <tr style=\"text-align: right;\">\n",
       "      <th></th>\n",
       "      <th>lead_source</th>\n",
       "      <th>industry</th>\n",
       "      <th>number_of_courses_viewed</th>\n",
       "      <th>annual_income</th>\n",
       "      <th>employment_status</th>\n",
       "      <th>location</th>\n",
       "      <th>interaction_count</th>\n",
       "      <th>lead_score</th>\n",
       "      <th>converted</th>\n",
       "    </tr>\n",
       "  </thead>\n",
       "  <tbody>\n",
       "    <tr>\n",
       "      <th>0</th>\n",
       "      <td>paid_ads</td>\n",
       "      <td>NaN</td>\n",
       "      <td>1</td>\n",
       "      <td>79450.0</td>\n",
       "      <td>unemployed</td>\n",
       "      <td>south_america</td>\n",
       "      <td>4</td>\n",
       "      <td>0.94</td>\n",
       "      <td>1</td>\n",
       "    </tr>\n",
       "    <tr>\n",
       "      <th>1</th>\n",
       "      <td>social_media</td>\n",
       "      <td>retail</td>\n",
       "      <td>1</td>\n",
       "      <td>46992.0</td>\n",
       "      <td>employed</td>\n",
       "      <td>south_america</td>\n",
       "      <td>1</td>\n",
       "      <td>0.80</td>\n",
       "      <td>0</td>\n",
       "    </tr>\n",
       "    <tr>\n",
       "      <th>2</th>\n",
       "      <td>events</td>\n",
       "      <td>healthcare</td>\n",
       "      <td>5</td>\n",
       "      <td>78796.0</td>\n",
       "      <td>unemployed</td>\n",
       "      <td>australia</td>\n",
       "      <td>3</td>\n",
       "      <td>0.69</td>\n",
       "      <td>1</td>\n",
       "    </tr>\n",
       "    <tr>\n",
       "      <th>3</th>\n",
       "      <td>paid_ads</td>\n",
       "      <td>retail</td>\n",
       "      <td>2</td>\n",
       "      <td>83843.0</td>\n",
       "      <td>NaN</td>\n",
       "      <td>australia</td>\n",
       "      <td>1</td>\n",
       "      <td>0.87</td>\n",
       "      <td>0</td>\n",
       "    </tr>\n",
       "    <tr>\n",
       "      <th>4</th>\n",
       "      <td>referral</td>\n",
       "      <td>education</td>\n",
       "      <td>3</td>\n",
       "      <td>85012.0</td>\n",
       "      <td>self_employed</td>\n",
       "      <td>europe</td>\n",
       "      <td>3</td>\n",
       "      <td>0.62</td>\n",
       "      <td>1</td>\n",
       "    </tr>\n",
       "    <tr>\n",
       "      <th>...</th>\n",
       "      <td>...</td>\n",
       "      <td>...</td>\n",
       "      <td>...</td>\n",
       "      <td>...</td>\n",
       "      <td>...</td>\n",
       "      <td>...</td>\n",
       "      <td>...</td>\n",
       "      <td>...</td>\n",
       "      <td>...</td>\n",
       "    </tr>\n",
       "    <tr>\n",
       "      <th>1457</th>\n",
       "      <td>referral</td>\n",
       "      <td>manufacturing</td>\n",
       "      <td>1</td>\n",
       "      <td>NaN</td>\n",
       "      <td>self_employed</td>\n",
       "      <td>north_america</td>\n",
       "      <td>4</td>\n",
       "      <td>0.53</td>\n",
       "      <td>1</td>\n",
       "    </tr>\n",
       "    <tr>\n",
       "      <th>1458</th>\n",
       "      <td>referral</td>\n",
       "      <td>technology</td>\n",
       "      <td>3</td>\n",
       "      <td>65259.0</td>\n",
       "      <td>student</td>\n",
       "      <td>europe</td>\n",
       "      <td>2</td>\n",
       "      <td>0.24</td>\n",
       "      <td>1</td>\n",
       "    </tr>\n",
       "    <tr>\n",
       "      <th>1459</th>\n",
       "      <td>paid_ads</td>\n",
       "      <td>technology</td>\n",
       "      <td>1</td>\n",
       "      <td>45688.0</td>\n",
       "      <td>student</td>\n",
       "      <td>north_america</td>\n",
       "      <td>3</td>\n",
       "      <td>0.02</td>\n",
       "      <td>1</td>\n",
       "    </tr>\n",
       "    <tr>\n",
       "      <th>1460</th>\n",
       "      <td>referral</td>\n",
       "      <td>NaN</td>\n",
       "      <td>5</td>\n",
       "      <td>71016.0</td>\n",
       "      <td>self_employed</td>\n",
       "      <td>north_america</td>\n",
       "      <td>0</td>\n",
       "      <td>0.25</td>\n",
       "      <td>1</td>\n",
       "    </tr>\n",
       "    <tr>\n",
       "      <th>1461</th>\n",
       "      <td>organic_search</td>\n",
       "      <td>finance</td>\n",
       "      <td>3</td>\n",
       "      <td>92855.0</td>\n",
       "      <td>student</td>\n",
       "      <td>north_america</td>\n",
       "      <td>3</td>\n",
       "      <td>0.41</td>\n",
       "      <td>1</td>\n",
       "    </tr>\n",
       "  </tbody>\n",
       "</table>\n",
       "<p>1462 rows × 9 columns</p>\n",
       "</div>"
      ],
      "text/plain": [
       "         lead_source       industry  number_of_courses_viewed  annual_income  \\\n",
       "0           paid_ads            NaN                         1        79450.0   \n",
       "1       social_media         retail                         1        46992.0   \n",
       "2             events     healthcare                         5        78796.0   \n",
       "3           paid_ads         retail                         2        83843.0   \n",
       "4           referral      education                         3        85012.0   \n",
       "...              ...            ...                       ...            ...   \n",
       "1457        referral  manufacturing                         1            NaN   \n",
       "1458        referral     technology                         3        65259.0   \n",
       "1459        paid_ads     technology                         1        45688.0   \n",
       "1460        referral            NaN                         5        71016.0   \n",
       "1461  organic_search        finance                         3        92855.0   \n",
       "\n",
       "     employment_status       location  interaction_count  lead_score  \\\n",
       "0           unemployed  south_america                  4        0.94   \n",
       "1             employed  south_america                  1        0.80   \n",
       "2           unemployed      australia                  3        0.69   \n",
       "3                  NaN      australia                  1        0.87   \n",
       "4        self_employed         europe                  3        0.62   \n",
       "...                ...            ...                ...         ...   \n",
       "1457     self_employed  north_america                  4        0.53   \n",
       "1458           student         europe                  2        0.24   \n",
       "1459           student  north_america                  3        0.02   \n",
       "1460     self_employed  north_america                  0        0.25   \n",
       "1461           student  north_america                  3        0.41   \n",
       "\n",
       "      converted  \n",
       "0             1  \n",
       "1             0  \n",
       "2             1  \n",
       "3             0  \n",
       "4             1  \n",
       "...         ...  \n",
       "1457          1  \n",
       "1458          1  \n",
       "1459          1  \n",
       "1460          1  \n",
       "1461          1  \n",
       "\n",
       "[1462 rows x 9 columns]"
      ]
     },
     "execution_count": 118,
     "metadata": {},
     "output_type": "execute_result"
    }
   ],
   "source": [
    "df = pd.read_csv('course_lead_scoring.csv')\n",
    "df"
   ]
  },
  {
   "cell_type": "code",
   "execution_count": 119,
   "id": "47d0f786",
   "metadata": {},
   "outputs": [
    {
     "data": {
      "text/plain": [
       "Index(['lead_source', 'industry', 'number_of_courses_viewed', 'annual_income',\n",
       "       'employment_status', 'location', 'interaction_count', 'lead_score',\n",
       "       'converted'],\n",
       "      dtype='object')"
      ]
     },
     "execution_count": 119,
     "metadata": {},
     "output_type": "execute_result"
    }
   ],
   "source": [
    "df.columns"
   ]
  },
  {
   "cell_type": "code",
   "execution_count": 120,
   "id": "467d1994",
   "metadata": {},
   "outputs": [
    {
     "data": {
      "application/vnd.microsoft.datawrangler.viewer.v0+json": {
       "columns": [
        {
         "name": "index",
         "rawType": "object",
         "type": "string"
        },
        {
         "name": "0",
         "rawType": "int64",
         "type": "integer"
        }
       ],
       "ref": "fca346f6-ee13-4f4f-b615-ab75d067e311",
       "rows": [
        [
         "lead_source",
         "128"
        ],
        [
         "industry",
         "134"
        ],
        [
         "number_of_courses_viewed",
         "0"
        ],
        [
         "annual_income",
         "181"
        ],
        [
         "employment_status",
         "100"
        ],
        [
         "location",
         "63"
        ],
        [
         "interaction_count",
         "0"
        ],
        [
         "lead_score",
         "0"
        ],
        [
         "converted",
         "0"
        ]
       ],
       "shape": {
        "columns": 1,
        "rows": 9
       }
      },
      "text/plain": [
       "lead_source                 128\n",
       "industry                    134\n",
       "number_of_courses_viewed      0\n",
       "annual_income               181\n",
       "employment_status           100\n",
       "location                     63\n",
       "interaction_count             0\n",
       "lead_score                    0\n",
       "converted                     0\n",
       "dtype: int64"
      ]
     },
     "execution_count": 120,
     "metadata": {},
     "output_type": "execute_result"
    }
   ],
   "source": [
    "df.isnull().sum()"
   ]
  },
  {
   "cell_type": "markdown",
   "id": "86f3f28a",
   "metadata": {},
   "source": [
    "# Question 1"
   ]
  },
  {
   "cell_type": "code",
   "execution_count": 121,
   "id": "03abdd81",
   "metadata": {},
   "outputs": [
    {
     "data": {
      "text/plain": [
       "{'lead_source': dtype('O'),\n",
       " 'industry': dtype('O'),\n",
       " 'number_of_courses_viewed': dtype('int64'),\n",
       " 'annual_income': dtype('float64'),\n",
       " 'employment_status': dtype('O'),\n",
       " 'location': dtype('O'),\n",
       " 'interaction_count': dtype('int64'),\n",
       " 'lead_score': dtype('float64'),\n",
       " 'converted': dtype('int64')}"
      ]
     },
     "execution_count": 121,
     "metadata": {},
     "output_type": "execute_result"
    }
   ],
   "source": [
    "dict_dtypes = df.dtypes.to_dict()\n",
    "dict_dtypes"
   ]
  },
  {
   "cell_type": "code",
   "execution_count": 122,
   "id": "79505d85",
   "metadata": {},
   "outputs": [],
   "source": [
    "categorical = [k for k,v in dict_dtypes.items() if str(v) == 'object']\n",
    "numerical = [k for k,v in dict_dtypes.items() if str(v) in(['int64', 'float64'])]\n",
    "numerical.remove('converted')"
   ]
  },
  {
   "cell_type": "code",
   "execution_count": 123,
   "id": "5fa7bf36",
   "metadata": {},
   "outputs": [],
   "source": [
    "for c in categorical:\n",
    "    df[c] = df[c].fillna('NA')\n",
    "for c in numerical: \n",
    "    df[c] = df[c].fillna(0.0)"
   ]
  },
  {
   "cell_type": "code",
   "execution_count": 124,
   "id": "2b5d1d8d",
   "metadata": {},
   "outputs": [
    {
     "data": {
      "application/vnd.microsoft.datawrangler.viewer.v0+json": {
       "columns": [
        {
         "name": "index",
         "rawType": "object",
         "type": "string"
        },
        {
         "name": "0",
         "rawType": "int64",
         "type": "integer"
        }
       ],
       "ref": "8a9b6c34-5405-44db-9e01-6a76bfa50f40",
       "rows": [
        [
         "lead_source",
         "0"
        ],
        [
         "industry",
         "0"
        ],
        [
         "number_of_courses_viewed",
         "0"
        ],
        [
         "annual_income",
         "0"
        ],
        [
         "employment_status",
         "0"
        ],
        [
         "location",
         "0"
        ],
        [
         "interaction_count",
         "0"
        ],
        [
         "lead_score",
         "0"
        ],
        [
         "converted",
         "0"
        ]
       ],
       "shape": {
        "columns": 1,
        "rows": 9
       }
      },
      "text/plain": [
       "lead_source                 0\n",
       "industry                    0\n",
       "number_of_courses_viewed    0\n",
       "annual_income               0\n",
       "employment_status           0\n",
       "location                    0\n",
       "interaction_count           0\n",
       "lead_score                  0\n",
       "converted                   0\n",
       "dtype: int64"
      ]
     },
     "execution_count": 124,
     "metadata": {},
     "output_type": "execute_result"
    }
   ],
   "source": [
    "df.isnull().sum()"
   ]
  },
  {
   "cell_type": "code",
   "execution_count": 125,
   "id": "abd028d6",
   "metadata": {},
   "outputs": [],
   "source": [
    "most_frequent_industry = df.industry.value_counts(ascending=False)"
   ]
  },
  {
   "cell_type": "markdown",
   "id": "ac44d801",
   "metadata": {},
   "source": [
    "## Answer 1"
   ]
  },
  {
   "cell_type": "code",
   "execution_count": 126,
   "id": "d08fc433",
   "metadata": {},
   "outputs": [
    {
     "data": {
      "application/vnd.microsoft.datawrangler.viewer.v0+json": {
       "columns": [
        {
         "name": "industry",
         "rawType": "object",
         "type": "string"
        },
        {
         "name": "count",
         "rawType": "int64",
         "type": "integer"
        }
       ],
       "ref": "f87a0912-bbdd-4ece-9012-fbb56cbf44b9",
       "rows": [
        [
         "retail",
         "203"
        ],
        [
         "finance",
         "200"
        ],
        [
         "other",
         "198"
        ],
        [
         "healthcare",
         "187"
        ],
        [
         "education",
         "187"
        ],
        [
         "technology",
         "179"
        ],
        [
         "manufacturing",
         "174"
        ],
        [
         "NA",
         "134"
        ]
       ],
       "shape": {
        "columns": 1,
        "rows": 8
       }
      },
      "text/plain": [
       "industry\n",
       "retail           203\n",
       "finance          200\n",
       "other            198\n",
       "healthcare       187\n",
       "education        187\n",
       "technology       179\n",
       "manufacturing    174\n",
       "NA               134\n",
       "Name: count, dtype: int64"
      ]
     },
     "execution_count": 126,
     "metadata": {},
     "output_type": "execute_result"
    }
   ],
   "source": [
    "most_frequent_industry"
   ]
  },
  {
   "cell_type": "markdown",
   "id": "d7bd6bf7",
   "metadata": {},
   "source": [
    "# Question 2"
   ]
  },
  {
   "cell_type": "code",
   "execution_count": 127,
   "id": "092ca77a",
   "metadata": {},
   "outputs": [
    {
     "data": {
      "application/vnd.microsoft.datawrangler.viewer.v0+json": {
       "columns": [
        {
         "name": "index",
         "rawType": "int64",
         "type": "integer"
        },
        {
         "name": "number_of_courses_viewed",
         "rawType": "int64",
         "type": "integer"
        },
        {
         "name": "annual_income",
         "rawType": "float64",
         "type": "float"
        },
        {
         "name": "interaction_count",
         "rawType": "int64",
         "type": "integer"
        },
        {
         "name": "lead_score",
         "rawType": "float64",
         "type": "float"
        }
       ],
       "ref": "4a25ece5-9377-4954-bcc3-da291d407fa8",
       "rows": [
        [
         "0",
         "1",
         "79450.0",
         "4",
         "0.94"
        ],
        [
         "1",
         "1",
         "46992.0",
         "1",
         "0.8"
        ],
        [
         "2",
         "5",
         "78796.0",
         "3",
         "0.69"
        ],
        [
         "3",
         "2",
         "83843.0",
         "1",
         "0.87"
        ],
        [
         "4",
         "3",
         "85012.0",
         "3",
         "0.62"
        ],
        [
         "5",
         "1",
         "59904.0",
         "6",
         "0.83"
        ],
        [
         "6",
         "0",
         "51283.0",
         "2",
         "0.57"
        ],
        [
         "7",
         "5",
         "62975.0",
         "4",
         "0.62"
        ],
        [
         "8",
         "4",
         "38648.0",
         "2",
         "0.86"
        ],
        [
         "9",
         "3",
         "59866.0",
         "3",
         "0.43"
        ],
        [
         "10",
         "2",
         "79276.0",
         "2",
         "0.92"
        ],
        [
         "11",
         "4",
         "80304.0",
         "3",
         "0.97"
        ],
        [
         "12",
         "2",
         "55615.0",
         "6",
         "0.71"
        ],
        [
         "13",
         "3",
         "55438.0",
         "1",
         "0.69"
        ],
        [
         "14",
         "3",
         "0.0",
         "4",
         "0.75"
        ],
        [
         "15",
         "2",
         "56004.0",
         "0",
         "0.64"
        ],
        [
         "16",
         "0",
         "54612.0",
         "4",
         "0.86"
        ],
        [
         "17",
         "2",
         "92470.0",
         "4",
         "0.74"
        ],
        [
         "18",
         "2",
         "74380.0",
         "5",
         "0.51"
        ],
        [
         "19",
         "2",
         "62809.0",
         "5",
         "0.33"
        ],
        [
         "20",
         "4",
         "62067.0",
         "4",
         "0.43"
        ],
        [
         "21",
         "2",
         "56594.0",
         "1",
         "0.2"
        ],
        [
         "22",
         "3",
         "72729.0",
         "3",
         "0.6"
        ],
        [
         "23",
         "1",
         "94862.0",
         "5",
         "0.49"
        ],
        [
         "24",
         "0",
         "68182.0",
         "4",
         "0.55"
        ],
        [
         "25",
         "0",
         "51159.0",
         "1",
         "0.68"
        ],
        [
         "26",
         "2",
         "46268.0",
         "3",
         "0.63"
        ],
        [
         "27",
         "3",
         "63133.0",
         "3",
         "0.82"
        ],
        [
         "28",
         "2",
         "57767.0",
         "3",
         "0.2"
        ],
        [
         "29",
         "1",
         "73420.0",
         "3",
         "0.48"
        ],
        [
         "30",
         "4",
         "60617.0",
         "0",
         "0.54"
        ],
        [
         "31",
         "1",
         "66476.0",
         "0",
         "0.46"
        ],
        [
         "32",
         "5",
         "43704.0",
         "4",
         "0.26"
        ],
        [
         "33",
         "3",
         "54547.0",
         "3",
         "0.9"
        ],
        [
         "34",
         "3",
         "59157.0",
         "2",
         "0.79"
        ],
        [
         "35",
         "4",
         "63220.0",
         "4",
         "0.21"
        ],
        [
         "36",
         "1",
         "54186.0",
         "2",
         "0.87"
        ],
        [
         "37",
         "1",
         "51207.0",
         "0",
         "0.52"
        ],
        [
         "38",
         "5",
         "85005.0",
         "0",
         "0.49"
        ],
        [
         "39",
         "5",
         "67314.0",
         "2",
         "0.87"
        ],
        [
         "40",
         "1",
         "78509.0",
         "5",
         "0.75"
        ],
        [
         "41",
         "6",
         "59886.0",
         "5",
         "0.82"
        ],
        [
         "42",
         "2",
         "65854.0",
         "3",
         "0.81"
        ],
        [
         "43",
         "1",
         "61602.0",
         "5",
         "0.06"
        ],
        [
         "44",
         "3",
         "63854.0",
         "1",
         "0.1"
        ],
        [
         "45",
         "2",
         "47767.0",
         "1",
         "0.02"
        ],
        [
         "46",
         "2",
         "60886.0",
         "1",
         "0.15"
        ],
        [
         "47",
         "2",
         "57246.0",
         "1",
         "0.27"
        ],
        [
         "48",
         "4",
         "40529.0",
         "5",
         "0.21"
        ],
        [
         "49",
         "3",
         "53077.0",
         "4",
         "0.08"
        ]
       ],
       "shape": {
        "columns": 4,
        "rows": 1462
       }
      },
      "text/html": [
       "<div>\n",
       "<style scoped>\n",
       "    .dataframe tbody tr th:only-of-type {\n",
       "        vertical-align: middle;\n",
       "    }\n",
       "\n",
       "    .dataframe tbody tr th {\n",
       "        vertical-align: top;\n",
       "    }\n",
       "\n",
       "    .dataframe thead th {\n",
       "        text-align: right;\n",
       "    }\n",
       "</style>\n",
       "<table border=\"1\" class=\"dataframe\">\n",
       "  <thead>\n",
       "    <tr style=\"text-align: right;\">\n",
       "      <th></th>\n",
       "      <th>number_of_courses_viewed</th>\n",
       "      <th>annual_income</th>\n",
       "      <th>interaction_count</th>\n",
       "      <th>lead_score</th>\n",
       "    </tr>\n",
       "  </thead>\n",
       "  <tbody>\n",
       "    <tr>\n",
       "      <th>0</th>\n",
       "      <td>1</td>\n",
       "      <td>79450.0</td>\n",
       "      <td>4</td>\n",
       "      <td>0.94</td>\n",
       "    </tr>\n",
       "    <tr>\n",
       "      <th>1</th>\n",
       "      <td>1</td>\n",
       "      <td>46992.0</td>\n",
       "      <td>1</td>\n",
       "      <td>0.80</td>\n",
       "    </tr>\n",
       "    <tr>\n",
       "      <th>2</th>\n",
       "      <td>5</td>\n",
       "      <td>78796.0</td>\n",
       "      <td>3</td>\n",
       "      <td>0.69</td>\n",
       "    </tr>\n",
       "    <tr>\n",
       "      <th>3</th>\n",
       "      <td>2</td>\n",
       "      <td>83843.0</td>\n",
       "      <td>1</td>\n",
       "      <td>0.87</td>\n",
       "    </tr>\n",
       "    <tr>\n",
       "      <th>4</th>\n",
       "      <td>3</td>\n",
       "      <td>85012.0</td>\n",
       "      <td>3</td>\n",
       "      <td>0.62</td>\n",
       "    </tr>\n",
       "    <tr>\n",
       "      <th>...</th>\n",
       "      <td>...</td>\n",
       "      <td>...</td>\n",
       "      <td>...</td>\n",
       "      <td>...</td>\n",
       "    </tr>\n",
       "    <tr>\n",
       "      <th>1457</th>\n",
       "      <td>1</td>\n",
       "      <td>0.0</td>\n",
       "      <td>4</td>\n",
       "      <td>0.53</td>\n",
       "    </tr>\n",
       "    <tr>\n",
       "      <th>1458</th>\n",
       "      <td>3</td>\n",
       "      <td>65259.0</td>\n",
       "      <td>2</td>\n",
       "      <td>0.24</td>\n",
       "    </tr>\n",
       "    <tr>\n",
       "      <th>1459</th>\n",
       "      <td>1</td>\n",
       "      <td>45688.0</td>\n",
       "      <td>3</td>\n",
       "      <td>0.02</td>\n",
       "    </tr>\n",
       "    <tr>\n",
       "      <th>1460</th>\n",
       "      <td>5</td>\n",
       "      <td>71016.0</td>\n",
       "      <td>0</td>\n",
       "      <td>0.25</td>\n",
       "    </tr>\n",
       "    <tr>\n",
       "      <th>1461</th>\n",
       "      <td>3</td>\n",
       "      <td>92855.0</td>\n",
       "      <td>3</td>\n",
       "      <td>0.41</td>\n",
       "    </tr>\n",
       "  </tbody>\n",
       "</table>\n",
       "<p>1462 rows × 4 columns</p>\n",
       "</div>"
      ],
      "text/plain": [
       "      number_of_courses_viewed  annual_income  interaction_count  lead_score\n",
       "0                            1        79450.0                  4        0.94\n",
       "1                            1        46992.0                  1        0.80\n",
       "2                            5        78796.0                  3        0.69\n",
       "3                            2        83843.0                  1        0.87\n",
       "4                            3        85012.0                  3        0.62\n",
       "...                        ...            ...                ...         ...\n",
       "1457                         1            0.0                  4        0.53\n",
       "1458                         3        65259.0                  2        0.24\n",
       "1459                         1        45688.0                  3        0.02\n",
       "1460                         5        71016.0                  0        0.25\n",
       "1461                         3        92855.0                  3        0.41\n",
       "\n",
       "[1462 rows x 4 columns]"
      ]
     },
     "execution_count": 127,
     "metadata": {},
     "output_type": "execute_result"
    }
   ],
   "source": [
    "df[numerical]"
   ]
  },
  {
   "cell_type": "code",
   "execution_count": 128,
   "id": "fa1ab17b",
   "metadata": {},
   "outputs": [],
   "source": [
    "corr_numerical = df[numerical].corr()"
   ]
  },
  {
   "cell_type": "code",
   "execution_count": 129,
   "id": "e693f76c",
   "metadata": {},
   "outputs": [
    {
     "data": {
      "application/vnd.microsoft.datawrangler.viewer.v0+json": {
       "columns": [
        {
         "name": "index",
         "rawType": "object",
         "type": "string"
        },
        {
         "name": "number_of_courses_viewed",
         "rawType": "float64",
         "type": "float"
        },
        {
         "name": "annual_income",
         "rawType": "float64",
         "type": "float"
        },
        {
         "name": "interaction_count",
         "rawType": "float64",
         "type": "float"
        },
        {
         "name": "lead_score",
         "rawType": "float64",
         "type": "float"
        }
       ],
       "ref": "b19a733d-e205-48a8-bf92-4df08f3cbe11",
       "rows": [
        [
         "number_of_courses_viewed",
         "1.0",
         "0.009770285756444567",
         "-0.023565222882888037",
         "-0.004878998354681276"
        ],
        [
         "annual_income",
         "0.009770285756444567",
         "1.0",
         "0.02703647240481443",
         "0.015609546050139008"
        ],
        [
         "interaction_count",
         "-0.023565222882888037",
         "0.02703647240481443",
         "1.0",
         "0.009888182496913131"
        ],
        [
         "lead_score",
         "-0.004878998354681276",
         "0.015609546050139008",
         "0.009888182496913131",
         "1.0"
        ]
       ],
       "shape": {
        "columns": 4,
        "rows": 4
       }
      },
      "text/html": [
       "<div>\n",
       "<style scoped>\n",
       "    .dataframe tbody tr th:only-of-type {\n",
       "        vertical-align: middle;\n",
       "    }\n",
       "\n",
       "    .dataframe tbody tr th {\n",
       "        vertical-align: top;\n",
       "    }\n",
       "\n",
       "    .dataframe thead th {\n",
       "        text-align: right;\n",
       "    }\n",
       "</style>\n",
       "<table border=\"1\" class=\"dataframe\">\n",
       "  <thead>\n",
       "    <tr style=\"text-align: right;\">\n",
       "      <th></th>\n",
       "      <th>number_of_courses_viewed</th>\n",
       "      <th>annual_income</th>\n",
       "      <th>interaction_count</th>\n",
       "      <th>lead_score</th>\n",
       "    </tr>\n",
       "  </thead>\n",
       "  <tbody>\n",
       "    <tr>\n",
       "      <th>number_of_courses_viewed</th>\n",
       "      <td>1.000000</td>\n",
       "      <td>0.009770</td>\n",
       "      <td>-0.023565</td>\n",
       "      <td>-0.004879</td>\n",
       "    </tr>\n",
       "    <tr>\n",
       "      <th>annual_income</th>\n",
       "      <td>0.009770</td>\n",
       "      <td>1.000000</td>\n",
       "      <td>0.027036</td>\n",
       "      <td>0.015610</td>\n",
       "    </tr>\n",
       "    <tr>\n",
       "      <th>interaction_count</th>\n",
       "      <td>-0.023565</td>\n",
       "      <td>0.027036</td>\n",
       "      <td>1.000000</td>\n",
       "      <td>0.009888</td>\n",
       "    </tr>\n",
       "    <tr>\n",
       "      <th>lead_score</th>\n",
       "      <td>-0.004879</td>\n",
       "      <td>0.015610</td>\n",
       "      <td>0.009888</td>\n",
       "      <td>1.000000</td>\n",
       "    </tr>\n",
       "  </tbody>\n",
       "</table>\n",
       "</div>"
      ],
      "text/plain": [
       "                          number_of_courses_viewed  annual_income  \\\n",
       "number_of_courses_viewed                  1.000000       0.009770   \n",
       "annual_income                             0.009770       1.000000   \n",
       "interaction_count                        -0.023565       0.027036   \n",
       "lead_score                               -0.004879       0.015610   \n",
       "\n",
       "                          interaction_count  lead_score  \n",
       "number_of_courses_viewed          -0.023565   -0.004879  \n",
       "annual_income                      0.027036    0.015610  \n",
       "interaction_count                  1.000000    0.009888  \n",
       "lead_score                         0.009888    1.000000  "
      ]
     },
     "execution_count": 129,
     "metadata": {},
     "output_type": "execute_result"
    }
   ],
   "source": [
    "corr_numerical"
   ]
  },
  {
   "cell_type": "code",
   "execution_count": 130,
   "id": "3ee87fe8",
   "metadata": {},
   "outputs": [
    {
     "data": {
      "application/vnd.microsoft.datawrangler.viewer.v0+json": {
       "columns": [
        {
         "name": "(None, None)",
         "rawType": "object",
         "type": "unknown"
        },
        {
         "name": "0",
         "rawType": "float64",
         "type": "float"
        }
       ],
       "ref": "9d016a70-9e3f-4198-ab81-5a512bcf1c07",
       "rows": [
        [
         "('number_of_courses_viewed', 'number_of_courses_viewed')",
         "1.0"
        ],
        [
         "('annual_income', 'annual_income')",
         "1.0"
        ],
        [
         "('interaction_count', 'interaction_count')",
         "1.0"
        ],
        [
         "('lead_score', 'lead_score')",
         "1.0"
        ],
        [
         "('annual_income', 'interaction_count')",
         "0.02703647240481443"
        ]
       ],
       "shape": {
        "columns": 1,
        "rows": 5
       }
      },
      "text/plain": [
       "number_of_courses_viewed  number_of_courses_viewed    1.000000\n",
       "annual_income             annual_income               1.000000\n",
       "interaction_count         interaction_count           1.000000\n",
       "lead_score                lead_score                  1.000000\n",
       "annual_income             interaction_count           0.027036\n",
       "dtype: float64"
      ]
     },
     "execution_count": 130,
     "metadata": {},
     "output_type": "execute_result"
    }
   ],
   "source": [
    "s = corr_numerical.stack()\n",
    "s = s.abs()\n",
    "top5 = s.nlargest(5)\n",
    "top5\n",
    "\n",
    "        "
   ]
  },
  {
   "cell_type": "markdown",
   "id": "e337f368",
   "metadata": {},
   "source": [
    "## Answer 2"
   ]
  },
  {
   "cell_type": "code",
   "execution_count": 131,
   "id": "520e8c46",
   "metadata": {},
   "outputs": [
    {
     "name": "stderr",
     "output_type": "stream",
     "text": [
      "/tmp/ipykernel_77146/1901323439.py:1: FutureWarning: Series.__getitem__ treating keys as positions is deprecated. In a future version, integer keys will always be treated as labels (consistent with DataFrame behavior). To access a value by position, use `ser.iloc[pos]`\n",
      "  biggest_correlation = top5[-1]\n"
     ]
    },
    {
     "data": {
      "text/plain": [
       "0.02703647240481443"
      ]
     },
     "execution_count": 131,
     "metadata": {},
     "output_type": "execute_result"
    }
   ],
   "source": [
    "biggest_correlation = top5[-1]\n",
    "biggest_correlation"
   ]
  },
  {
   "cell_type": "markdown",
   "id": "c479067c",
   "metadata": {},
   "source": [
    "# Split the data"
   ]
  },
  {
   "cell_type": "code",
   "execution_count": 132,
   "id": "2f768dbb",
   "metadata": {},
   "outputs": [],
   "source": [
    "from sklearn.model_selection import train_test_split\n",
    "\n",
    "df_full_train, df_test = train_test_split(df, test_size=0.2, random_state=42)\n",
    "df_train, df_val = train_test_split(df_full_train, test_size=0.25, random_state=42) "
   ]
  },
  {
   "cell_type": "code",
   "execution_count": 133,
   "id": "2648553c",
   "metadata": {},
   "outputs": [],
   "source": [
    "df_train = df_train.reset_index(drop=True)\n",
    "df_val = df_val.reset_index(drop=True)\n",
    "df_test = df_test.reset_index(drop=True)\n",
    "\n",
    "y_train = df_train.converted.values\n",
    "y_val = df_val.converted.values\n",
    "y_test = df_test.converted.values\n",
    "\n",
    "del(df_train['converted'])\n",
    "del(df_val['converted'])\n",
    "del(df_test['converted'])"
   ]
  },
  {
   "cell_type": "markdown",
   "id": "828d2f6a",
   "metadata": {},
   "source": [
    "# Question 3"
   ]
  },
  {
   "cell_type": "code",
   "execution_count": 134,
   "id": "fc48cf36",
   "metadata": {},
   "outputs": [],
   "source": [
    "from sklearn.metrics import mutual_info_score"
   ]
  },
  {
   "cell_type": "code",
   "execution_count": 135,
   "id": "2a5e92d3",
   "metadata": {},
   "outputs": [],
   "source": [
    "def mutual_info_converted_score(series):\n",
    "    return mutual_info_score(series, df_full_train.converted)"
   ]
  },
  {
   "cell_type": "code",
   "execution_count": 136,
   "id": "fcfa8b0d",
   "metadata": {},
   "outputs": [
    {
     "data": {
      "application/vnd.microsoft.datawrangler.viewer.v0+json": {
       "columns": [
        {
         "name": "index",
         "rawType": "object",
         "type": "string"
        },
        {
         "name": "0",
         "rawType": "float64",
         "type": "float"
        }
       ],
       "ref": "534e6e91-ad58-47b4-a52a-1a2b777866b5",
       "rows": [
        [
         "lead_source",
         "0.03"
        ],
        [
         "employment_status",
         "0.01"
        ],
        [
         "industry",
         "0.01"
        ],
        [
         "location",
         "0.0"
        ]
       ],
       "shape": {
        "columns": 1,
        "rows": 4
       }
      },
      "text/plain": [
       "lead_source          0.03\n",
       "employment_status    0.01\n",
       "industry             0.01\n",
       "location             0.00\n",
       "dtype: float64"
      ]
     },
     "execution_count": 136,
     "metadata": {},
     "output_type": "execute_result"
    }
   ],
   "source": [
    "mi = df_full_train[categorical].apply(mutual_info_converted_score)\n",
    "mi.sort_values(ascending=False).round(2)"
   ]
  },
  {
   "cell_type": "markdown",
   "id": "491115dc",
   "metadata": {},
   "source": [
    "## Answer 3"
   ]
  },
  {
   "cell_type": "code",
   "execution_count": 137,
   "id": "6fb8198d",
   "metadata": {},
   "outputs": [
    {
     "data": {
      "text/plain": [
       "'lead_source'"
      ]
     },
     "execution_count": 137,
     "metadata": {},
     "output_type": "execute_result"
    }
   ],
   "source": [
    "biggest_mi = mi.sort_values(ascending=False).round(2).index[0]\n",
    "biggest_mi"
   ]
  },
  {
   "cell_type": "markdown",
   "id": "b720ecb6",
   "metadata": {},
   "source": [
    "# Question 4"
   ]
  },
  {
   "cell_type": "code",
   "execution_count": 138,
   "id": "74492212",
   "metadata": {},
   "outputs": [],
   "source": [
    "from sklearn.feature_extraction import DictVectorizer"
   ]
  },
  {
   "cell_type": "code",
   "execution_count": 139,
   "id": "ebf4ef00",
   "metadata": {},
   "outputs": [],
   "source": [
    "train_dicts = df_train[categorical+numerical].to_dict(orient='records')"
   ]
  },
  {
   "cell_type": "code",
   "execution_count": 140,
   "id": "06dba65d",
   "metadata": {},
   "outputs": [
    {
     "data": {
      "application/vnd.microsoft.datawrangler.viewer.v0+json": {
       "columns": [
        {
         "name": "index",
         "rawType": "int64",
         "type": "integer"
        },
        {
         "name": "lead_source",
         "rawType": "object",
         "type": "string"
        },
        {
         "name": "industry",
         "rawType": "object",
         "type": "string"
        },
        {
         "name": "number_of_courses_viewed",
         "rawType": "int64",
         "type": "integer"
        },
        {
         "name": "annual_income",
         "rawType": "float64",
         "type": "float"
        },
        {
         "name": "employment_status",
         "rawType": "object",
         "type": "string"
        },
        {
         "name": "location",
         "rawType": "object",
         "type": "string"
        },
        {
         "name": "interaction_count",
         "rawType": "int64",
         "type": "integer"
        },
        {
         "name": "lead_score",
         "rawType": "float64",
         "type": "float"
        }
       ],
       "ref": "a3e8ad5c-8380-48cb-af22-9d7c0125370f",
       "rows": [
        [
         "0",
         "paid_ads",
         "retail",
         "0",
         "58472.0",
         "student",
         "middle_east",
         "5",
         "0.03"
        ],
        [
         "1",
         "organic_search",
         "manufacturing",
         "3",
         "71738.0",
         "student",
         "middle_east",
         "6",
         "0.77"
        ],
        [
         "2",
         "paid_ads",
         "technology",
         "3",
         "81973.0",
         "employed",
         "north_america",
         "2",
         "0.59"
        ],
        [
         "3",
         "NA",
         "technology",
         "1",
         "74956.0",
         "employed",
         "europe",
         "3",
         "0.34"
        ],
        [
         "4",
         "organic_search",
         "retail",
         "3",
         "59335.0",
         "student",
         "australia",
         "1",
         "0.98"
        ],
        [
         "5",
         "social_media",
         "retail",
         "4",
         "50961.0",
         "student",
         "south_america",
         "1",
         "1.0"
        ],
        [
         "6",
         "social_media",
         "finance",
         "0",
         "0.0",
         "unemployed",
         "africa",
         "3",
         "0.73"
        ],
        [
         "7",
         "events",
         "retail",
         "3",
         "45170.0",
         "student",
         "middle_east",
         "3",
         "0.38"
        ],
        [
         "8",
         "organic_search",
         "NA",
         "0",
         "73717.0",
         "employed",
         "asia",
         "2",
         "0.28"
        ],
        [
         "9",
         "organic_search",
         "education",
         "2",
         "61872.0",
         "student",
         "australia",
         "1",
         "0.01"
        ]
       ],
       "shape": {
        "columns": 8,
        "rows": 10
       }
      },
      "text/html": [
       "<div>\n",
       "<style scoped>\n",
       "    .dataframe tbody tr th:only-of-type {\n",
       "        vertical-align: middle;\n",
       "    }\n",
       "\n",
       "    .dataframe tbody tr th {\n",
       "        vertical-align: top;\n",
       "    }\n",
       "\n",
       "    .dataframe thead th {\n",
       "        text-align: right;\n",
       "    }\n",
       "</style>\n",
       "<table border=\"1\" class=\"dataframe\">\n",
       "  <thead>\n",
       "    <tr style=\"text-align: right;\">\n",
       "      <th></th>\n",
       "      <th>lead_source</th>\n",
       "      <th>industry</th>\n",
       "      <th>number_of_courses_viewed</th>\n",
       "      <th>annual_income</th>\n",
       "      <th>employment_status</th>\n",
       "      <th>location</th>\n",
       "      <th>interaction_count</th>\n",
       "      <th>lead_score</th>\n",
       "    </tr>\n",
       "  </thead>\n",
       "  <tbody>\n",
       "    <tr>\n",
       "      <th>0</th>\n",
       "      <td>paid_ads</td>\n",
       "      <td>retail</td>\n",
       "      <td>0</td>\n",
       "      <td>58472.0</td>\n",
       "      <td>student</td>\n",
       "      <td>middle_east</td>\n",
       "      <td>5</td>\n",
       "      <td>0.03</td>\n",
       "    </tr>\n",
       "    <tr>\n",
       "      <th>1</th>\n",
       "      <td>organic_search</td>\n",
       "      <td>manufacturing</td>\n",
       "      <td>3</td>\n",
       "      <td>71738.0</td>\n",
       "      <td>student</td>\n",
       "      <td>middle_east</td>\n",
       "      <td>6</td>\n",
       "      <td>0.77</td>\n",
       "    </tr>\n",
       "    <tr>\n",
       "      <th>2</th>\n",
       "      <td>paid_ads</td>\n",
       "      <td>technology</td>\n",
       "      <td>3</td>\n",
       "      <td>81973.0</td>\n",
       "      <td>employed</td>\n",
       "      <td>north_america</td>\n",
       "      <td>2</td>\n",
       "      <td>0.59</td>\n",
       "    </tr>\n",
       "    <tr>\n",
       "      <th>3</th>\n",
       "      <td>NA</td>\n",
       "      <td>technology</td>\n",
       "      <td>1</td>\n",
       "      <td>74956.0</td>\n",
       "      <td>employed</td>\n",
       "      <td>europe</td>\n",
       "      <td>3</td>\n",
       "      <td>0.34</td>\n",
       "    </tr>\n",
       "    <tr>\n",
       "      <th>4</th>\n",
       "      <td>organic_search</td>\n",
       "      <td>retail</td>\n",
       "      <td>3</td>\n",
       "      <td>59335.0</td>\n",
       "      <td>student</td>\n",
       "      <td>australia</td>\n",
       "      <td>1</td>\n",
       "      <td>0.98</td>\n",
       "    </tr>\n",
       "    <tr>\n",
       "      <th>5</th>\n",
       "      <td>social_media</td>\n",
       "      <td>retail</td>\n",
       "      <td>4</td>\n",
       "      <td>50961.0</td>\n",
       "      <td>student</td>\n",
       "      <td>south_america</td>\n",
       "      <td>1</td>\n",
       "      <td>1.00</td>\n",
       "    </tr>\n",
       "    <tr>\n",
       "      <th>6</th>\n",
       "      <td>social_media</td>\n",
       "      <td>finance</td>\n",
       "      <td>0</td>\n",
       "      <td>0.0</td>\n",
       "      <td>unemployed</td>\n",
       "      <td>africa</td>\n",
       "      <td>3</td>\n",
       "      <td>0.73</td>\n",
       "    </tr>\n",
       "    <tr>\n",
       "      <th>7</th>\n",
       "      <td>events</td>\n",
       "      <td>retail</td>\n",
       "      <td>3</td>\n",
       "      <td>45170.0</td>\n",
       "      <td>student</td>\n",
       "      <td>middle_east</td>\n",
       "      <td>3</td>\n",
       "      <td>0.38</td>\n",
       "    </tr>\n",
       "    <tr>\n",
       "      <th>8</th>\n",
       "      <td>organic_search</td>\n",
       "      <td>NA</td>\n",
       "      <td>0</td>\n",
       "      <td>73717.0</td>\n",
       "      <td>employed</td>\n",
       "      <td>asia</td>\n",
       "      <td>2</td>\n",
       "      <td>0.28</td>\n",
       "    </tr>\n",
       "    <tr>\n",
       "      <th>9</th>\n",
       "      <td>organic_search</td>\n",
       "      <td>education</td>\n",
       "      <td>2</td>\n",
       "      <td>61872.0</td>\n",
       "      <td>student</td>\n",
       "      <td>australia</td>\n",
       "      <td>1</td>\n",
       "      <td>0.01</td>\n",
       "    </tr>\n",
       "  </tbody>\n",
       "</table>\n",
       "</div>"
      ],
      "text/plain": [
       "      lead_source       industry  number_of_courses_viewed  annual_income  \\\n",
       "0        paid_ads         retail                         0        58472.0   \n",
       "1  organic_search  manufacturing                         3        71738.0   \n",
       "2        paid_ads     technology                         3        81973.0   \n",
       "3              NA     technology                         1        74956.0   \n",
       "4  organic_search         retail                         3        59335.0   \n",
       "5    social_media         retail                         4        50961.0   \n",
       "6    social_media        finance                         0            0.0   \n",
       "7          events         retail                         3        45170.0   \n",
       "8  organic_search             NA                         0        73717.0   \n",
       "9  organic_search      education                         2        61872.0   \n",
       "\n",
       "  employment_status       location  interaction_count  lead_score  \n",
       "0           student    middle_east                  5        0.03  \n",
       "1           student    middle_east                  6        0.77  \n",
       "2          employed  north_america                  2        0.59  \n",
       "3          employed         europe                  3        0.34  \n",
       "4           student      australia                  1        0.98  \n",
       "5           student  south_america                  1        1.00  \n",
       "6        unemployed         africa                  3        0.73  \n",
       "7           student    middle_east                  3        0.38  \n",
       "8          employed           asia                  2        0.28  \n",
       "9           student      australia                  1        0.01  "
      ]
     },
     "execution_count": 140,
     "metadata": {},
     "output_type": "execute_result"
    }
   ],
   "source": [
    "df_train.head(10)"
   ]
  },
  {
   "cell_type": "code",
   "execution_count": 141,
   "id": "f2ada1f7",
   "metadata": {},
   "outputs": [],
   "source": [
    "# DictVectorized infers from data how we want to transform the entire dataframe\n",
    "dv = DictVectorizer(sparse=False)\n",
    "X_train = dv.fit_transform(train_dicts)"
   ]
  },
  {
   "cell_type": "code",
   "execution_count": 142,
   "id": "6e3213c4",
   "metadata": {},
   "outputs": [
    {
     "data": {
      "text/plain": [
       "array(['annual_income', 'employment_status=NA',\n",
       "       'employment_status=employed', 'employment_status=self_employed',\n",
       "       'employment_status=student', 'employment_status=unemployed',\n",
       "       'industry=NA', 'industry=education', 'industry=finance',\n",
       "       'industry=healthcare', 'industry=manufacturing', 'industry=other',\n",
       "       'industry=retail', 'industry=technology', 'interaction_count',\n",
       "       'lead_score', 'lead_source=NA', 'lead_source=events',\n",
       "       'lead_source=organic_search', 'lead_source=paid_ads',\n",
       "       'lead_source=referral', 'lead_source=social_media', 'location=NA',\n",
       "       'location=africa', 'location=asia', 'location=australia',\n",
       "       'location=europe', 'location=middle_east',\n",
       "       'location=north_america', 'location=south_america',\n",
       "       'number_of_courses_viewed'], dtype=object)"
      ]
     },
     "execution_count": 142,
     "metadata": {},
     "output_type": "execute_result"
    }
   ],
   "source": [
    "dv.get_feature_names_out()"
   ]
  },
  {
   "cell_type": "code",
   "execution_count": 143,
   "id": "1df3b1e1",
   "metadata": {},
   "outputs": [],
   "source": [
    "val_dicts = df_val[categorical+numerical].to_dict(orient='records')\n",
    "X_val = dv.fit_transform(val_dicts)"
   ]
  },
  {
   "cell_type": "code",
   "execution_count": 144,
   "id": "059d5a7d",
   "metadata": {},
   "outputs": [],
   "source": [
    "test_dicts = df_test[categorical+numerical].to_dict(orient='records')\n",
    "X_test = dv.fit_transform(test_dicts)"
   ]
  },
  {
   "cell_type": "code",
   "execution_count": 145,
   "id": "39ba407f",
   "metadata": {},
   "outputs": [],
   "source": [
    "dicts_full_train = df_full_train[categorical+numerical].to_dict(orient='records')\n",
    "X_full_train = dv.fit_transform(dicts_full_train)"
   ]
  },
  {
   "cell_type": "code",
   "execution_count": 146,
   "id": "b4808958",
   "metadata": {},
   "outputs": [],
   "source": [
    "y_full_train = df_full_train.converted.values"
   ]
  },
  {
   "cell_type": "code",
   "execution_count": 147,
   "id": "931bbc84",
   "metadata": {},
   "outputs": [],
   "source": [
    "from sklearn.linear_model import LogisticRegression"
   ]
  },
  {
   "cell_type": "code",
   "execution_count": 148,
   "id": "efd55818",
   "metadata": {},
   "outputs": [
    {
     "data": {
      "text/html": [
       "<style>#sk-container-id-3 {\n",
       "  /* Definition of color scheme common for light and dark mode */\n",
       "  --sklearn-color-text: black;\n",
       "  --sklearn-color-line: gray;\n",
       "  /* Definition of color scheme for unfitted estimators */\n",
       "  --sklearn-color-unfitted-level-0: #fff5e6;\n",
       "  --sklearn-color-unfitted-level-1: #f6e4d2;\n",
       "  --sklearn-color-unfitted-level-2: #ffe0b3;\n",
       "  --sklearn-color-unfitted-level-3: chocolate;\n",
       "  /* Definition of color scheme for fitted estimators */\n",
       "  --sklearn-color-fitted-level-0: #f0f8ff;\n",
       "  --sklearn-color-fitted-level-1: #d4ebff;\n",
       "  --sklearn-color-fitted-level-2: #b3dbfd;\n",
       "  --sklearn-color-fitted-level-3: cornflowerblue;\n",
       "\n",
       "  /* Specific color for light theme */\n",
       "  --sklearn-color-text-on-default-background: var(--sg-text-color, var(--theme-code-foreground, var(--jp-content-font-color1, black)));\n",
       "  --sklearn-color-background: var(--sg-background-color, var(--theme-background, var(--jp-layout-color0, white)));\n",
       "  --sklearn-color-border-box: var(--sg-text-color, var(--theme-code-foreground, var(--jp-content-font-color1, black)));\n",
       "  --sklearn-color-icon: #696969;\n",
       "\n",
       "  @media (prefers-color-scheme: dark) {\n",
       "    /* Redefinition of color scheme for dark theme */\n",
       "    --sklearn-color-text-on-default-background: var(--sg-text-color, var(--theme-code-foreground, var(--jp-content-font-color1, white)));\n",
       "    --sklearn-color-background: var(--sg-background-color, var(--theme-background, var(--jp-layout-color0, #111)));\n",
       "    --sklearn-color-border-box: var(--sg-text-color, var(--theme-code-foreground, var(--jp-content-font-color1, white)));\n",
       "    --sklearn-color-icon: #878787;\n",
       "  }\n",
       "}\n",
       "\n",
       "#sk-container-id-3 {\n",
       "  color: var(--sklearn-color-text);\n",
       "}\n",
       "\n",
       "#sk-container-id-3 pre {\n",
       "  padding: 0;\n",
       "}\n",
       "\n",
       "#sk-container-id-3 input.sk-hidden--visually {\n",
       "  border: 0;\n",
       "  clip: rect(1px 1px 1px 1px);\n",
       "  clip: rect(1px, 1px, 1px, 1px);\n",
       "  height: 1px;\n",
       "  margin: -1px;\n",
       "  overflow: hidden;\n",
       "  padding: 0;\n",
       "  position: absolute;\n",
       "  width: 1px;\n",
       "}\n",
       "\n",
       "#sk-container-id-3 div.sk-dashed-wrapped {\n",
       "  border: 1px dashed var(--sklearn-color-line);\n",
       "  margin: 0 0.4em 0.5em 0.4em;\n",
       "  box-sizing: border-box;\n",
       "  padding-bottom: 0.4em;\n",
       "  background-color: var(--sklearn-color-background);\n",
       "}\n",
       "\n",
       "#sk-container-id-3 div.sk-container {\n",
       "  /* jupyter's `normalize.less` sets `[hidden] { display: none; }`\n",
       "     but bootstrap.min.css set `[hidden] { display: none !important; }`\n",
       "     so we also need the `!important` here to be able to override the\n",
       "     default hidden behavior on the sphinx rendered scikit-learn.org.\n",
       "     See: https://github.com/scikit-learn/scikit-learn/issues/21755 */\n",
       "  display: inline-block !important;\n",
       "  position: relative;\n",
       "}\n",
       "\n",
       "#sk-container-id-3 div.sk-text-repr-fallback {\n",
       "  display: none;\n",
       "}\n",
       "\n",
       "div.sk-parallel-item,\n",
       "div.sk-serial,\n",
       "div.sk-item {\n",
       "  /* draw centered vertical line to link estimators */\n",
       "  background-image: linear-gradient(var(--sklearn-color-text-on-default-background), var(--sklearn-color-text-on-default-background));\n",
       "  background-size: 2px 100%;\n",
       "  background-repeat: no-repeat;\n",
       "  background-position: center center;\n",
       "}\n",
       "\n",
       "/* Parallel-specific style estimator block */\n",
       "\n",
       "#sk-container-id-3 div.sk-parallel-item::after {\n",
       "  content: \"\";\n",
       "  width: 100%;\n",
       "  border-bottom: 2px solid var(--sklearn-color-text-on-default-background);\n",
       "  flex-grow: 1;\n",
       "}\n",
       "\n",
       "#sk-container-id-3 div.sk-parallel {\n",
       "  display: flex;\n",
       "  align-items: stretch;\n",
       "  justify-content: center;\n",
       "  background-color: var(--sklearn-color-background);\n",
       "  position: relative;\n",
       "}\n",
       "\n",
       "#sk-container-id-3 div.sk-parallel-item {\n",
       "  display: flex;\n",
       "  flex-direction: column;\n",
       "}\n",
       "\n",
       "#sk-container-id-3 div.sk-parallel-item:first-child::after {\n",
       "  align-self: flex-end;\n",
       "  width: 50%;\n",
       "}\n",
       "\n",
       "#sk-container-id-3 div.sk-parallel-item:last-child::after {\n",
       "  align-self: flex-start;\n",
       "  width: 50%;\n",
       "}\n",
       "\n",
       "#sk-container-id-3 div.sk-parallel-item:only-child::after {\n",
       "  width: 0;\n",
       "}\n",
       "\n",
       "/* Serial-specific style estimator block */\n",
       "\n",
       "#sk-container-id-3 div.sk-serial {\n",
       "  display: flex;\n",
       "  flex-direction: column;\n",
       "  align-items: center;\n",
       "  background-color: var(--sklearn-color-background);\n",
       "  padding-right: 1em;\n",
       "  padding-left: 1em;\n",
       "}\n",
       "\n",
       "\n",
       "/* Toggleable style: style used for estimator/Pipeline/ColumnTransformer box that is\n",
       "clickable and can be expanded/collapsed.\n",
       "- Pipeline and ColumnTransformer use this feature and define the default style\n",
       "- Estimators will overwrite some part of the style using the `sk-estimator` class\n",
       "*/\n",
       "\n",
       "/* Pipeline and ColumnTransformer style (default) */\n",
       "\n",
       "#sk-container-id-3 div.sk-toggleable {\n",
       "  /* Default theme specific background. It is overwritten whether we have a\n",
       "  specific estimator or a Pipeline/ColumnTransformer */\n",
       "  background-color: var(--sklearn-color-background);\n",
       "}\n",
       "\n",
       "/* Toggleable label */\n",
       "#sk-container-id-3 label.sk-toggleable__label {\n",
       "  cursor: pointer;\n",
       "  display: block;\n",
       "  width: 100%;\n",
       "  margin-bottom: 0;\n",
       "  padding: 0.5em;\n",
       "  box-sizing: border-box;\n",
       "  text-align: center;\n",
       "}\n",
       "\n",
       "#sk-container-id-3 label.sk-toggleable__label-arrow:before {\n",
       "  /* Arrow on the left of the label */\n",
       "  content: \"▸\";\n",
       "  float: left;\n",
       "  margin-right: 0.25em;\n",
       "  color: var(--sklearn-color-icon);\n",
       "}\n",
       "\n",
       "#sk-container-id-3 label.sk-toggleable__label-arrow:hover:before {\n",
       "  color: var(--sklearn-color-text);\n",
       "}\n",
       "\n",
       "/* Toggleable content - dropdown */\n",
       "\n",
       "#sk-container-id-3 div.sk-toggleable__content {\n",
       "  max-height: 0;\n",
       "  max-width: 0;\n",
       "  overflow: hidden;\n",
       "  text-align: left;\n",
       "  /* unfitted */\n",
       "  background-color: var(--sklearn-color-unfitted-level-0);\n",
       "}\n",
       "\n",
       "#sk-container-id-3 div.sk-toggleable__content.fitted {\n",
       "  /* fitted */\n",
       "  background-color: var(--sklearn-color-fitted-level-0);\n",
       "}\n",
       "\n",
       "#sk-container-id-3 div.sk-toggleable__content pre {\n",
       "  margin: 0.2em;\n",
       "  border-radius: 0.25em;\n",
       "  color: var(--sklearn-color-text);\n",
       "  /* unfitted */\n",
       "  background-color: var(--sklearn-color-unfitted-level-0);\n",
       "}\n",
       "\n",
       "#sk-container-id-3 div.sk-toggleable__content.fitted pre {\n",
       "  /* unfitted */\n",
       "  background-color: var(--sklearn-color-fitted-level-0);\n",
       "}\n",
       "\n",
       "#sk-container-id-3 input.sk-toggleable__control:checked~div.sk-toggleable__content {\n",
       "  /* Expand drop-down */\n",
       "  max-height: 200px;\n",
       "  max-width: 100%;\n",
       "  overflow: auto;\n",
       "}\n",
       "\n",
       "#sk-container-id-3 input.sk-toggleable__control:checked~label.sk-toggleable__label-arrow:before {\n",
       "  content: \"▾\";\n",
       "}\n",
       "\n",
       "/* Pipeline/ColumnTransformer-specific style */\n",
       "\n",
       "#sk-container-id-3 div.sk-label input.sk-toggleable__control:checked~label.sk-toggleable__label {\n",
       "  color: var(--sklearn-color-text);\n",
       "  background-color: var(--sklearn-color-unfitted-level-2);\n",
       "}\n",
       "\n",
       "#sk-container-id-3 div.sk-label.fitted input.sk-toggleable__control:checked~label.sk-toggleable__label {\n",
       "  background-color: var(--sklearn-color-fitted-level-2);\n",
       "}\n",
       "\n",
       "/* Estimator-specific style */\n",
       "\n",
       "/* Colorize estimator box */\n",
       "#sk-container-id-3 div.sk-estimator input.sk-toggleable__control:checked~label.sk-toggleable__label {\n",
       "  /* unfitted */\n",
       "  background-color: var(--sklearn-color-unfitted-level-2);\n",
       "}\n",
       "\n",
       "#sk-container-id-3 div.sk-estimator.fitted input.sk-toggleable__control:checked~label.sk-toggleable__label {\n",
       "  /* fitted */\n",
       "  background-color: var(--sklearn-color-fitted-level-2);\n",
       "}\n",
       "\n",
       "#sk-container-id-3 div.sk-label label.sk-toggleable__label,\n",
       "#sk-container-id-3 div.sk-label label {\n",
       "  /* The background is the default theme color */\n",
       "  color: var(--sklearn-color-text-on-default-background);\n",
       "}\n",
       "\n",
       "/* On hover, darken the color of the background */\n",
       "#sk-container-id-3 div.sk-label:hover label.sk-toggleable__label {\n",
       "  color: var(--sklearn-color-text);\n",
       "  background-color: var(--sklearn-color-unfitted-level-2);\n",
       "}\n",
       "\n",
       "/* Label box, darken color on hover, fitted */\n",
       "#sk-container-id-3 div.sk-label.fitted:hover label.sk-toggleable__label.fitted {\n",
       "  color: var(--sklearn-color-text);\n",
       "  background-color: var(--sklearn-color-fitted-level-2);\n",
       "}\n",
       "\n",
       "/* Estimator label */\n",
       "\n",
       "#sk-container-id-3 div.sk-label label {\n",
       "  font-family: monospace;\n",
       "  font-weight: bold;\n",
       "  display: inline-block;\n",
       "  line-height: 1.2em;\n",
       "}\n",
       "\n",
       "#sk-container-id-3 div.sk-label-container {\n",
       "  text-align: center;\n",
       "}\n",
       "\n",
       "/* Estimator-specific */\n",
       "#sk-container-id-3 div.sk-estimator {\n",
       "  font-family: monospace;\n",
       "  border: 1px dotted var(--sklearn-color-border-box);\n",
       "  border-radius: 0.25em;\n",
       "  box-sizing: border-box;\n",
       "  margin-bottom: 0.5em;\n",
       "  /* unfitted */\n",
       "  background-color: var(--sklearn-color-unfitted-level-0);\n",
       "}\n",
       "\n",
       "#sk-container-id-3 div.sk-estimator.fitted {\n",
       "  /* fitted */\n",
       "  background-color: var(--sklearn-color-fitted-level-0);\n",
       "}\n",
       "\n",
       "/* on hover */\n",
       "#sk-container-id-3 div.sk-estimator:hover {\n",
       "  /* unfitted */\n",
       "  background-color: var(--sklearn-color-unfitted-level-2);\n",
       "}\n",
       "\n",
       "#sk-container-id-3 div.sk-estimator.fitted:hover {\n",
       "  /* fitted */\n",
       "  background-color: var(--sklearn-color-fitted-level-2);\n",
       "}\n",
       "\n",
       "/* Specification for estimator info (e.g. \"i\" and \"?\") */\n",
       "\n",
       "/* Common style for \"i\" and \"?\" */\n",
       "\n",
       ".sk-estimator-doc-link,\n",
       "a:link.sk-estimator-doc-link,\n",
       "a:visited.sk-estimator-doc-link {\n",
       "  float: right;\n",
       "  font-size: smaller;\n",
       "  line-height: 1em;\n",
       "  font-family: monospace;\n",
       "  background-color: var(--sklearn-color-background);\n",
       "  border-radius: 1em;\n",
       "  height: 1em;\n",
       "  width: 1em;\n",
       "  text-decoration: none !important;\n",
       "  margin-left: 1ex;\n",
       "  /* unfitted */\n",
       "  border: var(--sklearn-color-unfitted-level-1) 1pt solid;\n",
       "  color: var(--sklearn-color-unfitted-level-1);\n",
       "}\n",
       "\n",
       ".sk-estimator-doc-link.fitted,\n",
       "a:link.sk-estimator-doc-link.fitted,\n",
       "a:visited.sk-estimator-doc-link.fitted {\n",
       "  /* fitted */\n",
       "  border: var(--sklearn-color-fitted-level-1) 1pt solid;\n",
       "  color: var(--sklearn-color-fitted-level-1);\n",
       "}\n",
       "\n",
       "/* On hover */\n",
       "div.sk-estimator:hover .sk-estimator-doc-link:hover,\n",
       ".sk-estimator-doc-link:hover,\n",
       "div.sk-label-container:hover .sk-estimator-doc-link:hover,\n",
       ".sk-estimator-doc-link:hover {\n",
       "  /* unfitted */\n",
       "  background-color: var(--sklearn-color-unfitted-level-3);\n",
       "  color: var(--sklearn-color-background);\n",
       "  text-decoration: none;\n",
       "}\n",
       "\n",
       "div.sk-estimator.fitted:hover .sk-estimator-doc-link.fitted:hover,\n",
       ".sk-estimator-doc-link.fitted:hover,\n",
       "div.sk-label-container:hover .sk-estimator-doc-link.fitted:hover,\n",
       ".sk-estimator-doc-link.fitted:hover {\n",
       "  /* fitted */\n",
       "  background-color: var(--sklearn-color-fitted-level-3);\n",
       "  color: var(--sklearn-color-background);\n",
       "  text-decoration: none;\n",
       "}\n",
       "\n",
       "/* Span, style for the box shown on hovering the info icon */\n",
       ".sk-estimator-doc-link span {\n",
       "  display: none;\n",
       "  z-index: 9999;\n",
       "  position: relative;\n",
       "  font-weight: normal;\n",
       "  right: .2ex;\n",
       "  padding: .5ex;\n",
       "  margin: .5ex;\n",
       "  width: min-content;\n",
       "  min-width: 20ex;\n",
       "  max-width: 50ex;\n",
       "  color: var(--sklearn-color-text);\n",
       "  box-shadow: 2pt 2pt 4pt #999;\n",
       "  /* unfitted */\n",
       "  background: var(--sklearn-color-unfitted-level-0);\n",
       "  border: .5pt solid var(--sklearn-color-unfitted-level-3);\n",
       "}\n",
       "\n",
       ".sk-estimator-doc-link.fitted span {\n",
       "  /* fitted */\n",
       "  background: var(--sklearn-color-fitted-level-0);\n",
       "  border: var(--sklearn-color-fitted-level-3);\n",
       "}\n",
       "\n",
       ".sk-estimator-doc-link:hover span {\n",
       "  display: block;\n",
       "}\n",
       "\n",
       "/* \"?\"-specific style due to the `<a>` HTML tag */\n",
       "\n",
       "#sk-container-id-3 a.estimator_doc_link {\n",
       "  float: right;\n",
       "  font-size: 1rem;\n",
       "  line-height: 1em;\n",
       "  font-family: monospace;\n",
       "  background-color: var(--sklearn-color-background);\n",
       "  border-radius: 1rem;\n",
       "  height: 1rem;\n",
       "  width: 1rem;\n",
       "  text-decoration: none;\n",
       "  /* unfitted */\n",
       "  color: var(--sklearn-color-unfitted-level-1);\n",
       "  border: var(--sklearn-color-unfitted-level-1) 1pt solid;\n",
       "}\n",
       "\n",
       "#sk-container-id-3 a.estimator_doc_link.fitted {\n",
       "  /* fitted */\n",
       "  border: var(--sklearn-color-fitted-level-1) 1pt solid;\n",
       "  color: var(--sklearn-color-fitted-level-1);\n",
       "}\n",
       "\n",
       "/* On hover */\n",
       "#sk-container-id-3 a.estimator_doc_link:hover {\n",
       "  /* unfitted */\n",
       "  background-color: var(--sklearn-color-unfitted-level-3);\n",
       "  color: var(--sklearn-color-background);\n",
       "  text-decoration: none;\n",
       "}\n",
       "\n",
       "#sk-container-id-3 a.estimator_doc_link.fitted:hover {\n",
       "  /* fitted */\n",
       "  background-color: var(--sklearn-color-fitted-level-3);\n",
       "}\n",
       "</style><div id=\"sk-container-id-3\" class=\"sk-top-container\"><div class=\"sk-text-repr-fallback\"><pre>LogisticRegression(max_iter=1000, random_state=42, solver=&#x27;liblinear&#x27;)</pre><b>In a Jupyter environment, please rerun this cell to show the HTML representation or trust the notebook. <br />On GitHub, the HTML representation is unable to render, please try loading this page with nbviewer.org.</b></div><div class=\"sk-container\" hidden><div class=\"sk-item\"><div class=\"sk-estimator fitted sk-toggleable\"><input class=\"sk-toggleable__control sk-hidden--visually\" id=\"sk-estimator-id-3\" type=\"checkbox\" checked><label for=\"sk-estimator-id-3\" class=\"sk-toggleable__label fitted sk-toggleable__label-arrow fitted\">&nbsp;&nbsp;LogisticRegression<a class=\"sk-estimator-doc-link fitted\" rel=\"noreferrer\" target=\"_blank\" href=\"https://scikit-learn.org/1.5/modules/generated/sklearn.linear_model.LogisticRegression.html\">?<span>Documentation for LogisticRegression</span></a><span class=\"sk-estimator-doc-link fitted\">i<span>Fitted</span></span></label><div class=\"sk-toggleable__content fitted\"><pre>LogisticRegression(max_iter=1000, random_state=42, solver=&#x27;liblinear&#x27;)</pre></div> </div></div></div></div>"
      ],
      "text/plain": [
       "LogisticRegression(max_iter=1000, random_state=42, solver='liblinear')"
      ]
     },
     "execution_count": 148,
     "metadata": {},
     "output_type": "execute_result"
    }
   ],
   "source": [
    "model = LogisticRegression(solver='liblinear', C=1.0, max_iter=1000, random_state=42)\n",
    "model.fit(X_train, y_train)"
   ]
  },
  {
   "cell_type": "code",
   "execution_count": 149,
   "id": "6f6b98d4",
   "metadata": {},
   "outputs": [
    {
     "data": {
      "text/plain": [
       "(array([[-1.77843877e-05, -1.47154423e-02,  3.39095225e-02,\n",
       "          2.66248432e-03,  1.15238518e-02, -1.02527697e-01,\n",
       "         -2.48510995e-02,  4.93604222e-02, -2.01258344e-02,\n",
       "         -1.34214865e-02, -3.00232200e-03, -9.25991830e-03,\n",
       "         -3.17957304e-02, -1.60513114e-02,  3.11339155e-01,\n",
       "          5.12012528e-02,  2.01511698e-02, -1.20346284e-02,\n",
       "         -1.16021521e-02, -1.15251880e-01,  7.95303436e-02,\n",
       "         -2.99401329e-02,  3.95843295e-03, -1.14296944e-02,\n",
       "         -1.12457415e-02, -5.59987025e-03,  8.26402635e-03,\n",
       "          5.58598769e-03, -3.33967159e-02, -2.52837052e-02,\n",
       "          4.53752887e-01]]),\n",
       " -0.06914728027824993)"
      ]
     },
     "execution_count": 149,
     "metadata": {},
     "output_type": "execute_result"
    }
   ],
   "source": [
    "model.coef_, model.intercept_[0]"
   ]
  },
  {
   "cell_type": "code",
   "execution_count": 150,
   "id": "c28e96b6",
   "metadata": {},
   "outputs": [],
   "source": [
    "y_pred = model.predict_proba(X_val)\n"
   ]
  },
  {
   "cell_type": "code",
   "execution_count": 151,
   "id": "1338f6dd",
   "metadata": {},
   "outputs": [],
   "source": [
    "y_pred = y_pred[:, 1]\n"
   ]
  },
  {
   "cell_type": "code",
   "execution_count": 152,
   "id": "226064ff",
   "metadata": {},
   "outputs": [],
   "source": [
    "converted_decision = (y_pred >= 0.5)\n"
   ]
  },
  {
   "cell_type": "markdown",
   "id": "8d03e58e",
   "metadata": {},
   "source": [
    "## Answer 4"
   ]
  },
  {
   "cell_type": "code",
   "execution_count": 153,
   "id": "46a0f8cd",
   "metadata": {},
   "outputs": [
    {
     "data": {
      "text/plain": [
       "0.64"
      ]
     },
     "execution_count": 153,
     "metadata": {},
     "output_type": "execute_result"
    }
   ],
   "source": [
    "accuaracy_q4 = round((converted_decision == y_test).mean(),2)\n",
    "accuaracy_q4"
   ]
  },
  {
   "cell_type": "markdown",
   "id": "54b84603",
   "metadata": {},
   "source": [
    "# Question 5"
   ]
  },
  {
   "cell_type": "code",
   "execution_count": 154,
   "id": "d2bb5a44",
   "metadata": {},
   "outputs": [],
   "source": [
    "accuracy_original = accuaracy_q4"
   ]
  },
  {
   "cell_type": "code",
   "execution_count": 155,
   "id": "922d8e8a",
   "metadata": {},
   "outputs": [],
   "source": [
    "accuracy_diffs = {k: 0 for k in categorical+numerical}"
   ]
  },
  {
   "cell_type": "code",
   "execution_count": 156,
   "id": "554e7ed5",
   "metadata": {},
   "outputs": [
    {
     "data": {
      "text/plain": [
       "['lead_source',\n",
       " 'industry',\n",
       " 'employment_status',\n",
       " 'location',\n",
       " 'number_of_courses_viewed',\n",
       " 'annual_income',\n",
       " 'interaction_count',\n",
       " 'lead_score']"
      ]
     },
     "execution_count": 156,
     "metadata": {},
     "output_type": "execute_result"
    }
   ],
   "source": [
    "features = categorical+numerical\n",
    "features"
   ]
  },
  {
   "cell_type": "code",
   "execution_count": 157,
   "id": "4e7f2a72",
   "metadata": {},
   "outputs": [
    {
     "name": "stdout",
     "output_type": "stream",
     "text": [
      "['industry', 'employment_status', 'location', 'number_of_courses_viewed', 'annual_income', 'interaction_count', 'lead_score']\n",
      "['lead_source', 'employment_status', 'location', 'number_of_courses_viewed', 'annual_income', 'interaction_count', 'lead_score']\n",
      "['lead_source', 'industry', 'location', 'number_of_courses_viewed', 'annual_income', 'interaction_count', 'lead_score']\n",
      "['lead_source', 'industry', 'employment_status', 'number_of_courses_viewed', 'annual_income', 'interaction_count', 'lead_score']\n",
      "['lead_source', 'industry', 'employment_status', 'location', 'annual_income', 'interaction_count', 'lead_score']\n",
      "['lead_source', 'industry', 'employment_status', 'location', 'number_of_courses_viewed', 'interaction_count', 'lead_score']\n",
      "['lead_source', 'industry', 'employment_status', 'location', 'number_of_courses_viewed', 'annual_income', 'lead_score']\n",
      "['lead_source', 'industry', 'employment_status', 'location', 'number_of_courses_viewed', 'annual_income', 'interaction_count']\n"
     ]
    }
   ],
   "source": [
    "for feature in features:\n",
    "    features_small = features.copy()\n",
    "    features_small.remove(feature)\n",
    "    print(features_small)\n",
    "    dicts_small_train = df_train[features_small].to_dict(orient='records')\n",
    "    X_small_train = dv.fit_transform(dicts_small_train)\n",
    "    dicts_small_val = df_val[features_small].to_dict(orient='records')\n",
    "    X_small_val = dv.fit_transform(dicts_small_val)\n",
    "    \n",
    "    model = LogisticRegression(solver='liblinear', C=1.0, max_iter=1000, random_state=42)\n",
    "    model.fit(X_small_train, y_train)\n",
    "    y_pred_small = model.predict_proba(X_small_val)[:, 1]\n",
    "    accuracy_small = round(((y_pred_small>= 0.5) == y_test).mean(),2)\n",
    "    accuracy_diffs[feature] += abs(accuracy_original-accuracy_small)\n",
    "    "
   ]
  },
  {
   "cell_type": "markdown",
   "id": "208a9594",
   "metadata": {},
   "source": [
    "## Answer 5"
   ]
  },
  {
   "cell_type": "code",
   "execution_count": 158,
   "id": "e376aa42",
   "metadata": {},
   "outputs": [
    {
     "data": {
      "text/plain": [
       "{'lead_source': 0.010000000000000009,\n",
       " 'industry': 0.0,\n",
       " 'employment_status': 0.010000000000000009,\n",
       " 'location': 0.010000000000000009,\n",
       " 'number_of_courses_viewed': 0.030000000000000027,\n",
       " 'annual_income': 0.050000000000000044,\n",
       " 'interaction_count': 0.030000000000000027,\n",
       " 'lead_score': 0.010000000000000009}"
      ]
     },
     "execution_count": 158,
     "metadata": {},
     "output_type": "execute_result"
    }
   ],
   "source": [
    "accuracy_diffs\n"
   ]
  },
  {
   "cell_type": "code",
   "execution_count": 159,
   "id": "b2d77039",
   "metadata": {},
   "outputs": [
    {
     "data": {
      "text/plain": [
       "0.0"
      ]
     },
     "execution_count": 159,
     "metadata": {},
     "output_type": "execute_result"
    }
   ],
   "source": [
    "min(accuracy_diffs['industry'], accuracy_diffs['employment_status'], accuracy_diffs['lead_score'])"
   ]
  },
  {
   "cell_type": "markdown",
   "id": "7f2907cf",
   "metadata": {},
   "source": [
    "# Question 6"
   ]
  },
  {
   "cell_type": "code",
   "execution_count": 189,
   "id": "275554d3",
   "metadata": {},
   "outputs": [],
   "source": [
    "Cs = [0.01, 0.1, 1, 10, 100]\n",
    "accuracies_reg = {f'{i}': 0 for i in Cs}"
   ]
  },
  {
   "cell_type": "code",
   "execution_count": null,
   "id": "58ddfa90",
   "metadata": {},
   "outputs": [
    {
     "name": "stdout",
     "output_type": "stream",
     "text": [
      "C=0.01, Coeff: [[-1.44269496e-05 -1.50706426e-02  3.29340037e-02  7.74137467e-04\n",
      "   8.60929738e-03 -1.04877363e-01 -2.55340247e-02  4.82213629e-02\n",
      "  -2.09010925e-02 -1.49527146e-02 -4.12113462e-03 -1.03656251e-02\n",
      "  -3.32670234e-02 -1.67103148e-02  2.63709089e-01  4.70729819e-02\n",
      "   1.90076423e-02 -1.30314747e-02 -1.35024862e-02 -1.16598119e-01\n",
      "   7.77556500e-02 -3.12617789e-02  3.59346197e-03 -1.25310608e-02\n",
      "  -1.20323048e-02 -6.91618829e-03  6.41786556e-03  4.22307621e-03\n",
      "  -3.49558482e-02 -2.54295685e-02  4.16472803e-01]]\n",
      "C=0.1, Coeff: [[-1.74490535e-05 -1.47654943e-02  3.38345780e-02  2.46367391e-03\n",
      "   1.12234076e-02 -1.02865198e-01 -2.49449781e-02  4.92809607e-02\n",
      "  -2.02255436e-02 -1.35960447e-02 -3.12399242e-03 -9.38544148e-03\n",
      "  -3.19788924e-02 -1.61351006e-02  3.06513056e-01  5.08044646e-02\n",
      "   2.00466245e-02 -1.21507220e-02 -1.18145222e-02 -1.15493479e-01\n",
      "   7.94084814e-02 -3.01054154e-02  3.92285139e-03 -1.15570032e-02\n",
      "  -1.13389219e-02 -5.74437767e-03  8.07445648e-03  5.44547970e-03\n",
      "  -3.35911092e-02 -2.53204082e-02  4.50188852e-01]]\n",
      "C=1, Coeff: [[-1.77843877e-05 -1.47154423e-02  3.39095225e-02  2.66248432e-03\n",
      "   1.15238518e-02 -1.02527697e-01 -2.48510995e-02  4.93604222e-02\n",
      "  -2.01258344e-02 -1.34214865e-02 -3.00232200e-03 -9.25991830e-03\n",
      "  -3.17957304e-02 -1.60513114e-02  3.11339155e-01  5.12012528e-02\n",
      "   2.01511698e-02 -1.20346284e-02 -1.16021521e-02 -1.15251880e-01\n",
      "   7.95303436e-02 -2.99401329e-02  3.95843295e-03 -1.14296944e-02\n",
      "  -1.12457415e-02 -5.59987025e-03  8.26402635e-03  5.58598769e-03\n",
      "  -3.33967159e-02 -2.52837052e-02  4.53752887e-01]]\n",
      "C=10, Coeff: [[-1.78182832e-05 -1.47102082e-02  3.39168287e-02  2.68270276e-03\n",
      "   1.15543333e-02 -1.02492350e-01 -2.48413026e-02  4.93680434e-02\n",
      "  -2.01154888e-02 -1.34035829e-02 -2.98990440e-03 -9.24704939e-03\n",
      "  -3.17767819e-02 -1.60426266e-02  3.11827802e-01  5.12411745e-02\n",
      "   2.01616217e-02 -1.20226953e-02 -1.15804150e-02 -1.15226176e-01\n",
      "   7.95419980e-02 -2.99230268e-02  3.96201914e-03 -1.14166186e-02\n",
      "  -1.12361475e-02 -5.58510676e-03  8.28325053e-03  5.60024296e-03\n",
      "  -3.33766030e-02 -2.52797299e-02  4.54111248e-01]]\n",
      "C=100, Coeff: [[-1.78216761e-05 -1.47096825e-02  3.39175574e-02  2.68472802e-03\n",
      "   1.15573859e-02 -1.02488799e-01 -2.48403187e-02  4.93688022e-02\n",
      "  -2.01144505e-02 -1.34017880e-02 -2.98866010e-03 -9.24575929e-03\n",
      "  -3.17748807e-02 -1.60417550e-02  3.11876728e-01  5.12451692e-02\n",
      "   2.01626669e-02 -1.20214987e-02 -1.15782363e-02 -1.15223590e-01\n",
      "   7.95431580e-02 -2.99213103e-02  3.96237804e-03 -1.14153076e-02\n",
      "  -1.12351853e-02 -5.58362724e-03  8.28517565e-03  5.60167056e-03\n",
      "  -3.33745849e-02 -2.52793293e-02  4.54147104e-01]]\n"
     ]
    }
   ],
   "source": [
    "for c in Cs:\n",
    "    model = LogisticRegression(solver='liblinear', C=c, max_iter=1000, random_state=42)\n",
    "    model.fit(X_train, y_train)\n",
    "    y_pred = model.predict_proba(X_val)[:, 1]\n",
    "    converted_decision = (y_pred >= 0.5)\n",
    "    accuracy = (converted_decision == y_val).mean()\n",
    "    accuracies_reg[str(c)] += round(accuracy,3)"
   ]
  },
  {
   "cell_type": "markdown",
   "id": "6bc52b55",
   "metadata": {},
   "source": [
    "## Answer 6"
   ]
  },
  {
   "cell_type": "code",
   "execution_count": 188,
   "id": "b6a182a0",
   "metadata": {},
   "outputs": [
    {
     "data": {
      "text/plain": [
       "{'0.01': 0.7, '0.1': 0.7, '1': 0.7, '10': 0.7, '100': 0.7}"
      ]
     },
     "execution_count": 188,
     "metadata": {},
     "output_type": "execute_result"
    }
   ],
   "source": [
    "accuracies_reg"
   ]
  },
  {
   "cell_type": "code",
   "execution_count": null,
   "id": "0fe39f83",
   "metadata": {},
   "outputs": [],
   "source": []
  }
 ],
 "metadata": {
  "kernelspec": {
   "display_name": "AIVenv",
   "language": "python",
   "name": "python3"
  },
  "language_info": {
   "codemirror_mode": {
    "name": "ipython",
    "version": 3
   },
   "file_extension": ".py",
   "mimetype": "text/x-python",
   "name": "python",
   "nbconvert_exporter": "python",
   "pygments_lexer": "ipython3",
   "version": "3.10.12"
  }
 },
 "nbformat": 4,
 "nbformat_minor": 5
}
