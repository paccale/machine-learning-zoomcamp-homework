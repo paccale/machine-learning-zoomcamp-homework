{
 "cells": [
  {
   "cell_type": "code",
   "execution_count": 1,
   "id": "94ea57ec",
   "metadata": {},
   "outputs": [],
   "source": [
    "import numpy as np\n",
    "import pandas as pd\n",
    "import matplotlib.pyplot as plt\n",
    "import seaborn as sns"
   ]
  },
  {
   "cell_type": "code",
   "execution_count": 2,
   "id": "0f963d7d",
   "metadata": {},
   "outputs": [],
   "source": [
    "df = pd.read_csv('course_lead_scoring.csv')"
   ]
  },
  {
   "cell_type": "markdown",
   "id": "65d86caa",
   "metadata": {},
   "source": [
    "# Data Preparation"
   ]
  },
  {
   "cell_type": "code",
   "execution_count": 3,
   "id": "1cc50621",
   "metadata": {},
   "outputs": [
    {
     "data": {
      "application/vnd.microsoft.datawrangler.viewer.v0+json": {
       "columns": [
        {
         "name": "index",
         "rawType": "int64",
         "type": "integer"
        },
        {
         "name": "lead_source",
         "rawType": "object",
         "type": "unknown"
        },
        {
         "name": "industry",
         "rawType": "object",
         "type": "unknown"
        },
        {
         "name": "number_of_courses_viewed",
         "rawType": "int64",
         "type": "integer"
        },
        {
         "name": "annual_income",
         "rawType": "float64",
         "type": "float"
        },
        {
         "name": "employment_status",
         "rawType": "object",
         "type": "unknown"
        },
        {
         "name": "location",
         "rawType": "object",
         "type": "unknown"
        },
        {
         "name": "interaction_count",
         "rawType": "int64",
         "type": "integer"
        },
        {
         "name": "lead_score",
         "rawType": "float64",
         "type": "float"
        },
        {
         "name": "converted",
         "rawType": "int64",
         "type": "integer"
        }
       ],
       "ref": "fd44bdc4-a35b-4e9b-8e4a-70fe98b21911",
       "rows": [
        [
         "0",
         "paid_ads",
         null,
         "1",
         "79450.0",
         "unemployed",
         "south_america",
         "4",
         "0.94",
         "1"
        ],
        [
         "1",
         "social_media",
         "retail",
         "1",
         "46992.0",
         "employed",
         "south_america",
         "1",
         "0.8",
         "0"
        ],
        [
         "2",
         "events",
         "healthcare",
         "5",
         "78796.0",
         "unemployed",
         "australia",
         "3",
         "0.69",
         "1"
        ],
        [
         "3",
         "paid_ads",
         "retail",
         "2",
         "83843.0",
         null,
         "australia",
         "1",
         "0.87",
         "0"
        ],
        [
         "4",
         "referral",
         "education",
         "3",
         "85012.0",
         "self_employed",
         "europe",
         "3",
         "0.62",
         "1"
        ],
        [
         "5",
         "events",
         "manufacturing",
         "1",
         "59904.0",
         null,
         "africa",
         "6",
         "0.83",
         "1"
        ],
        [
         "6",
         "social_media",
         "technology",
         "0",
         "51283.0",
         null,
         "middle_east",
         "2",
         "0.57",
         "0"
        ],
        [
         "7",
         "social_media",
         null,
         "5",
         "62975.0",
         "student",
         "europe",
         "4",
         "0.62",
         "1"
        ],
        [
         "8",
         "referral",
         "healthcare",
         "4",
         "38648.0",
         "unemployed",
         "south_america",
         "2",
         "0.86",
         "1"
        ],
        [
         "9",
         "paid_ads",
         "other",
         "3",
         "59866.0",
         "student",
         "australia",
         "3",
         "0.43",
         "1"
        ],
        [
         "10",
         "paid_ads",
         "retail",
         "2",
         "79276.0",
         "employed",
         "middle_east",
         "2",
         "0.92",
         "1"
        ],
        [
         "11",
         "organic_search",
         "finance",
         "4",
         "80304.0",
         "self_employed",
         null,
         "3",
         "0.97",
         "1"
        ],
        [
         "12",
         "organic_search",
         null,
         "2",
         "55615.0",
         "self_employed",
         "middle_east",
         "6",
         "0.71",
         "1"
        ],
        [
         "13",
         "social_media",
         "other",
         "3",
         "55438.0",
         null,
         "middle_east",
         "1",
         "0.69",
         "0"
        ],
        [
         "14",
         "paid_ads",
         "healthcare",
         "3",
         null,
         "unemployed",
         "middle_east",
         "4",
         "0.75",
         "1"
        ],
        [
         "15",
         "referral",
         "healthcare",
         "2",
         "56004.0",
         "student",
         "middle_east",
         "0",
         "0.64",
         "0"
        ],
        [
         "16",
         "referral",
         "retail",
         "0",
         "54612.0",
         "self_employed",
         "europe",
         "4",
         "0.86",
         "1"
        ],
        [
         "17",
         "referral",
         "other",
         "2",
         "92470.0",
         "unemployed",
         "europe",
         "4",
         "0.74",
         "1"
        ],
        [
         "18",
         "referral",
         "manufacturing",
         "2",
         "74380.0",
         "self_employed",
         null,
         "5",
         "0.51",
         "1"
        ],
        [
         "19",
         "paid_ads",
         null,
         "2",
         "62809.0",
         "self_employed",
         "europe",
         "5",
         "0.33",
         "1"
        ],
        [
         "20",
         "social_media",
         "technology",
         "4",
         "62067.0",
         "student",
         "north_america",
         "4",
         "0.43",
         "1"
        ],
        [
         "21",
         "social_media",
         "retail",
         "2",
         "56594.0",
         "student",
         "europe",
         "1",
         "0.2",
         "0"
        ],
        [
         "22",
         "referral",
         "other",
         "3",
         "72729.0",
         "student",
         "middle_east",
         "3",
         "0.6",
         "1"
        ],
        [
         "23",
         "events",
         "retail",
         "1",
         "94862.0",
         "unemployed",
         "africa",
         "5",
         "0.49",
         "1"
        ],
        [
         "24",
         "organic_search",
         "education",
         "0",
         "68182.0",
         "employed",
         "south_america",
         "4",
         "0.55",
         "1"
        ],
        [
         "25",
         "organic_search",
         "finance",
         "0",
         "51159.0",
         "employed",
         "europe",
         "1",
         "0.68",
         "0"
        ],
        [
         "26",
         "referral",
         "healthcare",
         "2",
         "46268.0",
         "employed",
         "north_america",
         "3",
         "0.63",
         "1"
        ],
        [
         "27",
         "social_media",
         "other",
         "3",
         "63133.0",
         "unemployed",
         "north_america",
         "3",
         "0.82",
         "1"
        ],
        [
         "28",
         "referral",
         "other",
         "2",
         "57767.0",
         "student",
         "europe",
         "3",
         "0.2",
         "1"
        ],
        [
         "29",
         "referral",
         "finance",
         "1",
         "73420.0",
         "unemployed",
         null,
         "3",
         "0.48",
         "1"
        ],
        [
         "30",
         "paid_ads",
         "finance",
         "4",
         "60617.0",
         "self_employed",
         "north_america",
         "0",
         "0.54",
         "1"
        ],
        [
         "31",
         "events",
         "other",
         "1",
         "66476.0",
         "self_employed",
         "africa",
         "0",
         "0.46",
         "0"
        ],
        [
         "32",
         "referral",
         null,
         "5",
         "43704.0",
         "employed",
         "australia",
         "4",
         "0.26",
         "1"
        ],
        [
         "33",
         "events",
         "healthcare",
         "3",
         "54547.0",
         "employed",
         "africa",
         "3",
         "0.9",
         "1"
        ],
        [
         "34",
         "events",
         "other",
         "3",
         "59157.0",
         "student",
         "south_america",
         "2",
         "0.79",
         "0"
        ],
        [
         "35",
         "organic_search",
         null,
         "4",
         "63220.0",
         "unemployed",
         "north_america",
         "4",
         "0.21",
         "1"
        ],
        [
         "36",
         "organic_search",
         "healthcare",
         "1",
         "54186.0",
         null,
         "north_america",
         "2",
         "0.87",
         "0"
        ],
        [
         "37",
         null,
         "other",
         "1",
         "51207.0",
         "student",
         "middle_east",
         "0",
         "0.52",
         "0"
        ],
        [
         "38",
         "social_media",
         "healthcare",
         "5",
         "85005.0",
         null,
         "asia",
         "0",
         "0.49",
         "1"
        ],
        [
         "39",
         null,
         "other",
         "5",
         "67314.0",
         null,
         "europe",
         "2",
         "0.87",
         "1"
        ],
        [
         "40",
         "social_media",
         "healthcare",
         "1",
         "78509.0",
         "student",
         "north_america",
         "5",
         "0.75",
         "1"
        ],
        [
         "41",
         null,
         "manufacturing",
         "6",
         "59886.0",
         "employed",
         "asia",
         "5",
         "0.82",
         "1"
        ],
        [
         "42",
         "paid_ads",
         "retail",
         "2",
         "65854.0",
         "employed",
         "africa",
         "3",
         "0.81",
         "1"
        ],
        [
         "43",
         "social_media",
         "healthcare",
         "1",
         "61602.0",
         "student",
         "middle_east",
         "5",
         "0.06",
         "0"
        ],
        [
         "44",
         "social_media",
         "technology",
         "3",
         "63854.0",
         "employed",
         "africa",
         "1",
         "0.1",
         "0"
        ],
        [
         "45",
         "social_media",
         "education",
         "2",
         "47767.0",
         "unemployed",
         "europe",
         "1",
         "0.02",
         "0"
        ],
        [
         "46",
         "social_media",
         "education",
         "2",
         "60886.0",
         "student",
         "asia",
         "1",
         "0.15",
         "0"
        ],
        [
         "47",
         null,
         "other",
         "2",
         "57246.0",
         "self_employed",
         "asia",
         "1",
         "0.27",
         "1"
        ],
        [
         "48",
         "events",
         null,
         "4",
         "40529.0",
         "student",
         "north_america",
         "5",
         "0.21",
         "1"
        ],
        [
         "49",
         "events",
         null,
         "3",
         "53077.0",
         "unemployed",
         "north_america",
         "4",
         "0.08",
         "1"
        ]
       ],
       "shape": {
        "columns": 9,
        "rows": 1462
       }
      },
      "text/html": [
       "<div>\n",
       "<style scoped>\n",
       "    .dataframe tbody tr th:only-of-type {\n",
       "        vertical-align: middle;\n",
       "    }\n",
       "\n",
       "    .dataframe tbody tr th {\n",
       "        vertical-align: top;\n",
       "    }\n",
       "\n",
       "    .dataframe thead th {\n",
       "        text-align: right;\n",
       "    }\n",
       "</style>\n",
       "<table border=\"1\" class=\"dataframe\">\n",
       "  <thead>\n",
       "    <tr style=\"text-align: right;\">\n",
       "      <th></th>\n",
       "      <th>lead_source</th>\n",
       "      <th>industry</th>\n",
       "      <th>number_of_courses_viewed</th>\n",
       "      <th>annual_income</th>\n",
       "      <th>employment_status</th>\n",
       "      <th>location</th>\n",
       "      <th>interaction_count</th>\n",
       "      <th>lead_score</th>\n",
       "      <th>converted</th>\n",
       "    </tr>\n",
       "  </thead>\n",
       "  <tbody>\n",
       "    <tr>\n",
       "      <th>0</th>\n",
       "      <td>paid_ads</td>\n",
       "      <td>NaN</td>\n",
       "      <td>1</td>\n",
       "      <td>79450.0</td>\n",
       "      <td>unemployed</td>\n",
       "      <td>south_america</td>\n",
       "      <td>4</td>\n",
       "      <td>0.94</td>\n",
       "      <td>1</td>\n",
       "    </tr>\n",
       "    <tr>\n",
       "      <th>1</th>\n",
       "      <td>social_media</td>\n",
       "      <td>retail</td>\n",
       "      <td>1</td>\n",
       "      <td>46992.0</td>\n",
       "      <td>employed</td>\n",
       "      <td>south_america</td>\n",
       "      <td>1</td>\n",
       "      <td>0.80</td>\n",
       "      <td>0</td>\n",
       "    </tr>\n",
       "    <tr>\n",
       "      <th>2</th>\n",
       "      <td>events</td>\n",
       "      <td>healthcare</td>\n",
       "      <td>5</td>\n",
       "      <td>78796.0</td>\n",
       "      <td>unemployed</td>\n",
       "      <td>australia</td>\n",
       "      <td>3</td>\n",
       "      <td>0.69</td>\n",
       "      <td>1</td>\n",
       "    </tr>\n",
       "    <tr>\n",
       "      <th>3</th>\n",
       "      <td>paid_ads</td>\n",
       "      <td>retail</td>\n",
       "      <td>2</td>\n",
       "      <td>83843.0</td>\n",
       "      <td>NaN</td>\n",
       "      <td>australia</td>\n",
       "      <td>1</td>\n",
       "      <td>0.87</td>\n",
       "      <td>0</td>\n",
       "    </tr>\n",
       "    <tr>\n",
       "      <th>4</th>\n",
       "      <td>referral</td>\n",
       "      <td>education</td>\n",
       "      <td>3</td>\n",
       "      <td>85012.0</td>\n",
       "      <td>self_employed</td>\n",
       "      <td>europe</td>\n",
       "      <td>3</td>\n",
       "      <td>0.62</td>\n",
       "      <td>1</td>\n",
       "    </tr>\n",
       "    <tr>\n",
       "      <th>...</th>\n",
       "      <td>...</td>\n",
       "      <td>...</td>\n",
       "      <td>...</td>\n",
       "      <td>...</td>\n",
       "      <td>...</td>\n",
       "      <td>...</td>\n",
       "      <td>...</td>\n",
       "      <td>...</td>\n",
       "      <td>...</td>\n",
       "    </tr>\n",
       "    <tr>\n",
       "      <th>1457</th>\n",
       "      <td>referral</td>\n",
       "      <td>manufacturing</td>\n",
       "      <td>1</td>\n",
       "      <td>NaN</td>\n",
       "      <td>self_employed</td>\n",
       "      <td>north_america</td>\n",
       "      <td>4</td>\n",
       "      <td>0.53</td>\n",
       "      <td>1</td>\n",
       "    </tr>\n",
       "    <tr>\n",
       "      <th>1458</th>\n",
       "      <td>referral</td>\n",
       "      <td>technology</td>\n",
       "      <td>3</td>\n",
       "      <td>65259.0</td>\n",
       "      <td>student</td>\n",
       "      <td>europe</td>\n",
       "      <td>2</td>\n",
       "      <td>0.24</td>\n",
       "      <td>1</td>\n",
       "    </tr>\n",
       "    <tr>\n",
       "      <th>1459</th>\n",
       "      <td>paid_ads</td>\n",
       "      <td>technology</td>\n",
       "      <td>1</td>\n",
       "      <td>45688.0</td>\n",
       "      <td>student</td>\n",
       "      <td>north_america</td>\n",
       "      <td>3</td>\n",
       "      <td>0.02</td>\n",
       "      <td>1</td>\n",
       "    </tr>\n",
       "    <tr>\n",
       "      <th>1460</th>\n",
       "      <td>referral</td>\n",
       "      <td>NaN</td>\n",
       "      <td>5</td>\n",
       "      <td>71016.0</td>\n",
       "      <td>self_employed</td>\n",
       "      <td>north_america</td>\n",
       "      <td>0</td>\n",
       "      <td>0.25</td>\n",
       "      <td>1</td>\n",
       "    </tr>\n",
       "    <tr>\n",
       "      <th>1461</th>\n",
       "      <td>organic_search</td>\n",
       "      <td>finance</td>\n",
       "      <td>3</td>\n",
       "      <td>92855.0</td>\n",
       "      <td>student</td>\n",
       "      <td>north_america</td>\n",
       "      <td>3</td>\n",
       "      <td>0.41</td>\n",
       "      <td>1</td>\n",
       "    </tr>\n",
       "  </tbody>\n",
       "</table>\n",
       "<p>1462 rows × 9 columns</p>\n",
       "</div>"
      ],
      "text/plain": [
       "         lead_source       industry  number_of_courses_viewed  annual_income  \\\n",
       "0           paid_ads            NaN                         1        79450.0   \n",
       "1       social_media         retail                         1        46992.0   \n",
       "2             events     healthcare                         5        78796.0   \n",
       "3           paid_ads         retail                         2        83843.0   \n",
       "4           referral      education                         3        85012.0   \n",
       "...              ...            ...                       ...            ...   \n",
       "1457        referral  manufacturing                         1            NaN   \n",
       "1458        referral     technology                         3        65259.0   \n",
       "1459        paid_ads     technology                         1        45688.0   \n",
       "1460        referral            NaN                         5        71016.0   \n",
       "1461  organic_search        finance                         3        92855.0   \n",
       "\n",
       "     employment_status       location  interaction_count  lead_score  \\\n",
       "0           unemployed  south_america                  4        0.94   \n",
       "1             employed  south_america                  1        0.80   \n",
       "2           unemployed      australia                  3        0.69   \n",
       "3                  NaN      australia                  1        0.87   \n",
       "4        self_employed         europe                  3        0.62   \n",
       "...                ...            ...                ...         ...   \n",
       "1457     self_employed  north_america                  4        0.53   \n",
       "1458           student         europe                  2        0.24   \n",
       "1459           student  north_america                  3        0.02   \n",
       "1460     self_employed  north_america                  0        0.25   \n",
       "1461           student  north_america                  3        0.41   \n",
       "\n",
       "      converted  \n",
       "0             1  \n",
       "1             0  \n",
       "2             1  \n",
       "3             0  \n",
       "4             1  \n",
       "...         ...  \n",
       "1457          1  \n",
       "1458          1  \n",
       "1459          1  \n",
       "1460          1  \n",
       "1461          1  \n",
       "\n",
       "[1462 rows x 9 columns]"
      ]
     },
     "execution_count": 3,
     "metadata": {},
     "output_type": "execute_result"
    }
   ],
   "source": [
    "df"
   ]
  },
  {
   "cell_type": "code",
   "execution_count": 4,
   "id": "0801d75b",
   "metadata": {},
   "outputs": [
    {
     "data": {
      "application/vnd.microsoft.datawrangler.viewer.v0+json": {
       "columns": [
        {
         "name": "index",
         "rawType": "object",
         "type": "string"
        },
        {
         "name": "0",
         "rawType": "int64",
         "type": "integer"
        }
       ],
       "ref": "26a793fb-cff9-4424-9a22-7ac52cf90acc",
       "rows": [
        [
         "lead_source",
         "128"
        ],
        [
         "industry",
         "134"
        ],
        [
         "number_of_courses_viewed",
         "0"
        ],
        [
         "annual_income",
         "181"
        ],
        [
         "employment_status",
         "100"
        ],
        [
         "location",
         "63"
        ],
        [
         "interaction_count",
         "0"
        ],
        [
         "lead_score",
         "0"
        ],
        [
         "converted",
         "0"
        ]
       ],
       "shape": {
        "columns": 1,
        "rows": 9
       }
      },
      "text/plain": [
       "lead_source                 128\n",
       "industry                    134\n",
       "number_of_courses_viewed      0\n",
       "annual_income               181\n",
       "employment_status           100\n",
       "location                     63\n",
       "interaction_count             0\n",
       "lead_score                    0\n",
       "converted                     0\n",
       "dtype: int64"
      ]
     },
     "execution_count": 4,
     "metadata": {},
     "output_type": "execute_result"
    }
   ],
   "source": [
    "df.isnull().sum()"
   ]
  },
  {
   "cell_type": "code",
   "execution_count": 5,
   "id": "612592bc",
   "metadata": {},
   "outputs": [
    {
     "name": "stdout",
     "output_type": "stream",
     "text": [
      "<class 'pandas.core.frame.DataFrame'>\n",
      "RangeIndex: 1462 entries, 0 to 1461\n",
      "Data columns (total 9 columns):\n",
      " #   Column                    Non-Null Count  Dtype  \n",
      "---  ------                    --------------  -----  \n",
      " 0   lead_source               1334 non-null   object \n",
      " 1   industry                  1328 non-null   object \n",
      " 2   number_of_courses_viewed  1462 non-null   int64  \n",
      " 3   annual_income             1281 non-null   float64\n",
      " 4   employment_status         1362 non-null   object \n",
      " 5   location                  1399 non-null   object \n",
      " 6   interaction_count         1462 non-null   int64  \n",
      " 7   lead_score                1462 non-null   float64\n",
      " 8   converted                 1462 non-null   int64  \n",
      "dtypes: float64(2), int64(3), object(4)\n",
      "memory usage: 102.9+ KB\n"
     ]
    }
   ],
   "source": [
    "df.info()"
   ]
  },
  {
   "cell_type": "code",
   "execution_count": 6,
   "id": "e55b3c48",
   "metadata": {},
   "outputs": [
    {
     "data": {
      "text/plain": [
       "{'lead_source': dtype('O'),\n",
       " 'industry': dtype('O'),\n",
       " 'number_of_courses_viewed': dtype('int64'),\n",
       " 'annual_income': dtype('float64'),\n",
       " 'employment_status': dtype('O'),\n",
       " 'location': dtype('O'),\n",
       " 'interaction_count': dtype('int64'),\n",
       " 'lead_score': dtype('float64'),\n",
       " 'converted': dtype('int64')}"
      ]
     },
     "execution_count": 6,
     "metadata": {},
     "output_type": "execute_result"
    }
   ],
   "source": [
    "dict_dtypes = df.dtypes.to_dict()\n",
    "dict_dtypes"
   ]
  },
  {
   "cell_type": "code",
   "execution_count": 7,
   "id": "c2b571fe",
   "metadata": {},
   "outputs": [],
   "source": [
    "categorical = [k for k,v in dict_dtypes.items() if str(v) == 'object']\n",
    "numerical = [k for k, v in dict_dtypes.items() if str(v) in(['int64', 'float64'])]\n",
    "numerical.remove('converted')"
   ]
  },
  {
   "cell_type": "code",
   "execution_count": 8,
   "id": "a31ec667",
   "metadata": {},
   "outputs": [],
   "source": [
    "for c in categorical:\n",
    "    df[c] = df[c].fillna('NA')\n",
    "for c in numerical:\n",
    "    df[c] = df[c].fillna(0.0)"
   ]
  },
  {
   "cell_type": "code",
   "execution_count": 9,
   "id": "1c9d92d3",
   "metadata": {},
   "outputs": [
    {
     "data": {
      "application/vnd.microsoft.datawrangler.viewer.v0+json": {
       "columns": [
        {
         "name": "index",
         "rawType": "object",
         "type": "string"
        },
        {
         "name": "0",
         "rawType": "int64",
         "type": "integer"
        }
       ],
       "ref": "6a4e64c7-ba55-4ee0-abb2-9db9e5faf926",
       "rows": [
        [
         "lead_source",
         "0"
        ],
        [
         "industry",
         "0"
        ],
        [
         "number_of_courses_viewed",
         "0"
        ],
        [
         "annual_income",
         "0"
        ],
        [
         "employment_status",
         "0"
        ],
        [
         "location",
         "0"
        ],
        [
         "interaction_count",
         "0"
        ],
        [
         "lead_score",
         "0"
        ],
        [
         "converted",
         "0"
        ]
       ],
       "shape": {
        "columns": 1,
        "rows": 9
       }
      },
      "text/plain": [
       "lead_source                 0\n",
       "industry                    0\n",
       "number_of_courses_viewed    0\n",
       "annual_income               0\n",
       "employment_status           0\n",
       "location                    0\n",
       "interaction_count           0\n",
       "lead_score                  0\n",
       "converted                   0\n",
       "dtype: int64"
      ]
     },
     "execution_count": 9,
     "metadata": {},
     "output_type": "execute_result"
    }
   ],
   "source": [
    "df.isnull().sum()"
   ]
  },
  {
   "cell_type": "code",
   "execution_count": 10,
   "id": "17ff63dc",
   "metadata": {},
   "outputs": [],
   "source": [
    "from sklearn.model_selection import train_test_split\n",
    "df_full_train, df_test = train_test_split(df, test_size=0.2, random_state=1)\n",
    "df_train, df_val = train_test_split(df_full_train, test_size=0.25, random_state=1)"
   ]
  },
  {
   "cell_type": "code",
   "execution_count": 11,
   "id": "e92c7e79",
   "metadata": {},
   "outputs": [],
   "source": [
    "df_train = df_train.reset_index(drop=True)\n",
    "df_val = df_val.reset_index(drop=True)\n",
    "df_test = df_test.reset_index(drop=True)\n",
    "df_full_train = df_full_train.reset_index(drop=True)\n",
    "\n",
    "y_train = df_train.converted.values\n",
    "y_full_train = df_full_train.converted.values\n",
    "y_val = df_val.converted.values\n",
    "y_test = df_test.converted.values\n",
    "\n",
    "del(df_train['converted'])\n",
    "del(df_val['converted'])\n",
    "del(df_test['converted'])"
   ]
  },
  {
   "cell_type": "markdown",
   "id": "e9580844",
   "metadata": {},
   "source": [
    "# Question 1"
   ]
  },
  {
   "cell_type": "code",
   "execution_count": 12,
   "id": "f15bc452",
   "metadata": {},
   "outputs": [
    {
     "name": "stdout",
     "output_type": "stream",
     "text": [
      "Feature number_of_courses_viewed has ROC AUC: 0.7635680590007088\n",
      "Feature annual_income has ROC AUC: 0.5519578313253012\n",
      "Feature interaction_count has ROC AUC: 0.738270176293409\n",
      "Feature lead_score has ROC AUC: 0.6144993577250176\n"
     ]
    }
   ],
   "source": [
    "from sklearn.metrics import roc_auc_score\n",
    "\n",
    "for c in numerical:\n",
    "    print(f'Feature {c} has ROC AUC: {roc_auc_score(y_train, df_train[c])}')"
   ]
  },
  {
   "cell_type": "markdown",
   "id": "e5ec79b4",
   "metadata": {},
   "source": [
    "# Question 2"
   ]
  },
  {
   "cell_type": "code",
   "execution_count": 13,
   "id": "fdb8cfb5",
   "metadata": {},
   "outputs": [],
   "source": [
    "from sklearn.feature_extraction import DictVectorizer\n",
    "from sklearn.linear_model import LogisticRegression\n",
    "from sklearn.metrics import auc"
   ]
  },
  {
   "cell_type": "code",
   "execution_count": 14,
   "id": "711273b5",
   "metadata": {},
   "outputs": [],
   "source": [
    "train_dicts = df_train[categorical+numerical].to_dict(orient = 'records')\n",
    "dv = DictVectorizer(sparse=False)\n",
    "X_train = dv.fit_transform(train_dicts)"
   ]
  },
  {
   "cell_type": "code",
   "execution_count": 15,
   "id": "4a8c8c96",
   "metadata": {},
   "outputs": [],
   "source": [
    "val_dicts = df_val[categorical+numerical].to_dict(orient='records')\n",
    "X_val = dv.transform(val_dicts)"
   ]
  },
  {
   "cell_type": "code",
   "execution_count": 16,
   "id": "b4cd0813",
   "metadata": {},
   "outputs": [],
   "source": [
    "model = LogisticRegression(solver='liblinear', C=1.0, max_iter=1000)"
   ]
  },
  {
   "cell_type": "code",
   "execution_count": 17,
   "id": "3cfcd252",
   "metadata": {},
   "outputs": [
    {
     "data": {
      "text/html": [
       "<style>#sk-container-id-1 {\n",
       "  /* Definition of color scheme common for light and dark mode */\n",
       "  --sklearn-color-text: black;\n",
       "  --sklearn-color-line: gray;\n",
       "  /* Definition of color scheme for unfitted estimators */\n",
       "  --sklearn-color-unfitted-level-0: #fff5e6;\n",
       "  --sklearn-color-unfitted-level-1: #f6e4d2;\n",
       "  --sklearn-color-unfitted-level-2: #ffe0b3;\n",
       "  --sklearn-color-unfitted-level-3: chocolate;\n",
       "  /* Definition of color scheme for fitted estimators */\n",
       "  --sklearn-color-fitted-level-0: #f0f8ff;\n",
       "  --sklearn-color-fitted-level-1: #d4ebff;\n",
       "  --sklearn-color-fitted-level-2: #b3dbfd;\n",
       "  --sklearn-color-fitted-level-3: cornflowerblue;\n",
       "\n",
       "  /* Specific color for light theme */\n",
       "  --sklearn-color-text-on-default-background: var(--sg-text-color, var(--theme-code-foreground, var(--jp-content-font-color1, black)));\n",
       "  --sklearn-color-background: var(--sg-background-color, var(--theme-background, var(--jp-layout-color0, white)));\n",
       "  --sklearn-color-border-box: var(--sg-text-color, var(--theme-code-foreground, var(--jp-content-font-color1, black)));\n",
       "  --sklearn-color-icon: #696969;\n",
       "\n",
       "  @media (prefers-color-scheme: dark) {\n",
       "    /* Redefinition of color scheme for dark theme */\n",
       "    --sklearn-color-text-on-default-background: var(--sg-text-color, var(--theme-code-foreground, var(--jp-content-font-color1, white)));\n",
       "    --sklearn-color-background: var(--sg-background-color, var(--theme-background, var(--jp-layout-color0, #111)));\n",
       "    --sklearn-color-border-box: var(--sg-text-color, var(--theme-code-foreground, var(--jp-content-font-color1, white)));\n",
       "    --sklearn-color-icon: #878787;\n",
       "  }\n",
       "}\n",
       "\n",
       "#sk-container-id-1 {\n",
       "  color: var(--sklearn-color-text);\n",
       "}\n",
       "\n",
       "#sk-container-id-1 pre {\n",
       "  padding: 0;\n",
       "}\n",
       "\n",
       "#sk-container-id-1 input.sk-hidden--visually {\n",
       "  border: 0;\n",
       "  clip: rect(1px 1px 1px 1px);\n",
       "  clip: rect(1px, 1px, 1px, 1px);\n",
       "  height: 1px;\n",
       "  margin: -1px;\n",
       "  overflow: hidden;\n",
       "  padding: 0;\n",
       "  position: absolute;\n",
       "  width: 1px;\n",
       "}\n",
       "\n",
       "#sk-container-id-1 div.sk-dashed-wrapped {\n",
       "  border: 1px dashed var(--sklearn-color-line);\n",
       "  margin: 0 0.4em 0.5em 0.4em;\n",
       "  box-sizing: border-box;\n",
       "  padding-bottom: 0.4em;\n",
       "  background-color: var(--sklearn-color-background);\n",
       "}\n",
       "\n",
       "#sk-container-id-1 div.sk-container {\n",
       "  /* jupyter's `normalize.less` sets `[hidden] { display: none; }`\n",
       "     but bootstrap.min.css set `[hidden] { display: none !important; }`\n",
       "     so we also need the `!important` here to be able to override the\n",
       "     default hidden behavior on the sphinx rendered scikit-learn.org.\n",
       "     See: https://github.com/scikit-learn/scikit-learn/issues/21755 */\n",
       "  display: inline-block !important;\n",
       "  position: relative;\n",
       "}\n",
       "\n",
       "#sk-container-id-1 div.sk-text-repr-fallback {\n",
       "  display: none;\n",
       "}\n",
       "\n",
       "div.sk-parallel-item,\n",
       "div.sk-serial,\n",
       "div.sk-item {\n",
       "  /* draw centered vertical line to link estimators */\n",
       "  background-image: linear-gradient(var(--sklearn-color-text-on-default-background), var(--sklearn-color-text-on-default-background));\n",
       "  background-size: 2px 100%;\n",
       "  background-repeat: no-repeat;\n",
       "  background-position: center center;\n",
       "}\n",
       "\n",
       "/* Parallel-specific style estimator block */\n",
       "\n",
       "#sk-container-id-1 div.sk-parallel-item::after {\n",
       "  content: \"\";\n",
       "  width: 100%;\n",
       "  border-bottom: 2px solid var(--sklearn-color-text-on-default-background);\n",
       "  flex-grow: 1;\n",
       "}\n",
       "\n",
       "#sk-container-id-1 div.sk-parallel {\n",
       "  display: flex;\n",
       "  align-items: stretch;\n",
       "  justify-content: center;\n",
       "  background-color: var(--sklearn-color-background);\n",
       "  position: relative;\n",
       "}\n",
       "\n",
       "#sk-container-id-1 div.sk-parallel-item {\n",
       "  display: flex;\n",
       "  flex-direction: column;\n",
       "}\n",
       "\n",
       "#sk-container-id-1 div.sk-parallel-item:first-child::after {\n",
       "  align-self: flex-end;\n",
       "  width: 50%;\n",
       "}\n",
       "\n",
       "#sk-container-id-1 div.sk-parallel-item:last-child::after {\n",
       "  align-self: flex-start;\n",
       "  width: 50%;\n",
       "}\n",
       "\n",
       "#sk-container-id-1 div.sk-parallel-item:only-child::after {\n",
       "  width: 0;\n",
       "}\n",
       "\n",
       "/* Serial-specific style estimator block */\n",
       "\n",
       "#sk-container-id-1 div.sk-serial {\n",
       "  display: flex;\n",
       "  flex-direction: column;\n",
       "  align-items: center;\n",
       "  background-color: var(--sklearn-color-background);\n",
       "  padding-right: 1em;\n",
       "  padding-left: 1em;\n",
       "}\n",
       "\n",
       "\n",
       "/* Toggleable style: style used for estimator/Pipeline/ColumnTransformer box that is\n",
       "clickable and can be expanded/collapsed.\n",
       "- Pipeline and ColumnTransformer use this feature and define the default style\n",
       "- Estimators will overwrite some part of the style using the `sk-estimator` class\n",
       "*/\n",
       "\n",
       "/* Pipeline and ColumnTransformer style (default) */\n",
       "\n",
       "#sk-container-id-1 div.sk-toggleable {\n",
       "  /* Default theme specific background. It is overwritten whether we have a\n",
       "  specific estimator or a Pipeline/ColumnTransformer */\n",
       "  background-color: var(--sklearn-color-background);\n",
       "}\n",
       "\n",
       "/* Toggleable label */\n",
       "#sk-container-id-1 label.sk-toggleable__label {\n",
       "  cursor: pointer;\n",
       "  display: block;\n",
       "  width: 100%;\n",
       "  margin-bottom: 0;\n",
       "  padding: 0.5em;\n",
       "  box-sizing: border-box;\n",
       "  text-align: center;\n",
       "}\n",
       "\n",
       "#sk-container-id-1 label.sk-toggleable__label-arrow:before {\n",
       "  /* Arrow on the left of the label */\n",
       "  content: \"▸\";\n",
       "  float: left;\n",
       "  margin-right: 0.25em;\n",
       "  color: var(--sklearn-color-icon);\n",
       "}\n",
       "\n",
       "#sk-container-id-1 label.sk-toggleable__label-arrow:hover:before {\n",
       "  color: var(--sklearn-color-text);\n",
       "}\n",
       "\n",
       "/* Toggleable content - dropdown */\n",
       "\n",
       "#sk-container-id-1 div.sk-toggleable__content {\n",
       "  max-height: 0;\n",
       "  max-width: 0;\n",
       "  overflow: hidden;\n",
       "  text-align: left;\n",
       "  /* unfitted */\n",
       "  background-color: var(--sklearn-color-unfitted-level-0);\n",
       "}\n",
       "\n",
       "#sk-container-id-1 div.sk-toggleable__content.fitted {\n",
       "  /* fitted */\n",
       "  background-color: var(--sklearn-color-fitted-level-0);\n",
       "}\n",
       "\n",
       "#sk-container-id-1 div.sk-toggleable__content pre {\n",
       "  margin: 0.2em;\n",
       "  border-radius: 0.25em;\n",
       "  color: var(--sklearn-color-text);\n",
       "  /* unfitted */\n",
       "  background-color: var(--sklearn-color-unfitted-level-0);\n",
       "}\n",
       "\n",
       "#sk-container-id-1 div.sk-toggleable__content.fitted pre {\n",
       "  /* unfitted */\n",
       "  background-color: var(--sklearn-color-fitted-level-0);\n",
       "}\n",
       "\n",
       "#sk-container-id-1 input.sk-toggleable__control:checked~div.sk-toggleable__content {\n",
       "  /* Expand drop-down */\n",
       "  max-height: 200px;\n",
       "  max-width: 100%;\n",
       "  overflow: auto;\n",
       "}\n",
       "\n",
       "#sk-container-id-1 input.sk-toggleable__control:checked~label.sk-toggleable__label-arrow:before {\n",
       "  content: \"▾\";\n",
       "}\n",
       "\n",
       "/* Pipeline/ColumnTransformer-specific style */\n",
       "\n",
       "#sk-container-id-1 div.sk-label input.sk-toggleable__control:checked~label.sk-toggleable__label {\n",
       "  color: var(--sklearn-color-text);\n",
       "  background-color: var(--sklearn-color-unfitted-level-2);\n",
       "}\n",
       "\n",
       "#sk-container-id-1 div.sk-label.fitted input.sk-toggleable__control:checked~label.sk-toggleable__label {\n",
       "  background-color: var(--sklearn-color-fitted-level-2);\n",
       "}\n",
       "\n",
       "/* Estimator-specific style */\n",
       "\n",
       "/* Colorize estimator box */\n",
       "#sk-container-id-1 div.sk-estimator input.sk-toggleable__control:checked~label.sk-toggleable__label {\n",
       "  /* unfitted */\n",
       "  background-color: var(--sklearn-color-unfitted-level-2);\n",
       "}\n",
       "\n",
       "#sk-container-id-1 div.sk-estimator.fitted input.sk-toggleable__control:checked~label.sk-toggleable__label {\n",
       "  /* fitted */\n",
       "  background-color: var(--sklearn-color-fitted-level-2);\n",
       "}\n",
       "\n",
       "#sk-container-id-1 div.sk-label label.sk-toggleable__label,\n",
       "#sk-container-id-1 div.sk-label label {\n",
       "  /* The background is the default theme color */\n",
       "  color: var(--sklearn-color-text-on-default-background);\n",
       "}\n",
       "\n",
       "/* On hover, darken the color of the background */\n",
       "#sk-container-id-1 div.sk-label:hover label.sk-toggleable__label {\n",
       "  color: var(--sklearn-color-text);\n",
       "  background-color: var(--sklearn-color-unfitted-level-2);\n",
       "}\n",
       "\n",
       "/* Label box, darken color on hover, fitted */\n",
       "#sk-container-id-1 div.sk-label.fitted:hover label.sk-toggleable__label.fitted {\n",
       "  color: var(--sklearn-color-text);\n",
       "  background-color: var(--sklearn-color-fitted-level-2);\n",
       "}\n",
       "\n",
       "/* Estimator label */\n",
       "\n",
       "#sk-container-id-1 div.sk-label label {\n",
       "  font-family: monospace;\n",
       "  font-weight: bold;\n",
       "  display: inline-block;\n",
       "  line-height: 1.2em;\n",
       "}\n",
       "\n",
       "#sk-container-id-1 div.sk-label-container {\n",
       "  text-align: center;\n",
       "}\n",
       "\n",
       "/* Estimator-specific */\n",
       "#sk-container-id-1 div.sk-estimator {\n",
       "  font-family: monospace;\n",
       "  border: 1px dotted var(--sklearn-color-border-box);\n",
       "  border-radius: 0.25em;\n",
       "  box-sizing: border-box;\n",
       "  margin-bottom: 0.5em;\n",
       "  /* unfitted */\n",
       "  background-color: var(--sklearn-color-unfitted-level-0);\n",
       "}\n",
       "\n",
       "#sk-container-id-1 div.sk-estimator.fitted {\n",
       "  /* fitted */\n",
       "  background-color: var(--sklearn-color-fitted-level-0);\n",
       "}\n",
       "\n",
       "/* on hover */\n",
       "#sk-container-id-1 div.sk-estimator:hover {\n",
       "  /* unfitted */\n",
       "  background-color: var(--sklearn-color-unfitted-level-2);\n",
       "}\n",
       "\n",
       "#sk-container-id-1 div.sk-estimator.fitted:hover {\n",
       "  /* fitted */\n",
       "  background-color: var(--sklearn-color-fitted-level-2);\n",
       "}\n",
       "\n",
       "/* Specification for estimator info (e.g. \"i\" and \"?\") */\n",
       "\n",
       "/* Common style for \"i\" and \"?\" */\n",
       "\n",
       ".sk-estimator-doc-link,\n",
       "a:link.sk-estimator-doc-link,\n",
       "a:visited.sk-estimator-doc-link {\n",
       "  float: right;\n",
       "  font-size: smaller;\n",
       "  line-height: 1em;\n",
       "  font-family: monospace;\n",
       "  background-color: var(--sklearn-color-background);\n",
       "  border-radius: 1em;\n",
       "  height: 1em;\n",
       "  width: 1em;\n",
       "  text-decoration: none !important;\n",
       "  margin-left: 1ex;\n",
       "  /* unfitted */\n",
       "  border: var(--sklearn-color-unfitted-level-1) 1pt solid;\n",
       "  color: var(--sklearn-color-unfitted-level-1);\n",
       "}\n",
       "\n",
       ".sk-estimator-doc-link.fitted,\n",
       "a:link.sk-estimator-doc-link.fitted,\n",
       "a:visited.sk-estimator-doc-link.fitted {\n",
       "  /* fitted */\n",
       "  border: var(--sklearn-color-fitted-level-1) 1pt solid;\n",
       "  color: var(--sklearn-color-fitted-level-1);\n",
       "}\n",
       "\n",
       "/* On hover */\n",
       "div.sk-estimator:hover .sk-estimator-doc-link:hover,\n",
       ".sk-estimator-doc-link:hover,\n",
       "div.sk-label-container:hover .sk-estimator-doc-link:hover,\n",
       ".sk-estimator-doc-link:hover {\n",
       "  /* unfitted */\n",
       "  background-color: var(--sklearn-color-unfitted-level-3);\n",
       "  color: var(--sklearn-color-background);\n",
       "  text-decoration: none;\n",
       "}\n",
       "\n",
       "div.sk-estimator.fitted:hover .sk-estimator-doc-link.fitted:hover,\n",
       ".sk-estimator-doc-link.fitted:hover,\n",
       "div.sk-label-container:hover .sk-estimator-doc-link.fitted:hover,\n",
       ".sk-estimator-doc-link.fitted:hover {\n",
       "  /* fitted */\n",
       "  background-color: var(--sklearn-color-fitted-level-3);\n",
       "  color: var(--sklearn-color-background);\n",
       "  text-decoration: none;\n",
       "}\n",
       "\n",
       "/* Span, style for the box shown on hovering the info icon */\n",
       ".sk-estimator-doc-link span {\n",
       "  display: none;\n",
       "  z-index: 9999;\n",
       "  position: relative;\n",
       "  font-weight: normal;\n",
       "  right: .2ex;\n",
       "  padding: .5ex;\n",
       "  margin: .5ex;\n",
       "  width: min-content;\n",
       "  min-width: 20ex;\n",
       "  max-width: 50ex;\n",
       "  color: var(--sklearn-color-text);\n",
       "  box-shadow: 2pt 2pt 4pt #999;\n",
       "  /* unfitted */\n",
       "  background: var(--sklearn-color-unfitted-level-0);\n",
       "  border: .5pt solid var(--sklearn-color-unfitted-level-3);\n",
       "}\n",
       "\n",
       ".sk-estimator-doc-link.fitted span {\n",
       "  /* fitted */\n",
       "  background: var(--sklearn-color-fitted-level-0);\n",
       "  border: var(--sklearn-color-fitted-level-3);\n",
       "}\n",
       "\n",
       ".sk-estimator-doc-link:hover span {\n",
       "  display: block;\n",
       "}\n",
       "\n",
       "/* \"?\"-specific style due to the `<a>` HTML tag */\n",
       "\n",
       "#sk-container-id-1 a.estimator_doc_link {\n",
       "  float: right;\n",
       "  font-size: 1rem;\n",
       "  line-height: 1em;\n",
       "  font-family: monospace;\n",
       "  background-color: var(--sklearn-color-background);\n",
       "  border-radius: 1rem;\n",
       "  height: 1rem;\n",
       "  width: 1rem;\n",
       "  text-decoration: none;\n",
       "  /* unfitted */\n",
       "  color: var(--sklearn-color-unfitted-level-1);\n",
       "  border: var(--sklearn-color-unfitted-level-1) 1pt solid;\n",
       "}\n",
       "\n",
       "#sk-container-id-1 a.estimator_doc_link.fitted {\n",
       "  /* fitted */\n",
       "  border: var(--sklearn-color-fitted-level-1) 1pt solid;\n",
       "  color: var(--sklearn-color-fitted-level-1);\n",
       "}\n",
       "\n",
       "/* On hover */\n",
       "#sk-container-id-1 a.estimator_doc_link:hover {\n",
       "  /* unfitted */\n",
       "  background-color: var(--sklearn-color-unfitted-level-3);\n",
       "  color: var(--sklearn-color-background);\n",
       "  text-decoration: none;\n",
       "}\n",
       "\n",
       "#sk-container-id-1 a.estimator_doc_link.fitted:hover {\n",
       "  /* fitted */\n",
       "  background-color: var(--sklearn-color-fitted-level-3);\n",
       "}\n",
       "</style><div id=\"sk-container-id-1\" class=\"sk-top-container\"><div class=\"sk-text-repr-fallback\"><pre>LogisticRegression(max_iter=1000, solver=&#x27;liblinear&#x27;)</pre><b>In a Jupyter environment, please rerun this cell to show the HTML representation or trust the notebook. <br />On GitHub, the HTML representation is unable to render, please try loading this page with nbviewer.org.</b></div><div class=\"sk-container\" hidden><div class=\"sk-item\"><div class=\"sk-estimator fitted sk-toggleable\"><input class=\"sk-toggleable__control sk-hidden--visually\" id=\"sk-estimator-id-1\" type=\"checkbox\" checked><label for=\"sk-estimator-id-1\" class=\"sk-toggleable__label fitted sk-toggleable__label-arrow fitted\">&nbsp;&nbsp;LogisticRegression<a class=\"sk-estimator-doc-link fitted\" rel=\"noreferrer\" target=\"_blank\" href=\"https://scikit-learn.org/1.5/modules/generated/sklearn.linear_model.LogisticRegression.html\">?<span>Documentation for LogisticRegression</span></a><span class=\"sk-estimator-doc-link fitted\">i<span>Fitted</span></span></label><div class=\"sk-toggleable__content fitted\"><pre>LogisticRegression(max_iter=1000, solver=&#x27;liblinear&#x27;)</pre></div> </div></div></div></div>"
      ],
      "text/plain": [
       "LogisticRegression(max_iter=1000, solver='liblinear')"
      ]
     },
     "execution_count": 17,
     "metadata": {},
     "output_type": "execute_result"
    }
   ],
   "source": [
    "model.fit(X_train, y_train)"
   ]
  },
  {
   "cell_type": "code",
   "execution_count": 18,
   "id": "9d8945e3",
   "metadata": {},
   "outputs": [],
   "source": [
    "y_pred = model.predict_proba(X_val)[:, 1]\n"
   ]
  },
  {
   "cell_type": "markdown",
   "id": "58634d5f",
   "metadata": {},
   "source": [
    "## Answer 2\n",
    "My result is different from all the possible answers"
   ]
  },
  {
   "cell_type": "code",
   "execution_count": 19,
   "id": "d1326e58",
   "metadata": {},
   "outputs": [
    {
     "data": {
      "text/plain": [
       "0.8171316268814112"
      ]
     },
     "execution_count": 19,
     "metadata": {},
     "output_type": "execute_result"
    }
   ],
   "source": [
    "roc_auc_score(y_val, y_pred)"
   ]
  },
  {
   "cell_type": "markdown",
   "id": "f0b67618",
   "metadata": {},
   "source": [
    "# Question 3"
   ]
  },
  {
   "cell_type": "code",
   "execution_count": 20,
   "id": "6ab29b97",
   "metadata": {},
   "outputs": [],
   "source": [
    "scores = []\n",
    "thresholds = np.linspace(0, 1, 101)\n",
    "\n",
    "for t in thresholds:\n",
    "    actual_positive = (y_val == 1)\n",
    "    actual_negative = (y_val == 0)\n",
    "    \n",
    "    predict_positive = (y_pred >= t)\n",
    "    predict_negative = (y_pred < t)\n",
    "    \n",
    "    tp = (predict_positive & actual_positive).sum()\n",
    "    tn = (predict_negative & actual_negative).sum()\n",
    "    \n",
    "    fp = (predict_positive & actual_negative).sum()\n",
    "    fn = (predict_negative & actual_positive).sum()\n",
    "    \n",
    "    scores.append((t, tp, fp, fn, tn))"
   ]
  },
  {
   "cell_type": "code",
   "execution_count": 21,
   "id": "c7d9e5d4",
   "metadata": {},
   "outputs": [],
   "source": [
    "columns = ['thresholds' ,'tp', 'fp', 'fn', 'tn']\n",
    "df_score = pd.DataFrame(scores, columns=columns)"
   ]
  },
  {
   "cell_type": "code",
   "execution_count": 22,
   "id": "ef1e2340",
   "metadata": {},
   "outputs": [],
   "source": [
    "df_score['precision'] = df_score.tp/(df_score.tp + df_score.fp)\n",
    "df_score['recall'] = df_score.tp/(df_score.tp + df_score.fn)"
   ]
  },
  {
   "cell_type": "markdown",
   "id": "a8e22ae2",
   "metadata": {},
   "source": [
    "## Answer 3 \n",
    "My result is different from all the possible answers"
   ]
  },
  {
   "cell_type": "code",
   "execution_count": 23,
   "id": "e5714b2b",
   "metadata": {},
   "outputs": [
    {
     "data": {
      "image/png": "[encoded data removed]",
      "text/plain": [
       "<Figure size 640x480 with 1 Axes>"
      ]
     },
     "metadata": {},
     "output_type": "display_data"
    }
   ],
   "source": [
    "plt.plot(df_score.thresholds, df_score['precision'], label = 'precision')\n",
    "plt.plot(df_score.thresholds, df_score['recall'], label = 'recall')\n",
    "plt.legend()\n",
    "plt.grid()"
   ]
  },
  {
   "cell_type": "markdown",
   "id": "670cf0d2",
   "metadata": {},
   "source": [
    "# Question 4 "
   ]
  },
  {
   "cell_type": "code",
   "execution_count": 24,
   "id": "b8981548",
   "metadata": {},
   "outputs": [],
   "source": [
    "df_score['f1'] = 2*(df_score['precision']*df_score['recall'])/(df_score['precision']+df_score['recall'])"
   ]
  },
  {
   "cell_type": "code",
   "execution_count": 25,
   "id": "667079a2",
   "metadata": {},
   "outputs": [
    {
     "data": {
      "application/vnd.microsoft.datawrangler.viewer.v0+json": {
       "columns": [
        {
         "name": "index",
         "rawType": "int64",
         "type": "integer"
        },
        {
         "name": "f1",
         "rawType": "float64",
         "type": "float"
        }
       ],
       "ref": "1e7bb002-966b-47b1-9e8b-3ceca6bbefa6",
       "rows": [
        [
         "50",
         "0.7884615384615384"
        ],
        [
         "51",
         "0.7912621359223302"
        ],
        [
         "52",
         "0.7950617283950618"
        ],
        [
         "53",
         "0.802992518703242"
        ],
        [
         "54",
         "0.8060453400503779"
        ],
        [
         "55",
         "0.8112244897959184"
        ],
        [
         "56",
         "0.8092783505154639"
        ],
        [
         "57",
         "0.8124999999999999"
        ],
        [
         "58",
         "0.8083989501312335"
        ],
        [
         "59",
         "0.8085106382978723"
        ]
       ],
       "shape": {
        "columns": 1,
        "rows": 10
       }
      },
      "text/plain": [
       "50    0.788462\n",
       "51    0.791262\n",
       "52    0.795062\n",
       "53    0.802993\n",
       "54    0.806045\n",
       "55    0.811224\n",
       "56    0.809278\n",
       "57    0.812500\n",
       "58    0.808399\n",
       "59    0.808511\n",
       "Name: f1, dtype: float64"
      ]
     },
     "execution_count": 25,
     "metadata": {},
     "output_type": "execute_result"
    }
   ],
   "source": [
    "df_score['f1'][50:60]"
   ]
  },
  {
   "cell_type": "code",
   "execution_count": 26,
   "id": "867ea482",
   "metadata": {},
   "outputs": [
    {
     "data": {
      "image/png": "[encoded data removed]",
      "text/plain": [
       "<Figure size 640x480 with 1 Axes>"
      ]
     },
     "metadata": {},
     "output_type": "display_data"
    }
   ],
   "source": [
    "plt.plot(df_score.thresholds, df_score['precision'], label = 'precision')\n",
    "plt.plot(df_score.thresholds, df_score['recall'], label = 'recall')\n",
    "plt.plot(df_score.thresholds, df_score['f1'], label = 'f1')\n",
    "plt.legend()\n",
    "plt.grid()"
   ]
  },
  {
   "cell_type": "markdown",
   "id": "32d8c9e6",
   "metadata": {},
   "source": [
    "# Question 5"
   ]
  },
  {
   "cell_type": "code",
   "execution_count": 27,
   "id": "8769b930",
   "metadata": {},
   "outputs": [],
   "source": [
    "from sklearn.model_selection import KFold"
   ]
  },
  {
   "cell_type": "code",
   "execution_count": 31,
   "id": "67304dae",
   "metadata": {},
   "outputs": [],
   "source": [
    "kfold = KFold(n_splits=5, shuffle=True, random_state=1)"
   ]
  },
  {
   "cell_type": "code",
   "execution_count": 32,
   "id": "65591e67",
   "metadata": {},
   "outputs": [],
   "source": [
    "def train(df, y):\n",
    "    dicts = df[categorical + numerical].to_dict(orient = 'records')\n",
    "    \n",
    "    dv = DictVectorizer(sparse=False)\n",
    "    X_train = dv.fit_transform(dicts)\n",
    "    \n",
    "    model = LogisticRegression(solver='liblinear', C=1.0, max_iter=1000)\n",
    "    model.fit(X_train, y_train)\n",
    "    \n",
    "    return dv, model"
   ]
  },
  {
   "cell_type": "code",
   "execution_count": 33,
   "id": "3a912514",
   "metadata": {},
   "outputs": [],
   "source": [
    "def predict(df, dv, model):\n",
    "    dicts = df[categorical+numerical].to_dict(orient='records')\n",
    "    \n",
    "    X = dv.transform(dicts)\n",
    "    y_pred =  model.predict_proba(X)[:, 1]\n",
    "    \n",
    "    return y_pred"
   ]
  },
  {
   "cell_type": "code",
   "execution_count": 34,
   "id": "df2251ff",
   "metadata": {},
   "outputs": [],
   "source": [
    "scores = []\n",
    "\n",
    "for train_idx, val_idx in kfold.split(df_full_train):\n",
    "    df_train = df_full_train.iloc[train_idx]\n",
    "    df_val = df_full_train.iloc[val_idx]\n",
    "    \n",
    "    y_train = df_train.converted.values\n",
    "    y_val = df_val.converted.values\n",
    "    \n",
    "    dv, model = train(df_train, y_train)\n",
    "    y_pred = predict(df_val, dv, model)\n",
    "    \n",
    "    auc = roc_auc_score(y_val, y_pred)\n",
    "    \n",
    "    scores.append(auc)"
   ]
  },
  {
   "cell_type": "markdown",
   "id": "45e8e946",
   "metadata": {},
   "source": [
    "## Answer 5"
   ]
  },
  {
   "cell_type": "code",
   "execution_count": 36,
   "id": "e8c486a2",
   "metadata": {},
   "outputs": [
    {
     "data": {
      "text/plain": [
       "(0.8221089148573075, 0.001282149801806368)"
      ]
     },
     "execution_count": 36,
     "metadata": {},
     "output_type": "execute_result"
    }
   ],
   "source": [
    "np.mean(scores), np.var(scores)"
   ]
  },
  {
   "cell_type": "markdown",
   "id": "d3623b3e",
   "metadata": {},
   "source": [
    "# Question 6"
   ]
  },
  {
   "cell_type": "code",
   "execution_count": 37,
   "id": "539ca09b",
   "metadata": {},
   "outputs": [],
   "source": [
    "def train(df, y, C= 1.0):\n",
    "    dicts = df[categorical + numerical].to_dict(orient = 'records')\n",
    "    \n",
    "    dv = DictVectorizer(sparse=False)\n",
    "    X_train = dv.fit_transform(dicts)\n",
    "    \n",
    "    model = LogisticRegression(C=C, max_iter=10000)\n",
    "    model.fit(X_train, y)\n",
    "    \n",
    "    return dv, model"
   ]
  },
  {
   "cell_type": "code",
   "execution_count": 38,
   "id": "27c1c503",
   "metadata": {},
   "outputs": [],
   "source": [
    "from tqdm.auto import tqdm"
   ]
  },
  {
   "cell_type": "markdown",
   "id": "91bcf706",
   "metadata": {},
   "source": [
    "## Answer 6"
   ]
  },
  {
   "cell_type": "code",
   "execution_count": 40,
   "id": "6a9d8712",
   "metadata": {},
   "outputs": [
    {
     "name": "stderr",
     "output_type": "stream",
     "text": [
      "100%|██████████| 5/5 [00:00<00:00, 23.05it/s]\n"
     ]
    },
    {
     "name": "stdout",
     "output_type": "stream",
     "text": [
      "1e-06 - 0.5606368172975525 - 0.023973568035497696\n"
     ]
    },
    {
     "name": "stderr",
     "output_type": "stream",
     "text": [
      "100%|██████████| 5/5 [00:00<00:00,  9.35it/s]\n"
     ]
    },
    {
     "name": "stdout",
     "output_type": "stream",
     "text": [
      "0.001 - 0.8675514531651511 - 0.019080215702293297\n"
     ]
    },
    {
     "name": "stderr",
     "output_type": "stream",
     "text": [
      "100%|██████████| 5/5 [00:02<00:00,  2.01it/s]"
     ]
    },
    {
     "name": "stdout",
     "output_type": "stream",
     "text": [
      "1 - 0.9209041711116314 - 0.011018756799007634\n"
     ]
    },
    {
     "name": "stderr",
     "output_type": "stream",
     "text": [
      "\n"
     ]
    }
   ],
   "source": [
    "n_splits = 5\n",
    "for C in [0.000001, 0.001, 1]:\n",
    "    kfold = KFold(n_splits=n_splits, shuffle=True, random_state=1)\n",
    "    \n",
    "    scores = []\n",
    "    \n",
    "    for train_idx, val_idx in tqdm(kfold.split(df_full_train), total=n_splits):\n",
    "        df_train = df_full_train.iloc[train_idx]\n",
    "        df_val = df_full_train.iloc[val_idx]\n",
    "        \n",
    "        y_train = df_train.converted.values\n",
    "        y_val = df_val.converted.values\n",
    "        \n",
    "        dv, model = train(df_train, y_train, C=C)\n",
    "        y_pred = predict(df_val, dv, model)\n",
    "        auc = roc_auc_score(y_val, y_pred)\n",
    "        scores.append(auc)\n",
    "        \n",
    "    print(f'{C} - {np.mean(scores)} - {np.std(scores)}') \n",
    "        \n",
    "        "
   ]
  }
 ],
 "metadata": {
  "kernelspec": {
   "display_name": "AIVenv",
   "language": "python",
   "name": "python3"
  },
  "language_info": {
   "codemirror_mode": {
    "name": "ipython",
    "version": 3
   },
   "file_extension": ".py",
   "mimetype": "text/x-python",
   "name": "python",
   "nbconvert_exporter": "python",
   "pygments_lexer": "ipython3",
   "version": "3.10.12"
  }
 },
 "nbformat": 4,
 "nbformat_minor": 5
}
